{
  "nbformat": 4,
  "nbformat_minor": 0,
  "metadata": {
    "colab": {
      "name": "Entity_Linking_UMLS.ipynb",
      "provenance": [],
      "collapsed_sections": [],
      "machine_shape": "hm"
    },
    "kernelspec": {
      "name": "python3",
      "display_name": "Python 3"
    },
    "accelerator": "GPU"
  },
  "cells": [
    {
      "cell_type": "code",
      "metadata": {
        "id": "LS0BC5oErcAP",
        "colab": {
          "base_uri": "https://localhost:8080/"
        },
        "outputId": "07e271b8-4e2f-47b7-a35c-aece7da0459f"
      },
      "source": [
        "from google.colab import drive\n",
        "drive.mount('/content/drive')"
      ],
      "execution_count": null,
      "outputs": [
        {
          "output_type": "stream",
          "name": "stdout",
          "text": [
            "Mounted at /content/drive\n"
          ]
        }
      ]
    },
    {
      "cell_type": "code",
      "metadata": {
        "id": "sT8qQNCSreSW",
        "colab": {
          "base_uri": "https://localhost:8080/"
        },
        "outputId": "c44c146a-1688-41c5-b04d-bb0d8e7012bb"
      },
      "source": [
        "%cd drive/My\\ Drive/Colab\\ Notebooks/apex-codes/entity_sum"
      ],
      "execution_count": null,
      "outputs": [
        {
          "output_type": "stream",
          "name": "stdout",
          "text": [
            "/content/drive/My Drive/Colab Notebooks/apex-codes/entity_sum\n"
          ]
        }
      ]
    },
    {
      "cell_type": "code",
      "metadata": {
        "colab": {
          "base_uri": "https://localhost:8080/"
        },
        "id": "E5qKrgfQYmVg",
        "outputId": "e21f2bcd-b4e7-48e5-db3e-9dc01bae3588"
      },
      "source": [
        "!pip install scispacy\n",
        "!pip install https://s3-us-west-2.amazonaws.com/ai2-s2-scispacy/releases/v0.3.0/en_core_sci_sm-0.3.0.tar.gz\n",
        "!pip install https://s3-us-west-2.amazonaws.com/ai2-s2-scispacy/releases/v0.4.0/en_ner_bc5cdr_md-0.4.0.tar.gz\n",
        "\n",
        "!python -m spacy download en"
      ],
      "execution_count": null,
      "outputs": [
        {
          "output_type": "stream",
          "name": "stdout",
          "text": [
            "Collecting scispacy\n",
            "  Downloading scispacy-0.4.0-py3-none-any.whl (44 kB)\n",
            "\u001b[?25l\r\u001b[K     |███████▍                        | 10 kB 35.6 MB/s eta 0:00:01\r\u001b[K     |██████████████▉                 | 20 kB 26.7 MB/s eta 0:00:01\r\u001b[K     |██████████████████████▏         | 30 kB 19.2 MB/s eta 0:00:01\r\u001b[K     |█████████████████████████████▋  | 40 kB 16.9 MB/s eta 0:00:01\r\u001b[K     |████████████████████████████████| 44 kB 1.8 MB/s \n",
            "\u001b[?25hRequirement already satisfied: requests<3.0.0,>=2.0.0 in /usr/local/lib/python3.7/dist-packages (from scispacy) (2.23.0)\n",
            "Collecting nmslib>=1.7.3.6\n",
            "  Downloading nmslib-2.1.1-cp37-cp37m-manylinux2010_x86_64.whl (13.5 MB)\n",
            "\u001b[K     |████████████████████████████████| 13.5 MB 9.8 MB/s \n",
            "\u001b[?25hCollecting conllu\n",
            "  Downloading conllu-4.4.1-py2.py3-none-any.whl (15 kB)\n",
            "Requirement already satisfied: joblib in /usr/local/lib/python3.7/dist-packages (from scispacy) (1.0.1)\n",
            "Collecting spacy<3.1.0,>=3.0.0\n",
            "  Downloading spacy-3.0.7-cp37-cp37m-manylinux_2_17_x86_64.manylinux2014_x86_64.whl (6.3 MB)\n",
            "\u001b[K     |████████████████████████████████| 6.3 MB 25.4 MB/s \n",
            "\u001b[?25hCollecting pysbd\n",
            "  Downloading pysbd-0.3.4-py3-none-any.whl (71 kB)\n",
            "\u001b[K     |████████████████████████████████| 71 kB 12.6 MB/s \n",
            "\u001b[?25hRequirement already satisfied: numpy in /usr/local/lib/python3.7/dist-packages (from scispacy) (1.19.5)\n",
            "Requirement already satisfied: scikit-learn>=0.20.3 in /usr/local/lib/python3.7/dist-packages (from scispacy) (0.22.2.post1)\n",
            "Requirement already satisfied: psutil in /usr/local/lib/python3.7/dist-packages (from nmslib>=1.7.3.6->scispacy) (5.4.8)\n",
            "Collecting pybind11<2.6.2\n",
            "  Downloading pybind11-2.6.1-py2.py3-none-any.whl (188 kB)\n",
            "\u001b[K     |████████████████████████████████| 188 kB 99.7 MB/s \n",
            "\u001b[?25hRequirement already satisfied: urllib3!=1.25.0,!=1.25.1,<1.26,>=1.21.1 in /usr/local/lib/python3.7/dist-packages (from requests<3.0.0,>=2.0.0->scispacy) (1.24.3)\n",
            "Requirement already satisfied: idna<3,>=2.5 in /usr/local/lib/python3.7/dist-packages (from requests<3.0.0,>=2.0.0->scispacy) (2.10)\n",
            "Requirement already satisfied: certifi>=2017.4.17 in /usr/local/lib/python3.7/dist-packages (from requests<3.0.0,>=2.0.0->scispacy) (2021.5.30)\n",
            "Requirement already satisfied: chardet<4,>=3.0.2 in /usr/local/lib/python3.7/dist-packages (from requests<3.0.0,>=2.0.0->scispacy) (3.0.4)\n",
            "Requirement already satisfied: scipy>=0.17.0 in /usr/local/lib/python3.7/dist-packages (from scikit-learn>=0.20.3->scispacy) (1.4.1)\n",
            "Requirement already satisfied: typing-extensions<4.0.0.0,>=3.7.4 in /usr/local/lib/python3.7/dist-packages (from spacy<3.1.0,>=3.0.0->scispacy) (3.7.4.3)\n",
            "Requirement already satisfied: setuptools in /usr/local/lib/python3.7/dist-packages (from spacy<3.1.0,>=3.0.0->scispacy) (57.4.0)\n",
            "Requirement already satisfied: wasabi<1.1.0,>=0.8.1 in /usr/local/lib/python3.7/dist-packages (from spacy<3.1.0,>=3.0.0->scispacy) (0.8.2)\n",
            "Requirement already satisfied: murmurhash<1.1.0,>=0.28.0 in /usr/local/lib/python3.7/dist-packages (from spacy<3.1.0,>=3.0.0->scispacy) (1.0.5)\n",
            "Requirement already satisfied: blis<0.8.0,>=0.4.0 in /usr/local/lib/python3.7/dist-packages (from spacy<3.1.0,>=3.0.0->scispacy) (0.4.1)\n",
            "Collecting srsly<3.0.0,>=2.4.1\n",
            "  Downloading srsly-2.4.1-cp37-cp37m-manylinux2014_x86_64.whl (456 kB)\n",
            "\u001b[K     |████████████████████████████████| 456 kB 72.2 MB/s \n",
            "\u001b[?25hCollecting typer<0.4.0,>=0.3.0\n",
            "  Downloading typer-0.3.2-py3-none-any.whl (21 kB)\n",
            "Collecting pathy>=0.3.5\n",
            "  Downloading pathy-0.6.0-py3-none-any.whl (42 kB)\n",
            "\u001b[K     |████████████████████████████████| 42 kB 2.0 MB/s \n",
            "\u001b[?25hRequirement already satisfied: tqdm<5.0.0,>=4.38.0 in /usr/local/lib/python3.7/dist-packages (from spacy<3.1.0,>=3.0.0->scispacy) (4.62.2)\n",
            "Requirement already satisfied: cymem<2.1.0,>=2.0.2 in /usr/local/lib/python3.7/dist-packages (from spacy<3.1.0,>=3.0.0->scispacy) (2.0.5)\n",
            "Requirement already satisfied: jinja2 in /usr/local/lib/python3.7/dist-packages (from spacy<3.1.0,>=3.0.0->scispacy) (2.11.3)\n",
            "Collecting pydantic!=1.8,!=1.8.1,<1.9.0,>=1.7.4\n",
            "  Downloading pydantic-1.8.2-cp37-cp37m-manylinux2014_x86_64.whl (10.1 MB)\n",
            "\u001b[K     |████████████████████████████████| 10.1 MB 78.5 MB/s \n",
            "\u001b[?25hRequirement already satisfied: preshed<3.1.0,>=3.0.2 in /usr/local/lib/python3.7/dist-packages (from spacy<3.1.0,>=3.0.0->scispacy) (3.0.5)\n",
            "Collecting spacy-legacy<3.1.0,>=3.0.5\n",
            "  Downloading spacy_legacy-3.0.8-py2.py3-none-any.whl (14 kB)\n",
            "Requirement already satisfied: packaging>=20.0 in /usr/local/lib/python3.7/dist-packages (from spacy<3.1.0,>=3.0.0->scispacy) (21.0)\n",
            "Collecting catalogue<2.1.0,>=2.0.4\n",
            "  Downloading catalogue-2.0.6-py3-none-any.whl (17 kB)\n",
            "Collecting thinc<8.1.0,>=8.0.3\n",
            "  Downloading thinc-8.0.10-cp37-cp37m-manylinux_2_17_x86_64.manylinux2014_x86_64.whl (623 kB)\n",
            "\u001b[K     |████████████████████████████████| 623 kB 96.0 MB/s \n",
            "\u001b[?25hRequirement already satisfied: zipp>=0.5 in /usr/local/lib/python3.7/dist-packages (from catalogue<2.1.0,>=2.0.4->spacy<3.1.0,>=3.0.0->scispacy) (3.5.0)\n",
            "Requirement already satisfied: pyparsing>=2.0.2 in /usr/local/lib/python3.7/dist-packages (from packaging>=20.0->spacy<3.1.0,>=3.0.0->scispacy) (2.4.7)\n",
            "Requirement already satisfied: smart-open<6.0.0,>=5.0.0 in /usr/local/lib/python3.7/dist-packages (from pathy>=0.3.5->spacy<3.1.0,>=3.0.0->scispacy) (5.2.1)\n",
            "Requirement already satisfied: click<7.2.0,>=7.1.1 in /usr/local/lib/python3.7/dist-packages (from typer<0.4.0,>=0.3.0->spacy<3.1.0,>=3.0.0->scispacy) (7.1.2)\n",
            "Requirement already satisfied: MarkupSafe>=0.23 in /usr/local/lib/python3.7/dist-packages (from jinja2->spacy<3.1.0,>=3.0.0->scispacy) (2.0.1)\n",
            "Installing collected packages: catalogue, typer, srsly, pydantic, thinc, spacy-legacy, pybind11, pathy, spacy, pysbd, nmslib, conllu, scispacy\n",
            "  Attempting uninstall: catalogue\n",
            "    Found existing installation: catalogue 1.0.0\n",
            "    Uninstalling catalogue-1.0.0:\n",
            "      Successfully uninstalled catalogue-1.0.0\n",
            "  Attempting uninstall: srsly\n",
            "    Found existing installation: srsly 1.0.5\n",
            "    Uninstalling srsly-1.0.5:\n",
            "      Successfully uninstalled srsly-1.0.5\n",
            "  Attempting uninstall: thinc\n",
            "    Found existing installation: thinc 7.4.0\n",
            "    Uninstalling thinc-7.4.0:\n",
            "      Successfully uninstalled thinc-7.4.0\n",
            "  Attempting uninstall: spacy\n",
            "    Found existing installation: spacy 2.2.4\n",
            "    Uninstalling spacy-2.2.4:\n",
            "      Successfully uninstalled spacy-2.2.4\n",
            "Successfully installed catalogue-2.0.6 conllu-4.4.1 nmslib-2.1.1 pathy-0.6.0 pybind11-2.6.1 pydantic-1.8.2 pysbd-0.3.4 scispacy-0.4.0 spacy-3.0.7 spacy-legacy-3.0.8 srsly-2.4.1 thinc-8.0.10 typer-0.3.2\n",
            "Collecting https://s3-us-west-2.amazonaws.com/ai2-s2-scispacy/releases/v0.3.0/en_core_sci_sm-0.3.0.tar.gz\n",
            "  Downloading https://s3-us-west-2.amazonaws.com/ai2-s2-scispacy/releases/v0.3.0/en_core_sci_sm-0.3.0.tar.gz (33.1 MB)\n",
            "\u001b[K     |████████████████████████████████| 33.1 MB 24 kB/s \n",
            "\u001b[?25hRequirement already satisfied: spacy>=2.3.1 in /usr/local/lib/python3.7/dist-packages (from en-core-sci-sm==0.3.0) (3.0.7)\n",
            "Requirement already satisfied: wasabi<1.1.0,>=0.8.1 in /usr/local/lib/python3.7/dist-packages (from spacy>=2.3.1->en-core-sci-sm==0.3.0) (0.8.2)\n",
            "Requirement already satisfied: jinja2 in /usr/local/lib/python3.7/dist-packages (from spacy>=2.3.1->en-core-sci-sm==0.3.0) (2.11.3)\n",
            "Requirement already satisfied: srsly<3.0.0,>=2.4.1 in /usr/local/lib/python3.7/dist-packages (from spacy>=2.3.1->en-core-sci-sm==0.3.0) (2.4.1)\n",
            "Requirement already satisfied: typing-extensions<4.0.0.0,>=3.7.4 in /usr/local/lib/python3.7/dist-packages (from spacy>=2.3.1->en-core-sci-sm==0.3.0) (3.7.4.3)\n",
            "Requirement already satisfied: setuptools in /usr/local/lib/python3.7/dist-packages (from spacy>=2.3.1->en-core-sci-sm==0.3.0) (57.4.0)\n",
            "Requirement already satisfied: pydantic!=1.8,!=1.8.1,<1.9.0,>=1.7.4 in /usr/local/lib/python3.7/dist-packages (from spacy>=2.3.1->en-core-sci-sm==0.3.0) (1.8.2)\n",
            "Requirement already satisfied: blis<0.8.0,>=0.4.0 in /usr/local/lib/python3.7/dist-packages (from spacy>=2.3.1->en-core-sci-sm==0.3.0) (0.4.1)\n",
            "Requirement already satisfied: numpy>=1.15.0 in /usr/local/lib/python3.7/dist-packages (from spacy>=2.3.1->en-core-sci-sm==0.3.0) (1.19.5)\n",
            "Requirement already satisfied: typer<0.4.0,>=0.3.0 in /usr/local/lib/python3.7/dist-packages (from spacy>=2.3.1->en-core-sci-sm==0.3.0) (0.3.2)\n",
            "Requirement already satisfied: preshed<3.1.0,>=3.0.2 in /usr/local/lib/python3.7/dist-packages (from spacy>=2.3.1->en-core-sci-sm==0.3.0) (3.0.5)\n",
            "Requirement already satisfied: spacy-legacy<3.1.0,>=3.0.5 in /usr/local/lib/python3.7/dist-packages (from spacy>=2.3.1->en-core-sci-sm==0.3.0) (3.0.8)\n",
            "Requirement already satisfied: cymem<2.1.0,>=2.0.2 in /usr/local/lib/python3.7/dist-packages (from spacy>=2.3.1->en-core-sci-sm==0.3.0) (2.0.5)\n",
            "Requirement already satisfied: requests<3.0.0,>=2.13.0 in /usr/local/lib/python3.7/dist-packages (from spacy>=2.3.1->en-core-sci-sm==0.3.0) (2.23.0)\n",
            "Requirement already satisfied: tqdm<5.0.0,>=4.38.0 in /usr/local/lib/python3.7/dist-packages (from spacy>=2.3.1->en-core-sci-sm==0.3.0) (4.62.2)\n",
            "Requirement already satisfied: packaging>=20.0 in /usr/local/lib/python3.7/dist-packages (from spacy>=2.3.1->en-core-sci-sm==0.3.0) (21.0)\n",
            "Requirement already satisfied: pathy>=0.3.5 in /usr/local/lib/python3.7/dist-packages (from spacy>=2.3.1->en-core-sci-sm==0.3.0) (0.6.0)\n",
            "Requirement already satisfied: thinc<8.1.0,>=8.0.3 in /usr/local/lib/python3.7/dist-packages (from spacy>=2.3.1->en-core-sci-sm==0.3.0) (8.0.10)\n",
            "Requirement already satisfied: catalogue<2.1.0,>=2.0.4 in /usr/local/lib/python3.7/dist-packages (from spacy>=2.3.1->en-core-sci-sm==0.3.0) (2.0.6)\n",
            "Requirement already satisfied: murmurhash<1.1.0,>=0.28.0 in /usr/local/lib/python3.7/dist-packages (from spacy>=2.3.1->en-core-sci-sm==0.3.0) (1.0.5)\n",
            "Requirement already satisfied: zipp>=0.5 in /usr/local/lib/python3.7/dist-packages (from catalogue<2.1.0,>=2.0.4->spacy>=2.3.1->en-core-sci-sm==0.3.0) (3.5.0)\n",
            "Requirement already satisfied: pyparsing>=2.0.2 in /usr/local/lib/python3.7/dist-packages (from packaging>=20.0->spacy>=2.3.1->en-core-sci-sm==0.3.0) (2.4.7)\n",
            "Requirement already satisfied: smart-open<6.0.0,>=5.0.0 in /usr/local/lib/python3.7/dist-packages (from pathy>=0.3.5->spacy>=2.3.1->en-core-sci-sm==0.3.0) (5.2.1)\n",
            "Requirement already satisfied: idna<3,>=2.5 in /usr/local/lib/python3.7/dist-packages (from requests<3.0.0,>=2.13.0->spacy>=2.3.1->en-core-sci-sm==0.3.0) (2.10)\n",
            "Requirement already satisfied: certifi>=2017.4.17 in /usr/local/lib/python3.7/dist-packages (from requests<3.0.0,>=2.13.0->spacy>=2.3.1->en-core-sci-sm==0.3.0) (2021.5.30)\n",
            "Requirement already satisfied: chardet<4,>=3.0.2 in /usr/local/lib/python3.7/dist-packages (from requests<3.0.0,>=2.13.0->spacy>=2.3.1->en-core-sci-sm==0.3.0) (3.0.4)\n",
            "Requirement already satisfied: urllib3!=1.25.0,!=1.25.1,<1.26,>=1.21.1 in /usr/local/lib/python3.7/dist-packages (from requests<3.0.0,>=2.13.0->spacy>=2.3.1->en-core-sci-sm==0.3.0) (1.24.3)\n",
            "Requirement already satisfied: click<7.2.0,>=7.1.1 in /usr/local/lib/python3.7/dist-packages (from typer<0.4.0,>=0.3.0->spacy>=2.3.1->en-core-sci-sm==0.3.0) (7.1.2)\n",
            "Requirement already satisfied: MarkupSafe>=0.23 in /usr/local/lib/python3.7/dist-packages (from jinja2->spacy>=2.3.1->en-core-sci-sm==0.3.0) (2.0.1)\n",
            "Building wheels for collected packages: en-core-sci-sm\n",
            "  Building wheel for en-core-sci-sm (setup.py) ... \u001b[?25l\u001b[?25hdone\n",
            "  Created wheel for en-core-sci-sm: filename=en_core_sci_sm-0.3.0-py3-none-any.whl size=33119278 sha256=1347552a7027d9d27f85e6ef5399c3f86d431e3caf070310fc95533acc790f82\n",
            "  Stored in directory: /root/.cache/pip/wheels/c1/ac/bc/75799930092270c4efedabe938585fee0abc61d53d15dc6ea6\n",
            "Successfully built en-core-sci-sm\n",
            "Installing collected packages: en-core-sci-sm\n",
            "Successfully installed en-core-sci-sm-0.3.0\n",
            "Collecting https://s3-us-west-2.amazonaws.com/ai2-s2-scispacy/releases/v0.4.0/en_ner_bc5cdr_md-0.4.0.tar.gz\n",
            "  Downloading https://s3-us-west-2.amazonaws.com/ai2-s2-scispacy/releases/v0.4.0/en_ner_bc5cdr_md-0.4.0.tar.gz (125.1 MB)\n",
            "\u001b[K     |████████████████████████████████| 125.1 MB 15 kB/s \n",
            "\u001b[?25hRequirement already satisfied: spacy<3.1.0,>=3.0.1 in /usr/local/lib/python3.7/dist-packages (from en-ner-bc5cdr-md==0.4.0) (3.0.7)\n",
            "Requirement already satisfied: typer<0.4.0,>=0.3.0 in /usr/local/lib/python3.7/dist-packages (from spacy<3.1.0,>=3.0.1->en-ner-bc5cdr-md==0.4.0) (0.3.2)\n",
            "Requirement already satisfied: requests<3.0.0,>=2.13.0 in /usr/local/lib/python3.7/dist-packages (from spacy<3.1.0,>=3.0.1->en-ner-bc5cdr-md==0.4.0) (2.23.0)\n",
            "Requirement already satisfied: spacy-legacy<3.1.0,>=3.0.5 in /usr/local/lib/python3.7/dist-packages (from spacy<3.1.0,>=3.0.1->en-ner-bc5cdr-md==0.4.0) (3.0.8)\n",
            "Requirement already satisfied: tqdm<5.0.0,>=4.38.0 in /usr/local/lib/python3.7/dist-packages (from spacy<3.1.0,>=3.0.1->en-ner-bc5cdr-md==0.4.0) (4.62.2)\n",
            "Requirement already satisfied: preshed<3.1.0,>=3.0.2 in /usr/local/lib/python3.7/dist-packages (from spacy<3.1.0,>=3.0.1->en-ner-bc5cdr-md==0.4.0) (3.0.5)\n",
            "Requirement already satisfied: srsly<3.0.0,>=2.4.1 in /usr/local/lib/python3.7/dist-packages (from spacy<3.1.0,>=3.0.1->en-ner-bc5cdr-md==0.4.0) (2.4.1)\n",
            "Requirement already satisfied: numpy>=1.15.0 in /usr/local/lib/python3.7/dist-packages (from spacy<3.1.0,>=3.0.1->en-ner-bc5cdr-md==0.4.0) (1.19.5)\n",
            "Requirement already satisfied: catalogue<2.1.0,>=2.0.4 in /usr/local/lib/python3.7/dist-packages (from spacy<3.1.0,>=3.0.1->en-ner-bc5cdr-md==0.4.0) (2.0.6)\n",
            "Requirement already satisfied: packaging>=20.0 in /usr/local/lib/python3.7/dist-packages (from spacy<3.1.0,>=3.0.1->en-ner-bc5cdr-md==0.4.0) (21.0)\n",
            "Requirement already satisfied: typing-extensions<4.0.0.0,>=3.7.4 in /usr/local/lib/python3.7/dist-packages (from spacy<3.1.0,>=3.0.1->en-ner-bc5cdr-md==0.4.0) (3.7.4.3)\n",
            "Requirement already satisfied: jinja2 in /usr/local/lib/python3.7/dist-packages (from spacy<3.1.0,>=3.0.1->en-ner-bc5cdr-md==0.4.0) (2.11.3)\n",
            "Requirement already satisfied: wasabi<1.1.0,>=0.8.1 in /usr/local/lib/python3.7/dist-packages (from spacy<3.1.0,>=3.0.1->en-ner-bc5cdr-md==0.4.0) (0.8.2)\n",
            "Requirement already satisfied: murmurhash<1.1.0,>=0.28.0 in /usr/local/lib/python3.7/dist-packages (from spacy<3.1.0,>=3.0.1->en-ner-bc5cdr-md==0.4.0) (1.0.5)\n",
            "Requirement already satisfied: pathy>=0.3.5 in /usr/local/lib/python3.7/dist-packages (from spacy<3.1.0,>=3.0.1->en-ner-bc5cdr-md==0.4.0) (0.6.0)\n",
            "Requirement already satisfied: setuptools in /usr/local/lib/python3.7/dist-packages (from spacy<3.1.0,>=3.0.1->en-ner-bc5cdr-md==0.4.0) (57.4.0)\n",
            "Requirement already satisfied: thinc<8.1.0,>=8.0.3 in /usr/local/lib/python3.7/dist-packages (from spacy<3.1.0,>=3.0.1->en-ner-bc5cdr-md==0.4.0) (8.0.10)\n",
            "Requirement already satisfied: cymem<2.1.0,>=2.0.2 in /usr/local/lib/python3.7/dist-packages (from spacy<3.1.0,>=3.0.1->en-ner-bc5cdr-md==0.4.0) (2.0.5)\n",
            "Requirement already satisfied: pydantic!=1.8,!=1.8.1,<1.9.0,>=1.7.4 in /usr/local/lib/python3.7/dist-packages (from spacy<3.1.0,>=3.0.1->en-ner-bc5cdr-md==0.4.0) (1.8.2)\n",
            "Requirement already satisfied: blis<0.8.0,>=0.4.0 in /usr/local/lib/python3.7/dist-packages (from spacy<3.1.0,>=3.0.1->en-ner-bc5cdr-md==0.4.0) (0.4.1)\n",
            "Requirement already satisfied: zipp>=0.5 in /usr/local/lib/python3.7/dist-packages (from catalogue<2.1.0,>=2.0.4->spacy<3.1.0,>=3.0.1->en-ner-bc5cdr-md==0.4.0) (3.5.0)\n",
            "Requirement already satisfied: pyparsing>=2.0.2 in /usr/local/lib/python3.7/dist-packages (from packaging>=20.0->spacy<3.1.0,>=3.0.1->en-ner-bc5cdr-md==0.4.0) (2.4.7)\n",
            "Requirement already satisfied: smart-open<6.0.0,>=5.0.0 in /usr/local/lib/python3.7/dist-packages (from pathy>=0.3.5->spacy<3.1.0,>=3.0.1->en-ner-bc5cdr-md==0.4.0) (5.2.1)\n",
            "Requirement already satisfied: idna<3,>=2.5 in /usr/local/lib/python3.7/dist-packages (from requests<3.0.0,>=2.13.0->spacy<3.1.0,>=3.0.1->en-ner-bc5cdr-md==0.4.0) (2.10)\n",
            "Requirement already satisfied: certifi>=2017.4.17 in /usr/local/lib/python3.7/dist-packages (from requests<3.0.0,>=2.13.0->spacy<3.1.0,>=3.0.1->en-ner-bc5cdr-md==0.4.0) (2021.5.30)\n",
            "Requirement already satisfied: urllib3!=1.25.0,!=1.25.1,<1.26,>=1.21.1 in /usr/local/lib/python3.7/dist-packages (from requests<3.0.0,>=2.13.0->spacy<3.1.0,>=3.0.1->en-ner-bc5cdr-md==0.4.0) (1.24.3)\n",
            "Requirement already satisfied: chardet<4,>=3.0.2 in /usr/local/lib/python3.7/dist-packages (from requests<3.0.0,>=2.13.0->spacy<3.1.0,>=3.0.1->en-ner-bc5cdr-md==0.4.0) (3.0.4)\n",
            "Requirement already satisfied: click<7.2.0,>=7.1.1 in /usr/local/lib/python3.7/dist-packages (from typer<0.4.0,>=0.3.0->spacy<3.1.0,>=3.0.1->en-ner-bc5cdr-md==0.4.0) (7.1.2)\n",
            "Requirement already satisfied: MarkupSafe>=0.23 in /usr/local/lib/python3.7/dist-packages (from jinja2->spacy<3.1.0,>=3.0.1->en-ner-bc5cdr-md==0.4.0) (2.0.1)\n",
            "Building wheels for collected packages: en-ner-bc5cdr-md\n",
            "  Building wheel for en-ner-bc5cdr-md (setup.py) ... \u001b[?25l\u001b[?25hdone\n",
            "  Created wheel for en-ner-bc5cdr-md: filename=en_ner_bc5cdr_md-0.4.0-py3-none-any.whl size=125666882 sha256=120db06252beef5e95ee45456197e14df2785780f19cb25e507f87f6e9a6c636\n",
            "  Stored in directory: /root/.cache/pip/wheels/6a/17/04/ed8f50ffdcb9b9e4ce601c0c3cf88361f2b3f54a10c0fa0803\n",
            "Successfully built en-ner-bc5cdr-md\n",
            "Installing collected packages: en-ner-bc5cdr-md\n",
            "Successfully installed en-ner-bc5cdr-md-0.4.0\n",
            "\u001b[38;5;3m⚠ As of spaCy v3.0, shortcuts like 'en' are deprecated. Please use the\n",
            "full pipeline package name 'en_core_web_sm' instead.\u001b[0m\n",
            "Collecting en-core-web-sm==3.0.0\n",
            "  Downloading https://github.com/explosion/spacy-models/releases/download/en_core_web_sm-3.0.0/en_core_web_sm-3.0.0-py3-none-any.whl (13.7 MB)\n",
            "\u001b[K     |████████████████████████████████| 13.7 MB 8.0 MB/s \n",
            "\u001b[?25hRequirement already satisfied: spacy<3.1.0,>=3.0.0 in /usr/local/lib/python3.7/dist-packages (from en-core-web-sm==3.0.0) (3.0.7)\n",
            "Requirement already satisfied: murmurhash<1.1.0,>=0.28.0 in /usr/local/lib/python3.7/dist-packages (from spacy<3.1.0,>=3.0.0->en-core-web-sm==3.0.0) (1.0.5)\n",
            "Requirement already satisfied: typing-extensions<4.0.0.0,>=3.7.4 in /usr/local/lib/python3.7/dist-packages (from spacy<3.1.0,>=3.0.0->en-core-web-sm==3.0.0) (3.7.4.3)\n",
            "Requirement already satisfied: typer<0.4.0,>=0.3.0 in /usr/local/lib/python3.7/dist-packages (from spacy<3.1.0,>=3.0.0->en-core-web-sm==3.0.0) (0.3.2)\n",
            "Requirement already satisfied: thinc<8.1.0,>=8.0.3 in /usr/local/lib/python3.7/dist-packages (from spacy<3.1.0,>=3.0.0->en-core-web-sm==3.0.0) (8.0.10)\n",
            "Requirement already satisfied: requests<3.0.0,>=2.13.0 in /usr/local/lib/python3.7/dist-packages (from spacy<3.1.0,>=3.0.0->en-core-web-sm==3.0.0) (2.23.0)\n",
            "Requirement already satisfied: catalogue<2.1.0,>=2.0.4 in /usr/local/lib/python3.7/dist-packages (from spacy<3.1.0,>=3.0.0->en-core-web-sm==3.0.0) (2.0.6)\n",
            "Requirement already satisfied: jinja2 in /usr/local/lib/python3.7/dist-packages (from spacy<3.1.0,>=3.0.0->en-core-web-sm==3.0.0) (2.11.3)\n",
            "Requirement already satisfied: preshed<3.1.0,>=3.0.2 in /usr/local/lib/python3.7/dist-packages (from spacy<3.1.0,>=3.0.0->en-core-web-sm==3.0.0) (3.0.5)\n",
            "Requirement already satisfied: blis<0.8.0,>=0.4.0 in /usr/local/lib/python3.7/dist-packages (from spacy<3.1.0,>=3.0.0->en-core-web-sm==3.0.0) (0.4.1)\n",
            "Requirement already satisfied: pathy>=0.3.5 in /usr/local/lib/python3.7/dist-packages (from spacy<3.1.0,>=3.0.0->en-core-web-sm==3.0.0) (0.6.0)\n",
            "Requirement already satisfied: cymem<2.1.0,>=2.0.2 in /usr/local/lib/python3.7/dist-packages (from spacy<3.1.0,>=3.0.0->en-core-web-sm==3.0.0) (2.0.5)\n",
            "Requirement already satisfied: tqdm<5.0.0,>=4.38.0 in /usr/local/lib/python3.7/dist-packages (from spacy<3.1.0,>=3.0.0->en-core-web-sm==3.0.0) (4.62.2)\n",
            "Requirement already satisfied: packaging>=20.0 in /usr/local/lib/python3.7/dist-packages (from spacy<3.1.0,>=3.0.0->en-core-web-sm==3.0.0) (21.0)\n",
            "Requirement already satisfied: wasabi<1.1.0,>=0.8.1 in /usr/local/lib/python3.7/dist-packages (from spacy<3.1.0,>=3.0.0->en-core-web-sm==3.0.0) (0.8.2)\n",
            "Requirement already satisfied: numpy>=1.15.0 in /usr/local/lib/python3.7/dist-packages (from spacy<3.1.0,>=3.0.0->en-core-web-sm==3.0.0) (1.19.5)\n",
            "Requirement already satisfied: spacy-legacy<3.1.0,>=3.0.5 in /usr/local/lib/python3.7/dist-packages (from spacy<3.1.0,>=3.0.0->en-core-web-sm==3.0.0) (3.0.8)\n",
            "Requirement already satisfied: pydantic!=1.8,!=1.8.1,<1.9.0,>=1.7.4 in /usr/local/lib/python3.7/dist-packages (from spacy<3.1.0,>=3.0.0->en-core-web-sm==3.0.0) (1.8.2)\n",
            "Requirement already satisfied: setuptools in /usr/local/lib/python3.7/dist-packages (from spacy<3.1.0,>=3.0.0->en-core-web-sm==3.0.0) (57.4.0)\n",
            "Requirement already satisfied: srsly<3.0.0,>=2.4.1 in /usr/local/lib/python3.7/dist-packages (from spacy<3.1.0,>=3.0.0->en-core-web-sm==3.0.0) (2.4.1)\n",
            "Requirement already satisfied: zipp>=0.5 in /usr/local/lib/python3.7/dist-packages (from catalogue<2.1.0,>=2.0.4->spacy<3.1.0,>=3.0.0->en-core-web-sm==3.0.0) (3.5.0)\n",
            "Requirement already satisfied: pyparsing>=2.0.2 in /usr/local/lib/python3.7/dist-packages (from packaging>=20.0->spacy<3.1.0,>=3.0.0->en-core-web-sm==3.0.0) (2.4.7)\n",
            "Requirement already satisfied: smart-open<6.0.0,>=5.0.0 in /usr/local/lib/python3.7/dist-packages (from pathy>=0.3.5->spacy<3.1.0,>=3.0.0->en-core-web-sm==3.0.0) (5.2.1)\n",
            "Requirement already satisfied: chardet<4,>=3.0.2 in /usr/local/lib/python3.7/dist-packages (from requests<3.0.0,>=2.13.0->spacy<3.1.0,>=3.0.0->en-core-web-sm==3.0.0) (3.0.4)\n",
            "Requirement already satisfied: urllib3!=1.25.0,!=1.25.1,<1.26,>=1.21.1 in /usr/local/lib/python3.7/dist-packages (from requests<3.0.0,>=2.13.0->spacy<3.1.0,>=3.0.0->en-core-web-sm==3.0.0) (1.24.3)\n",
            "Requirement already satisfied: idna<3,>=2.5 in /usr/local/lib/python3.7/dist-packages (from requests<3.0.0,>=2.13.0->spacy<3.1.0,>=3.0.0->en-core-web-sm==3.0.0) (2.10)\n",
            "Requirement already satisfied: certifi>=2017.4.17 in /usr/local/lib/python3.7/dist-packages (from requests<3.0.0,>=2.13.0->spacy<3.1.0,>=3.0.0->en-core-web-sm==3.0.0) (2021.5.30)\n",
            "Requirement already satisfied: click<7.2.0,>=7.1.1 in /usr/local/lib/python3.7/dist-packages (from typer<0.4.0,>=0.3.0->spacy<3.1.0,>=3.0.0->en-core-web-sm==3.0.0) (7.1.2)\n",
            "Requirement already satisfied: MarkupSafe>=0.23 in /usr/local/lib/python3.7/dist-packages (from jinja2->spacy<3.1.0,>=3.0.0->en-core-web-sm==3.0.0) (2.0.1)\n",
            "Installing collected packages: en-core-web-sm\n",
            "  Attempting uninstall: en-core-web-sm\n",
            "    Found existing installation: en-core-web-sm 2.2.5\n",
            "    Uninstalling en-core-web-sm-2.2.5:\n",
            "      Successfully uninstalled en-core-web-sm-2.2.5\n",
            "Successfully installed en-core-web-sm-3.0.0\n",
            "\u001b[38;5;2m✔ Download and installation successful\u001b[0m\n",
            "You can now load the package via spacy.load('en_core_web_sm')\n"
          ]
        }
      ]
    },
    {
      "cell_type": "code",
      "metadata": {
        "id": "l85klovdbwxW"
      },
      "source": [
        "import spacy\n",
        "import scispacy\n",
        "import pandas as pd\n",
        "import numpy as np\n",
        "import pickle as pk\n",
        "from pprint import pprint\n",
        "import os\n",
        "\n",
        "from spacy import displacy\n",
        "import en_core_sci_sm\n",
        "from scispacy.abbreviation import AbbreviationDetector\n",
        "from scispacy.linking import EntityLinker\n",
        "from collections import OrderedDict,Counter\n",
        "\n",
        "from tqdm import tqdm\n",
        "tqdm.pandas()\n",
        "\n",
        "import warnings\n",
        "warnings.filterwarnings('ignore')"
      ],
      "execution_count": null,
      "outputs": []
    },
    {
      "cell_type": "code",
      "metadata": {
        "id": "BZCY9X3AajYd"
      },
      "source": [
        "def _read_medline_abstracts_w_entities(icd_chapter):\n",
        "  MEDLINE_ABSTRACTS_PATH = \"medline_abstracts_w_entities\"\n",
        "  df = pk.load( open(os.path.join(MEDLINE_ABSTRACTS_PATH, f\"{icd_chapter}.pk\"), \"rb\"))\n",
        "\n",
        "  return df"
      ],
      "execution_count": null,
      "outputs": []
    },
    {
      "cell_type": "code",
      "metadata": {
        "id": "2YH3Iy10ckm9"
      },
      "source": [
        "def entity_linker(linker_name, entity_name):\n",
        "  nlp = spacy.load(\"en_ner_bc5cdr_md\")\n",
        "  nlp.add_pipe(\"scispacy_linker\", config={\"resolve_abbreviations\": True, \"linker_name\": linker_name})\n",
        "  doc = nlp(entity_name)\n",
        "  \n",
        "  dict_cui_entity = {}\n",
        "  try:\n",
        "    entity = doc.ents[0]\n",
        "  except IndexError:\n",
        "    entity = 'NaN'\n",
        "  try:\n",
        "    linker = nlp.get_pipe(\"scispacy_linker\")\n",
        "    for umls_ent in entity._.kb_ents:\n",
        "      cui_id = linker.kb.cui_to_entity[umls_ent[0]].concept_id\n",
        "      umls_canonical_name = linker.kb.cui_to_entity[umls_ent[0]].canonical_name\n",
        "\n",
        "      dict_cui_entity[cui_id] = umls_canonical_name\n",
        "  except AttributeError:\n",
        "    pass\n",
        "  \n",
        "  return dict_cui_entity\n"
      ],
      "execution_count": null,
      "outputs": []
    },
    {
      "cell_type": "code",
      "metadata": {
        "id": "bIk8gz7lbHX4"
      },
      "source": [
        "icd_chapter = \"certain_infectious_or_parasitic_diseases_Medline\"\n",
        "\n",
        "\n",
        "dict_cluster_label_entities = _read_medline_abstracts_w_entities(icd_chapter)\n",
        "df = _read_medline_abstracts_w_entities(icd_chapter).drop(columns=['Named_Entities_mimic_w_i2b2'])\n"
      ],
      "execution_count": null,
      "outputs": []
    },
    {
      "cell_type": "code",
      "metadata": {
        "colab": {
          "base_uri": "https://localhost:8080/",
          "height": 202
        },
        "id": "rEkuALTWbO9-",
        "outputId": "a47d43ce-fb39-447a-8150-0b6d697741cf"
      },
      "source": [
        "df.head()"
      ],
      "execution_count": null,
      "outputs": [
        {
          "output_type": "execute_result",
          "data": {
            "text/html": [
              "<div>\n",
              "<style scoped>\n",
              "    .dataframe tbody tr th:only-of-type {\n",
              "        vertical-align: middle;\n",
              "    }\n",
              "\n",
              "    .dataframe tbody tr th {\n",
              "        vertical-align: top;\n",
              "    }\n",
              "\n",
              "    .dataframe thead th {\n",
              "        text-align: right;\n",
              "    }\n",
              "</style>\n",
              "<table border=\"1\" class=\"dataframe\">\n",
              "  <thead>\n",
              "    <tr style=\"text-align: right;\">\n",
              "      <th></th>\n",
              "      <th>PMID</th>\n",
              "      <th>Title</th>\n",
              "      <th>Abstract</th>\n",
              "      <th>Named_Entities_genia_w_BC5CDR</th>\n",
              "    </tr>\n",
              "  </thead>\n",
              "  <tbody>\n",
              "    <tr>\n",
              "      <th>0</th>\n",
              "      <td>33743560</td>\n",
              "      <td>Early complications of extracorporeal shockwav...</td>\n",
              "      <td>The aim of the study was to analyse the freque...</td>\n",
              "      <td>{'DISEASE': ['urolithiasis', 'urinary obstruct...</td>\n",
              "    </tr>\n",
              "    <tr>\n",
              "      <th>1</th>\n",
              "      <td>33743553</td>\n",
              "      <td>Seroprevalence of rubella virus among pregnant...</td>\n",
              "      <td>OBJECTIVES: This study aimed to determine rube...</td>\n",
              "      <td>{'DISEASE': ['rubella virus infectivity', 'rub...</td>\n",
              "    </tr>\n",
              "    <tr>\n",
              "      <th>2</th>\n",
              "      <td>33743550</td>\n",
              "      <td>Responsible Inclusion of Pregnant Individuals ...</td>\n",
              "      <td>Hepatitis C virus (HCV) infections have increa...</td>\n",
              "      <td>{'DISEASE': ['Hepatitis C virus (HCV) infectio...</td>\n",
              "    </tr>\n",
              "    <tr>\n",
              "      <th>3</th>\n",
              "      <td>33743545</td>\n",
              "      <td>Brucellosis in Transplant Recipients: A System...</td>\n",
              "      <td>BACKGROUND: Brucellosis, a bacterial disease c...</td>\n",
              "      <td>{'DISEASE': ['Brucellosis', 'bacterial disease...</td>\n",
              "    </tr>\n",
              "    <tr>\n",
              "      <th>4</th>\n",
              "      <td>33743541</td>\n",
              "      <td>A Prospective Study Evaluating Changes in Hist...</td>\n",
              "      <td>INTRODUCTION: Histological and clinical outcom...</td>\n",
              "      <td>{'DISEASE': ['coinfection', 'HBV-HIV co-infect...</td>\n",
              "    </tr>\n",
              "  </tbody>\n",
              "</table>\n",
              "</div>"
            ],
            "text/plain": [
              "       PMID  ...                      Named_Entities_genia_w_BC5CDR\n",
              "0  33743560  ...  {'DISEASE': ['urolithiasis', 'urinary obstruct...\n",
              "1  33743553  ...  {'DISEASE': ['rubella virus infectivity', 'rub...\n",
              "2  33743550  ...  {'DISEASE': ['Hepatitis C virus (HCV) infectio...\n",
              "3  33743545  ...  {'DISEASE': ['Brucellosis', 'bacterial disease...\n",
              "4  33743541  ...  {'DISEASE': ['coinfection', 'HBV-HIV co-infect...\n",
              "\n",
              "[5 rows x 4 columns]"
            ]
          },
          "metadata": {},
          "execution_count": 8
        }
      ]
    },
    {
      "cell_type": "code",
      "metadata": {
        "colab": {
          "base_uri": "https://localhost:8080/"
        },
        "id": "nunfr7lO90YB",
        "outputId": "e4b899bf-c385-427e-93ea-11dac7855874"
      },
      "source": [
        "KB_linkers = ['umls', 'hpo', 'rxnorm', 'mesh']\n",
        "linker_name = KB_linkers[0]\n",
        "\n",
        "lst_idx = 0\n",
        "disease_idx = 6\n",
        "\n",
        "#entity_name = df['Named_Entities_genia_w_BC5CDR'].values[lst_idx]['DISEASE'][disease_idx]\n",
        "entity_name = \"coronary artery disease\"\n",
        "\n",
        "print(entity_name)\n",
        "dict_cui_entity = entity_linker(linker_name, entity_name)"
      ],
      "execution_count": null,
      "outputs": [
        {
          "output_type": "stream",
          "name": "stdout",
          "text": [
            "coronary artery disease\n",
            "https://s3-us-west-2.amazonaws.com/ai2-s2-scispacy/data/linkers/2020-10-09/umls/tfidf_vectors_sparse.npz not found in cache, downloading to /tmp/tmp7j1xtk4m\n",
            "Finished download, copying /tmp/tmp7j1xtk4m to cache at /root/.scispacy/datasets/e9f7327283e43f0482f7c0c71b71dec278a58ccb3ffdd03c2c2350159e7ef146.f2a350ad19015b2591545f7feeed6a6d6d2fffcd635d868a5d7fc0dfc3cadfd8.tfidf_vectors_sparse.npz\n",
            "https://s3-us-west-2.amazonaws.com/ai2-s2-scispacy/data/linkers/2020-10-09/umls/nmslib_index.bin not found in cache, downloading to /tmp/tmp3ljg_g5z\n",
            "Finished download, copying /tmp/tmp3ljg_g5z to cache at /root/.scispacy/datasets/f48455d6c79262057cce66b4619123c2b558b21092d42fac97f47bb99a5b8f9f.dd70d3dffe7d90d7ac8914460e16a48375dab32485fb6313a34e6fbcaf53218b.nmslib_index.bin\n",
            "https://s3-us-west-2.amazonaws.com/ai2-s2-scispacy/data/linkers/2020-10-09/umls/tfidf_vectorizer.joblib not found in cache, downloading to /tmp/tmp_iw5h6bc\n",
            "Finished download, copying /tmp/tmp_iw5h6bc to cache at /root/.scispacy/datasets/8c32f1e7ddf19ec695c321f68a71f06a191aec8efcf6b645b78fa6250d8d81d3.89019b4a62a096f33ea23677557a4cde66ebc8228f30afabac38e32f834020dc.tfidf_vectorizer.joblib\n"
          ]
        },
        {
          "output_type": "stream",
          "name": "stderr",
          "text": [
            "/usr/local/lib/python3.7/dist-packages/sklearn/base.py:318: UserWarning: Trying to unpickle estimator TfidfTransformer from version 0.20.3 when using version 0.22.2.post1. This might lead to breaking code or invalid results. Use at your own risk.\n",
            "  UserWarning)\n",
            "/usr/local/lib/python3.7/dist-packages/sklearn/base.py:318: UserWarning: Trying to unpickle estimator TfidfVectorizer from version 0.20.3 when using version 0.22.2.post1. This might lead to breaking code or invalid results. Use at your own risk.\n",
            "  UserWarning)\n"
          ]
        },
        {
          "output_type": "stream",
          "name": "stdout",
          "text": [
            "https://s3-us-west-2.amazonaws.com/ai2-s2-scispacy/data/linkers/2020-10-09/umls/concept_aliases.json not found in cache, downloading to /tmp/tmpnve4ggsv\n",
            "Finished download, copying /tmp/tmpnve4ggsv to cache at /root/.scispacy/datasets/1428ec15d3b1061731ea273c03699130b3d6b90948993e74bda66af605ff8e2a.aeb7a686c654df6bccb6c2c23d3eda3eb381daaefda4592b58158d0bee53b352.concept_aliases.json\n",
            "https://s3-us-west-2.amazonaws.com/ai2-s2-scispacy/data/kbs/2020-10-09/umls_2020_aa_cat0129.jsonl not found in cache, downloading to /tmp/tmppx7z1byg\n",
            "Finished download, copying /tmp/tmppx7z1byg to cache at /root/.scispacy/datasets/4d7fb8fcae1035d1e0a47d9072b43d5a628057d35497fbfb2499b4b7b2dd4dd7.05ec7eef12f336d4666da85b7fa69b9401883a7dd4244473f7b88b413ccbba03.umls_2020_aa_cat0129.jsonl\n",
            "https://s3-us-west-2.amazonaws.com/ai2-s2-scispacy/data/umls_semantic_type_tree.tsv not found in cache, downloading to /tmp/tmpztu685za\n",
            "Finished download, copying /tmp/tmpztu685za to cache at /root/.scispacy/datasets/21a1012c532c3a431d60895c509f5b4d45b0f8966c4178b892190a302b21836f.330707f4efe774134872b9f77f0e3208c1d30f50800b3b39a6b8ec21d9adf1b7.umls_semantic_type_tree.tsv\n"
          ]
        },
        {
          "output_type": "stream",
          "name": "stderr",
          "text": [
            "/usr/local/lib/python3.7/dist-packages/scispacy/candidate_generation.py:284: VisibleDeprecationWarning: Creating an ndarray from ragged nested sequences (which is a list-or-tuple of lists-or-tuples-or ndarrays with different lengths or shapes) is deprecated. If you meant to do this, you must specify 'dtype=object' when creating the ndarray\n",
            "  extended_neighbors[empty_vectors_boolean_flags] = numpy.array(neighbors)[:-1]\n",
            "/usr/local/lib/python3.7/dist-packages/scispacy/candidate_generation.py:285: VisibleDeprecationWarning: Creating an ndarray from ragged nested sequences (which is a list-or-tuple of lists-or-tuples-or ndarrays with different lengths or shapes) is deprecated. If you meant to do this, you must specify 'dtype=object' when creating the ndarray\n",
            "  extended_distances[empty_vectors_boolean_flags] = numpy.array(distances)[:-1]\n"
          ]
        }
      ]
    },
    {
      "cell_type": "code",
      "metadata": {
        "colab": {
          "base_uri": "https://localhost:8080/"
        },
        "id": "O9GX_xEY_OjO",
        "outputId": "57eee190-6c1c-4075-aa59-52ce318e332c"
      },
      "source": [
        "dict_cui_entity"
      ],
      "execution_count": null,
      "outputs": [
        {
          "output_type": "execute_result",
          "data": {
            "text/plain": [
              "{'C0010054': 'Coronary Arteriosclerosis',\n",
              " 'C0010068': 'Coronary heart disease',\n",
              " 'C0206064': 'Microvascular Angina',\n",
              " 'C1956346': 'Coronary Artery Disease',\n",
              " 'C3640263': 'CDISC SDTM Coronary Artery Disease Risk Terminology'}"
            ]
          },
          "metadata": {},
          "execution_count": 10
        }
      ]
    },
    {
      "cell_type": "code",
      "metadata": {
        "id": "RT6sMjpUAc5y",
        "colab": {
          "base_uri": "https://localhost:8080/"
        },
        "outputId": "ad7c7b2d-7398-49d7-9b91-8e553e9f9675"
      },
      "source": [
        "lst_idx = 0\n",
        "disease_idx = 8\n",
        "\n",
        "entity_name = df['Named_Entities_genia_w_BC5CDR'].values[lst_idx]['DISEASE'][disease_idx]\n",
        "\n",
        "print(entity_name)\n",
        "dict_cui_entity = entity_linker(linker_name, entity_name)"
      ],
      "execution_count": null,
      "outputs": [
        {
          "output_type": "stream",
          "name": "stdout",
          "text": [
            "urinary obstruction\n"
          ]
        },
        {
          "output_type": "stream",
          "name": "stderr",
          "text": [
            "/usr/local/lib/python3.7/dist-packages/sklearn/base.py:318: UserWarning: Trying to unpickle estimator TfidfTransformer from version 0.20.3 when using version 0.22.2.post1. This might lead to breaking code or invalid results. Use at your own risk.\n",
            "  UserWarning)\n",
            "/usr/local/lib/python3.7/dist-packages/sklearn/base.py:318: UserWarning: Trying to unpickle estimator TfidfVectorizer from version 0.20.3 when using version 0.22.2.post1. This might lead to breaking code or invalid results. Use at your own risk.\n",
            "  UserWarning)\n",
            "/usr/local/lib/python3.7/dist-packages/scispacy/candidate_generation.py:284: VisibleDeprecationWarning: Creating an ndarray from ragged nested sequences (which is a list-or-tuple of lists-or-tuples-or ndarrays with different lengths or shapes) is deprecated. If you meant to do this, you must specify 'dtype=object' when creating the ndarray\n",
            "  extended_neighbors[empty_vectors_boolean_flags] = numpy.array(neighbors)[:-1]\n",
            "/usr/local/lib/python3.7/dist-packages/scispacy/candidate_generation.py:285: VisibleDeprecationWarning: Creating an ndarray from ragged nested sequences (which is a list-or-tuple of lists-or-tuples-or ndarrays with different lengths or shapes) is deprecated. If you meant to do this, you must specify 'dtype=object' when creating the ndarray\n",
            "  extended_distances[empty_vectors_boolean_flags] = numpy.array(distances)[:-1]\n"
          ]
        }
      ]
    },
    {
      "cell_type": "code",
      "metadata": {
        "id": "WH1VL_cJ-ayd",
        "colab": {
          "base_uri": "https://localhost:8080/"
        },
        "outputId": "38a3a760-4853-4c15-aab6-b95890561560"
      },
      "source": [
        "dict_cui_entity"
      ],
      "execution_count": null,
      "outputs": [
        {
          "output_type": "execute_result",
          "data": {
            "text/plain": [
              "{'C0005694': 'Bladder neck obstruction',\n",
              " 'C0178879': 'Urinary tract obstruction',\n",
              " 'C4552953': 'Urinary Tract Obstruction, CTCAE',\n",
              " 'C4685449': 'Grade 1 Urinary Tract Obstruction, CTCAE',\n",
              " 'C4686000': 'Grade 2 Urinary Tract Obstruction, CTCAE'}"
            ]
          },
          "metadata": {},
          "execution_count": 12
        }
      ]
    },
    {
      "cell_type": "code",
      "metadata": {
        "colab": {
          "base_uri": "https://localhost:8080/"
        },
        "id": "mX7Bi-vwm-NZ",
        "outputId": "96737d17-0d46-4970-d26b-18751b4db472"
      },
      "source": [
        "lst_idx = 3\n",
        "disease_idx = 0\n",
        "\n",
        "entity_name = df['Named_Entities_genia_w_BC5CDR'].values[lst_idx]['DISEASE'][disease_idx]\n",
        "\n",
        "print(entity_name)\n",
        "dict_cui_entity = entity_linker(linker_name, entity_name)"
      ],
      "execution_count": null,
      "outputs": [
        {
          "output_type": "stream",
          "name": "stdout",
          "text": [
            "Brucellosis\n"
          ]
        },
        {
          "output_type": "stream",
          "name": "stderr",
          "text": [
            "/usr/local/lib/python3.7/dist-packages/sklearn/base.py:318: UserWarning: Trying to unpickle estimator TfidfTransformer from version 0.20.3 when using version 0.22.2.post1. This might lead to breaking code or invalid results. Use at your own risk.\n",
            "  UserWarning)\n",
            "/usr/local/lib/python3.7/dist-packages/sklearn/base.py:318: UserWarning: Trying to unpickle estimator TfidfVectorizer from version 0.20.3 when using version 0.22.2.post1. This might lead to breaking code or invalid results. Use at your own risk.\n",
            "  UserWarning)\n",
            "/usr/local/lib/python3.7/dist-packages/scispacy/candidate_generation.py:284: VisibleDeprecationWarning: Creating an ndarray from ragged nested sequences (which is a list-or-tuple of lists-or-tuples-or ndarrays with different lengths or shapes) is deprecated. If you meant to do this, you must specify 'dtype=object' when creating the ndarray\n",
            "  extended_neighbors[empty_vectors_boolean_flags] = numpy.array(neighbors)[:-1]\n",
            "/usr/local/lib/python3.7/dist-packages/scispacy/candidate_generation.py:285: VisibleDeprecationWarning: Creating an ndarray from ragged nested sequences (which is a list-or-tuple of lists-or-tuples-or ndarrays with different lengths or shapes) is deprecated. If you meant to do this, you must specify 'dtype=object' when creating the ndarray\n",
            "  extended_distances[empty_vectors_boolean_flags] = numpy.array(distances)[:-1]\n"
          ]
        }
      ]
    },
    {
      "cell_type": "code",
      "metadata": {
        "colab": {
          "base_uri": "https://localhost:8080/"
        },
        "id": "ORNlxKkqolAo",
        "outputId": "d8bc2bc2-cdb9-4818-a4ac-f18d9df8c1ae"
      },
      "source": [
        "dict_cui_entity"
      ],
      "execution_count": null,
      "outputs": [
        {
          "output_type": "execute_result",
          "data": {
            "text/plain": [
              "{'C0006303': 'Brucella',\n",
              " 'C0006309': 'Brucellosis',\n",
              " 'C0302363': 'Brucella abortus infection',\n",
              " 'C2231324': 'Brucellosis, Pulmonary'}"
            ]
          },
          "metadata": {},
          "execution_count": 14
        }
      ]
    },
    {
      "cell_type": "code",
      "metadata": {
        "colab": {
          "base_uri": "https://localhost:8080/"
        },
        "id": "sCZWImez_uup",
        "outputId": "363fc142-30d9-4361-993c-719c125c8451"
      },
      "source": [
        "entity_name = \"heart failure\"\n",
        "\n",
        "print(\"Named Entity: \", entity_name)\n",
        "\n",
        "dict_cui_entity = entity_linker(linker_name, entity_name)\n",
        "print(\"Corresponding entities in UMLS KB:\")\n",
        "print(dict_cui_entity)"
      ],
      "execution_count": null,
      "outputs": [
        {
          "output_type": "stream",
          "name": "stdout",
          "text": [
            "Named Entity:  heart failure\n",
            "Corresponding entities in UMLS KB:\n",
            "{'C0018801': 'Heart failure', 'C0018802': 'Congestive heart failure', 'C4554158': 'Heart Failure, CTCAE', 'C0023212': 'Left-Sided Heart Failure', 'C2939447': 'Right ventricular failure'}\n"
          ]
        }
      ]
    },
    {
      "cell_type": "markdown",
      "metadata": {
        "id": "XWDJXgJMAeb0"
      },
      "source": [
        "# **Distant Supervision using UMLS via OwlReady2**"
      ]
    },
    {
      "cell_type": "code",
      "metadata": {
        "id": "NghZnwLvo9q3",
        "colab": {
          "base_uri": "https://localhost:8080/"
        },
        "outputId": "614c67b8-3f85-43e2-b7b2-91c62bd198da"
      },
      "source": [
        "!pip3 --version"
      ],
      "execution_count": null,
      "outputs": [
        {
          "output_type": "stream",
          "name": "stdout",
          "text": [
            "pip 21.1.3 from /usr/local/lib/python3.7/dist-packages/pip (python 3.7)\n"
          ]
        }
      ]
    },
    {
      "cell_type": "code",
      "metadata": {
        "colab": {
          "base_uri": "https://localhost:8080/"
        },
        "id": "Xzd1hb1ZBGch",
        "outputId": "08c5ae3a-49c1-476d-e699-ae8ae8f6bc8d"
      },
      "source": [
        "!pip3 install Owlready2"
      ],
      "execution_count": null,
      "outputs": [
        {
          "output_type": "stream",
          "name": "stdout",
          "text": [
            "Collecting Owlready2\n",
            "  Downloading Owlready2-0.34.tar.gz (23.7 MB)\n",
            "\u001b[K     |████████████████████████████████| 23.7 MB 1.1 MB/s \n",
            "\u001b[?25hBuilding wheels for collected packages: Owlready2\n",
            "  Building wheel for Owlready2 (setup.py) ... \u001b[?25l\u001b[?25hdone\n",
            "  Created wheel for Owlready2: filename=Owlready2-0.34-cp37-cp37m-linux_x86_64.whl size=20419496 sha256=80ebd5b4f119132331ceeda535a0756b1da1b643ebb6db532351a604e0dbd5ed\n",
            "  Stored in directory: /root/.cache/pip/wheels/ec/bd/94/4b682aa2b2c7a9d3cd5c7e036f7267940a92ef55889de68db6\n",
            "Successfully built Owlready2\n",
            "Installing collected packages: Owlready2\n",
            "Successfully installed Owlready2-0.34\n"
          ]
        }
      ]
    },
    {
      "cell_type": "code",
      "metadata": {
        "id": "kTi94BMABNwR"
      },
      "source": [
        "from owlready2 import *\n",
        "from owlready2.pymedtermino2 import *\n",
        "from owlready2.pymedtermino2.umls import *"
      ],
      "execution_count": null,
      "outputs": []
    },
    {
      "cell_type": "code",
      "metadata": {
        "id": "1VHyZArPBgjR"
      },
      "source": [
        "default_world.set_backend(filename = \"pym.sqlite3\")"
      ],
      "execution_count": null,
      "outputs": []
    },
    {
      "cell_type": "code",
      "metadata": {
        "colab": {
          "base_uri": "https://localhost:8080/"
        },
        "id": "qufKCaHJBnES",
        "outputId": "6eb5b2d5-7f72-42d1-f9fe-2982b97fcf9c"
      },
      "source": [
        "import_umls(\"umls-2021AA-full.zip\", terminologies = [\"ICD10\", \"SNOMEDCT_US\", \"CUI\"])"
      ],
      "execution_count": null,
      "outputs": [
        {
          "output_type": "stream",
          "name": "stdout",
          "text": [
            "Importing UMLS from Zip file umls-2021AA-full.zip with Python version 3.7...\n",
            "Full UMLS release - importing UMLS from inner Zip file 2021AA-full/2021aa-1-meta.nlm...\n",
            "  Parsing 2021AA/META/MRRANK.RRF.gz as MRRANK with encoding UTF-8\n",
            "  Parsing 2021AA/META/MRCONSO.RRF.aa.gz as MRCONSO with encoding UTF-8\n",
            "  Parsing 2021AA/META/MRCONSO.RRF.ab.gz as MRCONSO with encoding UTF-8\n",
            "  Parsing 2021AA/META/MRDEF.RRF.gz as MRDEF with encoding UTF-8\n",
            "  Parsing 2021AA/META/MRSTY.RRF.gz as MRSTY with encoding UTF-8\n",
            "Full UMLS release - importing UMLS from inner Zip file 2021AA-full/2021aa-2-meta.nlm...\n",
            "  Parsing 2021AA/META/MRREL.RRF.aa.gz as MRREL with encoding UTF-8\n",
            "  Parsing 2021AA/META/MRREL.RRF.ab.gz as MRREL with encoding UTF-8\n",
            "  Parsing 2021AA/META/MRREL.RRF.ac.gz as MRREL with encoding UTF-8\n",
            "  Parsing 2021AA/META/MRREL.RRF.ad.gz as MRREL with encoding UTF-8\n",
            "  Parsing 2021AA/META/MRSAT.RRF.aa.gz as MRSAT with encoding UTF-8\n",
            "  Parsing 2021AA/META/MRSAT.RRF.ab.gz as MRSAT with encoding UTF-8\n",
            "  Parsing 2021AA/META/MRSAT.RRF.ac.gz as MRSAT with encoding UTF-8\n",
            "  Parsing 2021AA/META/MRSAT.RRF.ad.gz as MRSAT with encoding UTF-8\n",
            "  Parsing 2021AA/META/MRSAT.RRF.ae.gz as MRSAT with encoding UTF-8\n",
            "Breaking ORIG cycles...\n",
            "    SNOMEDCT_US : 0 cycles found: \n",
            "    ICD10 : 0 cycles found: \n",
            "    SRC : 0 cycles found: \n",
            "Finalizing only properties and restrictions...\n",
            "Finalizing CUI - ORIG mapping...\n",
            "FTS Indexing...\n"
          ]
        },
        {
          "output_type": "execute_result",
          "data": {
            "text/plain": [
              "get_ontology(\"http://PYM/\")"
            ]
          },
          "metadata": {},
          "execution_count": 19
        }
      ]
    },
    {
      "cell_type": "code",
      "metadata": {
        "id": "1RpYVQ0dBrZk"
      },
      "source": [
        "PYM = get_ontology(\"http://PYM/\").load()"
      ],
      "execution_count": null,
      "outputs": []
    },
    {
      "cell_type": "code",
      "metadata": {
        "id": "sJOvQSfMDwLr"
      },
      "source": [
        "default_world.save()"
      ],
      "execution_count": null,
      "outputs": []
    },
    {
      "cell_type": "code",
      "metadata": {
        "id": "waYAJ-3LJ5ZJ"
      },
      "source": [
        "CUI = PYM[\"CUI\"]"
      ],
      "execution_count": null,
      "outputs": []
    },
    {
      "cell_type": "markdown",
      "metadata": {
        "id": "Fp6gr4pALiga"
      },
      "source": [
        "### All terminologies across ICD-10, SNOMED-CT, and SNOMED-CT"
      ]
    },
    {
      "cell_type": "code",
      "metadata": {
        "colab": {
          "base_uri": "https://localhost:8080/"
        },
        "id": "U0d8Yy8GLUDb",
        "outputId": "f18f5f2e-545d-4593-a8ee-093595ccd23d"
      },
      "source": [
        "PYM.search(\"depression anxiety\")"
      ],
      "execution_count": null,
      "outputs": [
        {
          "output_type": "execute_result",
          "data": {
            "text/plain": [
              "[SNOMEDCT_US[\"273402009\"] # Depression anxiety scale\n",
              ", SNOMEDCT_US[\"273562009\"] # Leeds scales for the self-assessment of anxiety and depression\n",
              ", SNOMEDCT_US[\"416767005\"] # Depression anxiety stress scales stress score\n",
              ", SNOMEDCT_US[\"416954004\"] # Depression anxiety stress scales depression score\n",
              ", SNOMEDCT_US[\"416619008\"] # Depression anxiety stress scales anxiety score\n",
              ", SNOMEDCT_US[\"445043005\"] # Marks and Mathews fear questionnaire total associated anxiety and depression score\n",
              ", SNOMEDCT_US[\"445991008\"] # Assessment using hospital anxiety and depression scale\n",
              ", SNOMEDCT_US[\"273524006\"] # Hospital anxiety and depression scale\n",
              ", SNOMEDCT_US[\"716763004\"] # Assessment using RCADS (Revised Children's Anxiety and Depression Scale)\n",
              ", SNOMEDCT_US[\"718747002\"] # RCADS (Revised Children's Anxiety and Depression Scale) generalized anxiety subscale\n",
              ", SNOMEDCT_US[\"718746006\"] # RCADS (Revised Children's Anxiety and Depression Scale) separation anxiety subscale\n",
              ", SNOMEDCT_US[\"718745005\"] # RCADS (Revised Children's Anxiety and Depression Scale) total anxiety and depression subscale\n",
              ", SNOMEDCT_US[\"718744009\"] # RCADS (Revised Children's Anxiety and Depression Scale) obsession compulsion subscale\n",
              ", SNOMEDCT_US[\"718743003\"] # RCADS (Revised Children's Anxiety and Depression Scale) total anxiety subscale\n",
              ", SNOMEDCT_US[\"718739002\"] # RCADS (Revised Children's Anxiety and Depression Scale) depression subscale\n",
              ", SNOMEDCT_US[\"718738005\"] # RCADS - Revised Children's Anxiety and Depression Scale\n",
              ", SNOMEDCT_US[\"718735008\"] # RCADS-P (Revised Children's Anxiety and Depression Scale Parent Version) total anxiety and depression subscale\n",
              ", SNOMEDCT_US[\"718734007\"] # RCADS-P (Revised Children's Anxiety and Depression Scale Parent Version) depression subscale\n",
              ", SNOMEDCT_US[\"718733001\"] # RCADS-P (Revised Children's Anxiety and Depression Scale Parent Version) generalized anxiety subscale\n",
              ", SNOMEDCT_US[\"718732006\"] # RCADS-P (Revised Children's Anxiety and Depression Scale Parent Version) separation anxiety subscale\n",
              ", SNOMEDCT_US[\"718731004\"] # RCADS-P (Revised Children's Anxiety and Depression Scale Parent Version) obsession compulsion subscale\n",
              ", SNOMEDCT_US[\"718730003\"] # RCADS-P (Revised Children's Anxiety and Depression Scale Parent Version) panic subscale\n",
              ", SNOMEDCT_US[\"718728000\"] # RCADS-P - Revised Children's Anxiety and Depression Scale Parent Version\n",
              ", SNOMEDCT_US[\"718742008\"] # CADS (Revised Children's Anxiety and Depression Scale) social phobia subscale\n",
              ", SNOMEDCT_US[\"718741001\"] # RCADS (Revised Children's Anxiety and Depression Scale) panic subscale\n",
              ", SNOMEDCT_US[\"718657009\"] # RCADS (Revised Children's Anxiety and Depression Scale) obsessions compulsion score\n",
              ", SNOMEDCT_US[\"718673003\"] # Assessment using RCADS-P (Revised Children's Anxiety and Depression Scale Parent Version)\n",
              ", SNOMEDCT_US[\"718672008\"] # RCADS (Revised Children's Anxiety and Depression Scale) Parent Version total anxiety and depression score\n",
              ", SNOMEDCT_US[\"718671001\"] # RCADS (Revised Children's Anxiety and Depression Scale) Parent Version total anxiety score\n",
              ", SNOMEDCT_US[\"718670000\"] # RCADS (Revised Children's Anxiety and Depression Scale) Parent Version social phobia score\n",
              ", SNOMEDCT_US[\"718666008\"] # RCADS (Revised Children's Anxiety and Depression Scale) Parent Version generalized anxiety score\n",
              ", SNOMEDCT_US[\"718665007\"] # RCADS (Revised Children's Anxiety and Depression Scale) Parent Version depression score\n",
              ", SNOMEDCT_US[\"718667004\"] # RCADS (Revised Children's Anxiety and Depression Scale) Parent Version obsession compulsion score\n",
              ", SNOMEDCT_US[\"718663000\"] # RCADS-P (Revised Children's Anxiety and Depression Scale Parent Version) observable\n",
              ", SNOMEDCT_US[\"718662005\"] # RCADS (Revised Children's Anxiety and Depression Scale) total anxiety and depression score\n",
              ", SNOMEDCT_US[\"718661003\"] # RCADS (Revised Children's Anxiety and Depression Scale) total anxiety score\n",
              ", SNOMEDCT_US[\"718660002\"] # RCADS (Revised Children's Anxiety and Depression Scale) social phobia score\n",
              ", SNOMEDCT_US[\"718659007\"] # RCADS (Revised Children's Anxiety and Depression Scale) separation anxiety score\n",
              ", SNOMEDCT_US[\"718658004\"] # RCADS (Revised Children's Anxiety and Depression Scale) panic score\n",
              ", SNOMEDCT_US[\"718656000\"] # RCADS (Revised Children's Anxiety and Depression Scale) generalized anxiety score\n",
              ", SNOMEDCT_US[\"718655001\"] # RCADS (Revised Children's Anxiety and Depression Scale) depression score\n",
              ", SNOMEDCT_US[\"718654002\"] # RCADS (Revised Children's Anxiety and Depression Scale) observable\n",
              ", SNOMEDCT_US[\"718729008\"] # RCADS-P (Revised Children's Anxiety and Depression Scale Parent Version) social phobia subscale\n",
              ", SNOMEDCT_US[\"718563007\"] # RCADS-P (Revised Children's Anxiety and Depression Scale Parent Version) total anxiety subscale\n",
              ", SNOMEDCT_US[\"718669001\"] # RCADS (Revised Children's Anxiety and Depression Scale) Parent Version separation anxiety score\n",
              ", SNOMEDCT_US[\"718668009\"] # RCADS (Revised Children's Anxiety and Depression Scale) Parent Version panic score\n",
              ", CUI[\"C0451107\"] # Depression anxiety scale\n",
              ", CUI[\"C0451254\"] # Leeds scales for the self-assessment of anxiety and depression\n",
              ", CUI[\"C1562542\"] # Depression anxiety stress scales stress score\n",
              ", CUI[\"C1562641\"] # Depression anxiety stress scales depression score\n",
              ", CUI[\"C1563067\"] # Depression anxiety stress scales anxiety score\n",
              ", CUI[\"C2919392\"] # Marks and Mathews fear questionnaire total associated anxiety and depression score\n",
              ", CUI[\"C2959919\"] # Assessment using hospital anxiety and depression scale\n",
              ", CUI[\"C3539657\"] # Hospital anxiety and depression scale\n",
              ", CUI[\"C4274289\"] # Assessment using RCADS (Revised Children's Anxiety and Depression Scale)\n",
              ", CUI[\"C4305158\"] # RCADS (Revised Children's Anxiety and Depression Scale) generalized anxiety subscale\n",
              ", CUI[\"C4305159\"] # RCADS (Revised Children's Anxiety and Depression Scale) separation anxiety subscale\n",
              ", CUI[\"C4305160\"] # RCADS (Revised Children's Anxiety and Depression Scale) total anxiety and depression subscale\n",
              ", CUI[\"C4305161\"] # RCADS (Revised Children's Anxiety and Depression Scale) obsession compulsion subscale\n",
              ", CUI[\"C4305162\"] # RCADS (Revised Children's Anxiety and Depression Scale) total anxiety subscale\n",
              ", CUI[\"C4305165\"] # RCADS (Revised Children's Anxiety and Depression Scale) depression subscale\n",
              ", CUI[\"C4305166\"] # RCADS - Revised Children's Anxiety and Depression Scale\n",
              ", CUI[\"C4305169\"] # RCADS-P (Revised Children's Anxiety and Depression Scale Parent Version) total anxiety and depression subscale\n",
              ", CUI[\"C4305170\"] # RCADS-P (Revised Children's Anxiety and Depression Scale Parent Version) depression subscale\n",
              ", CUI[\"C4305171\"] # RCADS-P (Revised Children's Anxiety and Depression Scale Parent Version) generalized anxiety subscale\n",
              ", CUI[\"C4305172\"] # RCADS-P (Revised Children's Anxiety and Depression Scale Parent Version) separation anxiety subscale\n",
              ", CUI[\"C4305173\"] # RCADS-P (Revised Children's Anxiety and Depression Scale Parent Version) obsession compulsion subscale\n",
              ", CUI[\"C4305174\"] # RCADS-P (Revised Children's Anxiety and Depression Scale Parent Version) panic subscale\n",
              ", CUI[\"C4305175\"] # RCADS-P - Revised Children's Anxiety and Depression Scale Parent Version\n",
              ", CUI[\"C4305176\"] # CADS (Revised Children's Anxiety and Depression Scale) social phobia subscale\n",
              ", CUI[\"C4305177\"] # RCADS (Revised Children's Anxiety and Depression Scale) panic subscale\n",
              ", CUI[\"C4305261\"] # RCADS (Revised Children's Anxiety and Depression Scale) obsessions compulsion score\n",
              ", CUI[\"C4305285\"] # Assessment using RCADS-P (Revised Children's Anxiety and Depression Scale Parent Version)\n",
              ", CUI[\"C4305286\"] # RCADS (Revised Children's Anxiety and Depression Scale) Parent Version total anxiety and depression score\n",
              ", CUI[\"C4305287\"] # RCADS (Revised Children's Anxiety and Depression Scale) Parent Version total anxiety score\n",
              ", CUI[\"C4305288\"] # RCADS (Revised Children's Anxiety and Depression Scale) Parent Version social phobia score\n",
              ", CUI[\"C4305289\"] # RCADS (Revised Children's Anxiety and Depression Scale) Parent Version generalized anxiety score\n",
              ", CUI[\"C4305290\"] # RCADS (Revised Children's Anxiety and Depression Scale) Parent Version depression score\n",
              ", CUI[\"C4305291\"] # RCADS (Revised Children's Anxiety and Depression Scale) Parent Version obsession compulsion score\n",
              ", CUI[\"C4305294\"] # RCADS-P (Revised Children's Anxiety and Depression Scale Parent Version) observable\n",
              ", CUI[\"C4305295\"] # RCADS (Revised Children's Anxiety and Depression Scale) total anxiety and depression score\n",
              ", CUI[\"C4305296\"] # RCADS (Revised Children's Anxiety and Depression Scale) total anxiety score\n",
              ", CUI[\"C4305297\"] # RCADS (Revised Children's Anxiety and Depression Scale) social phobia score\n",
              ", CUI[\"C4305298\"] # RCADS (Revised Children's Anxiety and Depression Scale) separation anxiety score\n",
              ", CUI[\"C4305299\"] # RCADS (Revised Children's Anxiety and Depression Scale) panic score\n",
              ", CUI[\"C4305300\"] # RCADS (Revised Children's Anxiety and Depression Scale) generalized anxiety score\n",
              ", CUI[\"C4305301\"] # RCADS (Revised Children's Anxiety and Depression Scale) depression score\n",
              ", CUI[\"C4305302\"] # RCADS (Revised Children's Anxiety and Depression Scale) observable\n",
              ", CUI[\"C4305371\"] # RCADS-P (Revised Children's Anxiety and Depression Scale Parent Version) social phobia subscale\n",
              ", CUI[\"C4305418\"] # RCADS-P (Revised Children's Anxiety and Depression Scale Parent Version) total anxiety subscale\n",
              ", CUI[\"C4305594\"] # RCADS (Revised Children's Anxiety and Depression Scale) Parent Version separation anxiety score\n",
              ", CUI[\"C4305595\"] # RCADS (Revised Children's Anxiety and Depression Scale) Parent Version panic score\n",
              ", SNOMEDCT_US[\"231504006\"] # Mixed anxiety and depressive disorder\n",
              ", SNOMEDCT_US[\"401319005\"] # HAD scale: anxiety score\n",
              ", SNOMEDCT_US[\"401320004\"] # HAD scale: depression score\n",
              ", CUI[\"C0338908\"] # Mixed anxiety and depressive disorder\n",
              ", CUI[\"C1303270\"] # HAD scale: anxiety score\n",
              ", CUI[\"C1303271\"] # HAD scale: depression score\n",
              "]"
            ]
          },
          "metadata": {},
          "execution_count": 63
        }
      ]
    },
    {
      "cell_type": "code",
      "metadata": {
        "id": "7_Dl35m4Lecr"
      },
      "source": [
        "concept = CUI[\"C0085580\"]"
      ],
      "execution_count": null,
      "outputs": []
    },
    {
      "cell_type": "code",
      "metadata": {
        "colab": {
          "base_uri": "https://localhost:8080/"
        },
        "id": "z83wXTz-MHe0",
        "outputId": "4f270db3-e3f0-4c19-9141-80555c4ef440"
      },
      "source": [
        "concept"
      ],
      "execution_count": null,
      "outputs": [
        {
          "output_type": "execute_result",
          "data": {
            "text/plain": [
              "CUI[\"C0085580\"] # Essential hypertension"
            ]
          },
          "metadata": {},
          "execution_count": 26
        }
      ]
    },
    {
      "cell_type": "markdown",
      "metadata": {
        "id": "G-OAbCeIMQHs"
      },
      "source": [
        "### Search just the UMLS Dictionary"
      ]
    },
    {
      "cell_type": "code",
      "metadata": {
        "colab": {
          "base_uri": "https://localhost:8080/"
        },
        "id": "txQ1W8uRMO_k",
        "outputId": "46e3a9b7-0ce8-4b56-ee60-0472a00c6464"
      },
      "source": [
        "CUI[\"C5231206\"]"
      ],
      "execution_count": null,
      "outputs": [
        {
          "output_type": "execute_result",
          "data": {
            "text/plain": [
              "CUI[\"C5231206\"] # Hypertension stage 1"
            ]
          },
          "metadata": {},
          "execution_count": 38
        }
      ]
    },
    {
      "cell_type": "code",
      "metadata": {
        "id": "43ZfQLhjQrkK"
      },
      "source": [
        ""
      ],
      "execution_count": null,
      "outputs": []
    },
    {
      "cell_type": "markdown",
      "metadata": {
        "id": "HrCslb_fV6dE"
      },
      "source": [
        "### Experiment for the entities in an entity cluster"
      ]
    },
    {
      "cell_type": "code",
      "metadata": {
        "id": "66wLfK-DV_ar"
      },
      "source": [
        "import pickle as pk\n",
        "from pprint import pprint\n",
        "\n",
        "ENTITY_PATH = \"entity_clusters\"\n",
        "entity_cluster = pk.load(open(f\"{ENTITY_PATH}/neoplasms_Medline.pk\", \"rb\"))"
      ],
      "execution_count": null,
      "outputs": []
    },
    {
      "cell_type": "code",
      "metadata": {
        "id": "2-537JhCWWqB"
      },
      "source": [
        "#pprint(entity_cluster)"
      ],
      "execution_count": null,
      "outputs": []
    },
    {
      "cell_type": "code",
      "metadata": {
        "colab": {
          "base_uri": "https://localhost:8080/"
        },
        "id": "0UvUkTBBWtmD",
        "outputId": "f5f6aa15-c634-4936-a2f8-d67c455f7ea2"
      },
      "source": [
        "PYM.search(\"sickle cell disease pain\")"
      ],
      "execution_count": null,
      "outputs": [
        {
          "output_type": "execute_result",
          "data": {
            "text/plain": [
              "[SNOMEDCT_US[\"769167005\"] # Vaso-occlusive pain episode in sickle cell disease\n",
              ", CUI[\"C4708695\"] # Vaso-occlusive pain episode in sickle cell disease\n",
              "]"
            ]
          },
          "metadata": {},
          "execution_count": 73
        }
      ]
    },
    {
      "cell_type": "code",
      "metadata": {
        "colab": {
          "base_uri": "https://localhost:8080/"
        },
        "id": "yHz2VCp7XHN1",
        "outputId": "c7951f66-b32e-4cfc-9597-296a93409c67"
      },
      "source": [
        "PYM.search(\"coronavirus pneumonia\")"
      ],
      "execution_count": null,
      "outputs": [
        {
          "output_type": "execute_result",
          "data": {
            "text/plain": [
              "[SNOMEDCT_US[\"441590008\"] # Pneumonia due to Severe acute respiratory syndrome coronavirus\n",
              ", SNOMEDCT_US[\"713084008\"] # Pneumonia caused by Human coronavirus\n",
              ", CUI[\"C1260415\"] # Pneumonia due to Severe acute respiratory syndrome coronavirus\n",
              ", CUI[\"C4075701\"] # Pneumonia caused by Human coronavirus\n",
              ", SNOMEDCT_US[\"882784691000119100\"] # Pneumonia caused by SARS-CoV-2\n",
              ", CUI[\"C5244027\"] # Pneumonia caused by SARS-CoV-2\n",
              "]"
            ]
          },
          "metadata": {},
          "execution_count": 81
        }
      ]
    },
    {
      "cell_type": "code",
      "metadata": {
        "colab": {
          "base_uri": "https://localhost:8080/"
        },
        "id": "p4BYzLR8Xsm3",
        "outputId": "5eae92c5-52d8-46aa-b311-7a1cd67bab29"
      },
      "source": [
        "PYM.search(\"tumor melanoma\")"
      ],
      "execution_count": null,
      "outputs": [
        {
          "output_type": "execute_result",
          "data": {
            "text/plain": [
              "[SNOMEDCT_US[\"399397007\"] # pT2: Tumor greater than 10 mm but not more than 16 mm in greatest basal diameter and between 2.5 and 10 mm in maximum height (thickness) (ciliary body and choroid) (uveal melanoma)\n",
              ", SNOMEDCT_US[\"399448002\"] # pT1: Tumor 10 mm or less in greatest diameter and 2.5 mm or less in greatest height (thickness) (ciliary body and choroid) (uveal melanoma)\n",
              ", SNOMEDCT_US[\"399461002\"] # pT1b: Tumor 10 mm or less in greatest diameter and 2.5 mm or less in greatest height (thickness) with microscopic extraocular extension (ciliary body and choroid) (uveal melanoma)\n",
              ", SNOMEDCT_US[\"399474008\"] # pT2a: Tumor confluent with or extending into the ciliary body and/or choroid with melanomalytic glaucoma (iris) (uveal melanoma)\n",
              ", SNOMEDCT_US[\"399493005\"] # pT1c: Tumor 10 mm or less in greatest diameter and 2.5 mm or less in greatest height (thickness) with macroscopic extraocular extension (ciliary body and choroid) (uveal melanoma)\n",
              ", SNOMEDCT_US[\"399501001\"] # pT1: Tumor limited to the iris (iris) (uveal melanoma)\n",
              ", SNOMEDCT_US[\"399511008\"] # pT1b: Tumor limited to the iris (more than 3 clock hours in size) (iris) (uveal melanoma)\n",
              ", SNOMEDCT_US[\"399516003\"] # pT1a: Tumor 10 mm or less in greatest diameter and 2.5 mm or less in greatest height (thickness) without microscopic extraocular extension (ciliary body and choroid) (uveal melanoma)\n",
              ", SNOMEDCT_US[\"399519005\"] # pT2a: Tumor 10 mm to 16 mm in greatest basal diameter and between 2.5 and 10 mm in maximum height (thickness) without microscopic extraocular extension (ciliary body and choroid) (uveal melanoma)\n",
              ", SNOMEDCT_US[\"399543008\"] # pT2c: Tumor 10 mm to 16 mm in greatest basal diameter and between 2.5 and 10 mm in maximum height (thickness) with macroscopic extraocular extension (ciliary body and choroid) (uveal melanoma)\n",
              ", SNOMEDCT_US[\"399557005\"] # pT3: Tumor confluent with or extending into the ciliary body and/or choroid with scleral extension (iris) (uveal melanoma)\n",
              ", SNOMEDCT_US[\"399597008\"] # pT1a: Tumor limited to the iris (not more than 3 clock hours in size) (iris) (uveal melanoma)\n",
              ", SNOMEDCT_US[\"399602001\"] # pT1c: Tumor limited to the iris with melanomalytic glaucoma (iris) (uveal melanoma)\n",
              ", SNOMEDCT_US[\"399610000\"] # pT3: Tumor more than 16 mm in greatest diameter and/or greater than 10 mm in maximum height (thickness) without extraocular extension (ciliary body and choroid) (uveal melanoma)\n",
              ", SNOMEDCT_US[\"399615005\"] # pT2: Tumor confluent with or extending into the ciliary body and/or choroid (iris) (uveal melanoma)\n",
              ", SNOMEDCT_US[\"399616006\"] # pT2b: Tumor 10 mm to 16 mm in greatest basal diameter and between 2.5 and 10 mm in maximum height (thickness) with microscopic extraocular extension (ciliary body and choroid) (uveal melanoma)\n",
              ", SNOMEDCT_US[\"399674004\"] # pT3a: Tumor confluent with or extending into the ciliary body and/or choroid with scleral extension and melanomalytic glaucoma (iris) (uveal melanoma)\n",
              ", SNOMEDCT_US[\"399679009\"] # pT4: Tumor with extraocular extension (iris) (uveal melanoma)\n",
              ", SNOMEDCT_US[\"399729000\"] # pT4: Tumor more than 16 mm in greatest diameter and/or greater than 10 mm in maximum height (thickness) with extraocular extension (ciliary body and choroid) (uveal melanoma)\n",
              ", SNOMEDCT_US[\"717968005\"] # Melanoma and neural system tumor syndrome\n",
              ", CUI[\"C1302369\"] # pT2: Tumor greater than 10 mm but not more than 16 mm in greatest basal diameter and between 2.5 and 10 mm in maximum height (thickness) (ciliary body and choroid) (uveal melanoma)\n",
              ", CUI[\"C1302416\"] # pT1: Tumor 10 mm or less in greatest diameter and 2.5 mm or less in greatest height (thickness) (ciliary body and choroid) (uveal melanoma)\n",
              ", CUI[\"C1302429\"] # pT1b: Tumor 10 mm or less in greatest diameter and 2.5 mm or less in greatest height (thickness) with microscopic extraocular extension (ciliary body and choroid) (uveal melanoma)\n",
              ", CUI[\"C1302436\"] # pT2a: Tumor confluent with or extending into the ciliary body and/or choroid with melanomalytic glaucoma (iris) (uveal melanoma)\n",
              ", CUI[\"C1302450\"] # pT1c: Tumor 10 mm or less in greatest diameter and 2.5 mm or less in greatest height (thickness) with macroscopic extraocular extension (ciliary body and choroid) (uveal melanoma)\n",
              ", CUI[\"C1302458\"] # pT1: Tumor limited to the iris (iris) (uveal melanoma)\n",
              ", CUI[\"C1302466\"] # pT1b: Tumor limited to the iris (more than 3 clock hours in size) (iris) (uveal melanoma)\n",
              ", CUI[\"C1302471\"] # pT1a: Tumor 10 mm or less in greatest diameter and 2.5 mm or less in greatest height (thickness) without microscopic extraocular extension (ciliary body and choroid) (uveal melanoma)\n",
              ", CUI[\"C1302474\"] # pT2a: Tumor 10 mm to 16 mm in greatest basal diameter and between 2.5 and 10 mm in maximum height (thickness) without microscopic extraocular extension (ciliary body and choroid) (uveal melanoma)\n",
              ", CUI[\"C1302491\"] # pT2c: Tumor 10 mm to 16 mm in greatest basal diameter and between 2.5 and 10 mm in maximum height (thickness) with macroscopic extraocular extension (ciliary body and choroid) (uveal melanoma)\n",
              ", CUI[\"C1302504\"] # pT3: Tumor confluent with or extending into the ciliary body and/or choroid with scleral extension (iris) (uveal melanoma)\n",
              ", CUI[\"C1302537\"] # pT1a: Tumor limited to the iris (not more than 3 clock hours in size) (iris) (uveal melanoma)\n",
              ", CUI[\"C1302542\"] # pT1c: Tumor limited to the iris with melanomalytic glaucoma (iris) (uveal melanoma)\n",
              ", CUI[\"C1302550\"] # pT3: Tumor more than 16 mm in greatest diameter and/or greater than 10 mm in maximum height (thickness) without extraocular extension (ciliary body and choroid) (uveal melanoma)\n",
              ", CUI[\"C1302555\"] # pT2: Tumor confluent with or extending into the ciliary body and/or choroid (iris) (uveal melanoma)\n",
              ", CUI[\"C1302556\"] # pT2b: Tumor 10 mm to 16 mm in greatest basal diameter and between 2.5 and 10 mm in maximum height (thickness) with microscopic extraocular extension (ciliary body and choroid) (uveal melanoma)\n",
              ", CUI[\"C1302604\"] # pT3a: Tumor confluent with or extending into the ciliary body and/or choroid with scleral extension and melanomalytic glaucoma (iris) (uveal melanoma)\n",
              ", CUI[\"C1302608\"] # pT4: Tumor with extraocular extension (iris) (uveal melanoma)\n",
              ", CUI[\"C1302651\"] # pT4: Tumor more than 16 mm in greatest diameter and/or greater than 10 mm in maximum height (thickness) with extraocular extension (ciliary body and choroid) (uveal melanoma)\n",
              ", CUI[\"C1835042\"] # Melanoma and neural system tumor syndrome\n",
              ", SNOMEDCT_US[\"106246001\"] # FIGO staging system for vulvar melanoma\n",
              ", SNOMEDCT_US[\"254325002\"] # TNM Malignant melanoma of skin staging\n",
              ", SNOMEDCT_US[\"254343003\"] # TNM Malignant melanoma of eyelid staging\n",
              ", SNOMEDCT_US[\"254345005\"] # TNM Malignant melanoma of conjunctiva staging\n",
              ", SNOMEDCT_US[\"254346006\"] # TNM Malignant melanoma of uvea staging\n",
              ", SNOMEDCT_US[\"254347002\"] # TNM Malignant melanoma of iris staging\n",
              ", SNOMEDCT_US[\"254348007\"] # TNM Malignant melanoma of ciliary body staging\n",
              ", SNOMEDCT_US[\"254349004\"] # TNM Malignant melanoma of choroid staging\n",
              ", SNOMEDCT_US[\"385345007\"] # Clark system for melanoma staging\n",
              ", SNOMEDCT_US[\"385346008\"] # Breslow system for melanoma staging\n",
              ", CUI[\"C0332363\"] # FIGO staging system for vulvar melanoma\n",
              ", CUI[\"C0432490\"] # TNM Malignant melanoma of skin staging\n",
              ", CUI[\"C0432492\"] # TNM Malignant melanoma of eyelid staging\n",
              ", CUI[\"C0432494\"] # TNM Malignant melanoma of conjunctiva staging\n",
              ", CUI[\"C0432495\"] # TNM Malignant melanoma of uvea staging\n",
              ", CUI[\"C0432496\"] # TNM Malignant melanoma of iris staging\n",
              ", CUI[\"C0432497\"] # TNM Malignant melanoma of ciliary body staging\n",
              ", CUI[\"C0432498\"] # TNM Malignant melanoma of choroid staging\n",
              ", CUI[\"C1272811\"] # Clark system for melanoma staging\n",
              ", CUI[\"C1272812\"] # Breslow system for melanoma staging\n",
              "]"
            ]
          },
          "metadata": {},
          "execution_count": 83
        }
      ]
    },
    {
      "cell_type": "markdown",
      "metadata": {
        "id": "lkm5B6bTgIgK"
      },
      "source": [
        "## Download wikidata json dump. For documentation, look at \n",
        "https://dumps.wikimedia.org/wikidatawiki/entities/latest-all.json.bz2"
      ]
    },
    {
      "cell_type": "code",
      "metadata": {
        "colab": {
          "base_uri": "https://localhost:8080/"
        },
        "id": "85qXCdSmYgo1",
        "outputId": "e000e521-a65a-4159-f3eb-6605eee8b472"
      },
      "source": [
        "!pwd"
      ],
      "execution_count": null,
      "outputs": [
        {
          "output_type": "stream",
          "name": "stdout",
          "text": [
            "/content/drive/My Drive/Colab Notebooks/apex-codes/entity_sum\n"
          ]
        }
      ]
    },
    {
      "cell_type": "code",
      "metadata": {
        "colab": {
          "base_uri": "https://localhost:8080/"
        },
        "id": "fw2wV3wegRBu",
        "outputId": "7b4b70c1-3fb2-47a9-db08-bb8b9a2461a7"
      },
      "source": [
        "!wget https://dumps.wikimedia.org/wikidatawiki/entities/latest-all.json.bz2"
      ],
      "execution_count": null,
      "outputs": [
        {
          "output_type": "stream",
          "name": "stdout",
          "text": [
            "--2021-09-20 23:23:53--  https://dumps.wikimedia.org/wikidatawiki/entities/latest-all.json.bz2\n",
            "Resolving dumps.wikimedia.org (dumps.wikimedia.org)... 208.80.154.7, 2620:0:861:1:208:80:154:7\n",
            "Connecting to dumps.wikimedia.org (dumps.wikimedia.org)|208.80.154.7|:443... connected.\n",
            "HTTP request sent, awaiting response... 200 OK\n",
            "Length: 70126370250 (65G) [application/octet-stream]\n",
            "Saving to: ‘latest-all.json.bz2’\n",
            "\n",
            "latest-all.json.bz2  74%[=============>      ]  48.75G  4.96MB/s    in 2h 51m  \n",
            "\n",
            "2021-09-21 02:15:49 (4.84 MB/s) - Connection closed at byte 52349697706. Retrying.\n",
            "\n",
            "--2021-09-21 02:15:50--  (try: 2)  https://dumps.wikimedia.org/wikidatawiki/entities/latest-all.json.bz2\n",
            "Connecting to dumps.wikimedia.org (dumps.wikimedia.org)|208.80.154.7|:443... connected.\n",
            "HTTP request sent, awaiting response... 206 Partial Content\n",
            "Length: 70126370250 (65G), 17776672544 (17G) remaining [application/octet-stream]\n",
            "Saving to: ‘latest-all.json.bz2’\n",
            "\n",
            "latest-all.json.bz2  92%[++++++++++++++===>  ]  60.34G  4.64MB/s    eta 18m 18s^C\n"
          ]
        }
      ]
    },
    {
      "cell_type": "code",
      "metadata": {
        "id": "jER2cBPbheOq"
      },
      "source": [
        ""
      ],
      "execution_count": null,
      "outputs": []
    }
  ]
}