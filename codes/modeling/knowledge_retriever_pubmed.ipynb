{
  "nbformat": 4,
  "nbformat_minor": 0,
  "metadata": {
    "accelerator": "GPU",
    "colab": {
      "name": "knowledge_retriever_pubmed.ipynb",
      "provenance": [],
      "collapsed_sections": []
    },
    "kernelspec": {
      "display_name": "Python 3",
      "name": "python3"
    }
  },
  "cells": [
    {
      "cell_type": "code",
      "metadata": {
        "colab": {
          "base_uri": "https://localhost:8080/"
        },
        "id": "LS0BC5oErcAP",
        "outputId": "7d9fdc1c-0061-49a5-8b33-7350126ac4a4"
      },
      "source": [
        "from google.colab import drive\n",
        "drive.mount('/content/drive')"
      ],
      "execution_count": null,
      "outputs": [
        {
          "output_type": "stream",
          "name": "stdout",
          "text": [
            "Mounted at /content/drive\n"
          ]
        }
      ]
    },
    {
      "cell_type": "code",
      "metadata": {
        "colab": {
          "base_uri": "https://localhost:8080/"
        },
        "id": "sT8qQNCSreSW",
        "outputId": "d2a69c15-1ce4-468f-c704-51ca8a0b54f7"
      },
      "source": [
        "%cd drive/My\\ Drive/Colab\\ Notebooks/apex-codes/entity_sum"
      ],
      "execution_count": null,
      "outputs": [
        {
          "output_type": "stream",
          "name": "stdout",
          "text": [
            "/content/drive/My Drive/Colab Notebooks/apex-codes/entity_sum\n"
          ]
        }
      ]
    },
    {
      "cell_type": "code",
      "metadata": {
        "colab": {
          "base_uri": "https://localhost:8080/"
        },
        "id": "E5qKrgfQYmVg",
        "outputId": "52b7fa86-c5ff-4a56-a933-12d7fecbb139"
      },
      "source": [
        "!pip3 install -q scispacy\n",
        "!pip3 install -q https://s3-us-west-2.amazonaws.com/ai2-s2-scispacy/releases/v0.3.0/en_core_sci_sm-0.3.0.tar.gz\n",
        "!pip3 install -q https://s3-us-west-2.amazonaws.com/ai2-s2-scispacy/releases/v0.4.0/en_ner_bc5cdr_md-0.4.0.tar.gz\n",
        "\n",
        "!python3 -m spacy download en"
      ],
      "execution_count": null,
      "outputs": [
        {
          "output_type": "stream",
          "name": "stdout",
          "text": [
            "\u001b[?25l\r\u001b[K     |███████▍                        | 10 kB 35.8 MB/s eta 0:00:01\r\u001b[K     |██████████████▉                 | 20 kB 39.4 MB/s eta 0:00:01\r\u001b[K     |██████████████████████▏         | 30 kB 21.6 MB/s eta 0:00:01\r\u001b[K     |█████████████████████████████▋  | 40 kB 17.9 MB/s eta 0:00:01\r\u001b[K     |████████████████████████████████| 44 kB 3.0 MB/s \n",
            "\u001b[K     |████████████████████████████████| 71 kB 5.8 MB/s \n",
            "\u001b[K     |████████████████████████████████| 13.5 MB 24.1 MB/s \n",
            "\u001b[K     |████████████████████████████████| 6.3 MB 31.4 MB/s \n",
            "\u001b[K     |████████████████████████████████| 188 kB 50.2 MB/s \n",
            "\u001b[K     |████████████████████████████████| 10.1 MB 55.0 MB/s \n",
            "\u001b[K     |████████████████████████████████| 451 kB 55.8 MB/s \n",
            "\u001b[K     |████████████████████████████████| 628 kB 47.1 MB/s \n",
            "\u001b[K     |████████████████████████████████| 42 kB 1.6 MB/s \n",
            "\u001b[K     |████████████████████████████████| 33.1 MB 79 kB/s \n",
            "\u001b[?25h  Building wheel for en-core-sci-sm (setup.py) ... \u001b[?25l\u001b[?25hdone\n",
            "\u001b[K     |████████████████████████████████| 125.1 MB 39 kB/s \n",
            "\u001b[?25h  Building wheel for en-ner-bc5cdr-md (setup.py) ... \u001b[?25l\u001b[?25hdone\n",
            "\u001b[38;5;3m⚠ As of spaCy v3.0, shortcuts like 'en' are deprecated. Please use the\n",
            "full pipeline package name 'en_core_web_sm' instead.\u001b[0m\n",
            "Collecting en-core-web-sm==3.0.0\n",
            "  Downloading https://github.com/explosion/spacy-models/releases/download/en_core_web_sm-3.0.0/en_core_web_sm-3.0.0-py3-none-any.whl (13.7 MB)\n",
            "\u001b[K     |████████████████████████████████| 13.7 MB 516 kB/s \n",
            "\u001b[?25hRequirement already satisfied: spacy<3.1.0,>=3.0.0 in /usr/local/lib/python3.7/dist-packages (from en-core-web-sm==3.0.0) (3.0.7)\n",
            "Requirement already satisfied: pydantic!=1.8,!=1.8.1,<1.9.0,>=1.7.4 in /usr/local/lib/python3.7/dist-packages (from spacy<3.1.0,>=3.0.0->en-core-web-sm==3.0.0) (1.8.2)\n",
            "Requirement already satisfied: requests<3.0.0,>=2.13.0 in /usr/local/lib/python3.7/dist-packages (from spacy<3.1.0,>=3.0.0->en-core-web-sm==3.0.0) (2.23.0)\n",
            "Requirement already satisfied: tqdm<5.0.0,>=4.38.0 in /usr/local/lib/python3.7/dist-packages (from spacy<3.1.0,>=3.0.0->en-core-web-sm==3.0.0) (4.62.3)\n",
            "Requirement already satisfied: cymem<2.1.0,>=2.0.2 in /usr/local/lib/python3.7/dist-packages (from spacy<3.1.0,>=3.0.0->en-core-web-sm==3.0.0) (2.0.6)\n",
            "Requirement already satisfied: preshed<3.1.0,>=3.0.2 in /usr/local/lib/python3.7/dist-packages (from spacy<3.1.0,>=3.0.0->en-core-web-sm==3.0.0) (3.0.6)\n",
            "Requirement already satisfied: murmurhash<1.1.0,>=0.28.0 in /usr/local/lib/python3.7/dist-packages (from spacy<3.1.0,>=3.0.0->en-core-web-sm==3.0.0) (1.0.6)\n",
            "Requirement already satisfied: numpy>=1.15.0 in /usr/local/lib/python3.7/dist-packages (from spacy<3.1.0,>=3.0.0->en-core-web-sm==3.0.0) (1.19.5)\n",
            "Requirement already satisfied: blis<0.8.0,>=0.4.0 in /usr/local/lib/python3.7/dist-packages (from spacy<3.1.0,>=3.0.0->en-core-web-sm==3.0.0) (0.4.1)\n",
            "Requirement already satisfied: catalogue<2.1.0,>=2.0.4 in /usr/local/lib/python3.7/dist-packages (from spacy<3.1.0,>=3.0.0->en-core-web-sm==3.0.0) (2.0.6)\n",
            "Requirement already satisfied: jinja2 in /usr/local/lib/python3.7/dist-packages (from spacy<3.1.0,>=3.0.0->en-core-web-sm==3.0.0) (2.11.3)\n",
            "Requirement already satisfied: typing-extensions<4.0.0.0,>=3.7.4 in /usr/local/lib/python3.7/dist-packages (from spacy<3.1.0,>=3.0.0->en-core-web-sm==3.0.0) (3.10.0.2)\n",
            "Requirement already satisfied: packaging>=20.0 in /usr/local/lib/python3.7/dist-packages (from spacy<3.1.0,>=3.0.0->en-core-web-sm==3.0.0) (21.3)\n",
            "Requirement already satisfied: pathy>=0.3.5 in /usr/local/lib/python3.7/dist-packages (from spacy<3.1.0,>=3.0.0->en-core-web-sm==3.0.0) (0.6.1)\n",
            "Requirement already satisfied: typer<0.4.0,>=0.3.0 in /usr/local/lib/python3.7/dist-packages (from spacy<3.1.0,>=3.0.0->en-core-web-sm==3.0.0) (0.3.2)\n",
            "Requirement already satisfied: srsly<3.0.0,>=2.4.1 in /usr/local/lib/python3.7/dist-packages (from spacy<3.1.0,>=3.0.0->en-core-web-sm==3.0.0) (2.4.2)\n",
            "Requirement already satisfied: thinc<8.1.0,>=8.0.3 in /usr/local/lib/python3.7/dist-packages (from spacy<3.1.0,>=3.0.0->en-core-web-sm==3.0.0) (8.0.13)\n",
            "Requirement already satisfied: setuptools in /usr/local/lib/python3.7/dist-packages (from spacy<3.1.0,>=3.0.0->en-core-web-sm==3.0.0) (57.4.0)\n",
            "Requirement already satisfied: spacy-legacy<3.1.0,>=3.0.5 in /usr/local/lib/python3.7/dist-packages (from spacy<3.1.0,>=3.0.0->en-core-web-sm==3.0.0) (3.0.8)\n",
            "Requirement already satisfied: wasabi<1.1.0,>=0.8.1 in /usr/local/lib/python3.7/dist-packages (from spacy<3.1.0,>=3.0.0->en-core-web-sm==3.0.0) (0.8.2)\n",
            "Requirement already satisfied: zipp>=0.5 in /usr/local/lib/python3.7/dist-packages (from catalogue<2.1.0,>=2.0.4->spacy<3.1.0,>=3.0.0->en-core-web-sm==3.0.0) (3.6.0)\n",
            "Requirement already satisfied: pyparsing!=3.0.5,>=2.0.2 in /usr/local/lib/python3.7/dist-packages (from packaging>=20.0->spacy<3.1.0,>=3.0.0->en-core-web-sm==3.0.0) (3.0.6)\n",
            "Requirement already satisfied: smart-open<6.0.0,>=5.0.0 in /usr/local/lib/python3.7/dist-packages (from pathy>=0.3.5->spacy<3.1.0,>=3.0.0->en-core-web-sm==3.0.0) (5.2.1)\n",
            "Requirement already satisfied: chardet<4,>=3.0.2 in /usr/local/lib/python3.7/dist-packages (from requests<3.0.0,>=2.13.0->spacy<3.1.0,>=3.0.0->en-core-web-sm==3.0.0) (3.0.4)\n",
            "Requirement already satisfied: urllib3!=1.25.0,!=1.25.1,<1.26,>=1.21.1 in /usr/local/lib/python3.7/dist-packages (from requests<3.0.0,>=2.13.0->spacy<3.1.0,>=3.0.0->en-core-web-sm==3.0.0) (1.24.3)\n",
            "Requirement already satisfied: certifi>=2017.4.17 in /usr/local/lib/python3.7/dist-packages (from requests<3.0.0,>=2.13.0->spacy<3.1.0,>=3.0.0->en-core-web-sm==3.0.0) (2021.10.8)\n",
            "Requirement already satisfied: idna<3,>=2.5 in /usr/local/lib/python3.7/dist-packages (from requests<3.0.0,>=2.13.0->spacy<3.1.0,>=3.0.0->en-core-web-sm==3.0.0) (2.10)\n",
            "Requirement already satisfied: click<7.2.0,>=7.1.1 in /usr/local/lib/python3.7/dist-packages (from typer<0.4.0,>=0.3.0->spacy<3.1.0,>=3.0.0->en-core-web-sm==3.0.0) (7.1.2)\n",
            "Requirement already satisfied: MarkupSafe>=0.23 in /usr/local/lib/python3.7/dist-packages (from jinja2->spacy<3.1.0,>=3.0.0->en-core-web-sm==3.0.0) (2.0.1)\n",
            "Installing collected packages: en-core-web-sm\n",
            "  Attempting uninstall: en-core-web-sm\n",
            "    Found existing installation: en-core-web-sm 2.2.5\n",
            "    Uninstalling en-core-web-sm-2.2.5:\n",
            "      Successfully uninstalled en-core-web-sm-2.2.5\n",
            "Successfully installed en-core-web-sm-3.0.0\n",
            "\u001b[38;5;2m✔ Download and installation successful\u001b[0m\n",
            "You can now load the package via spacy.load('en_core_web_sm')\n"
          ]
        }
      ]
    },
    {
      "cell_type": "code",
      "metadata": {
        "id": "4Eq2dLdx2XSm"
      },
      "source": [
        "!pip3 install -q jsonlines"
      ],
      "execution_count": null,
      "outputs": []
    },
    {
      "cell_type": "code",
      "metadata": {
        "colab": {
          "base_uri": "https://localhost:8080/"
        },
        "id": "l85klovdbwxW",
        "outputId": "90c34db3-4124-435c-c4fc-4f7873bc388a"
      },
      "source": [
        "import pandas as pd\n",
        "import numpy as np\n",
        "import pickle as pk\n",
        "from pprint import pprint\n",
        "import os\n",
        "\n",
        "import spacy\n",
        "import scispacy\n",
        "from spacy import displacy\n",
        "import en_core_sci_sm\n",
        "from scispacy.abbreviation import AbbreviationDetector\n",
        "from scispacy.linking import EntityLinker\n",
        "from collections import (OrderedDict,Counter, defaultdict)\n",
        "\n",
        "\n",
        "from tqdm import tqdm\n",
        "tqdm.pandas()\n",
        "\n",
        "import warnings\n",
        "warnings.filterwarnings('ignore')\n",
        "\n",
        "import nltk\n",
        "nltk.download('punkt')\n",
        "from nltk.tokenize import sent_tokenize\n",
        "from pprint import pprint\n",
        "import json\n",
        "import jsonlines\n",
        "from ast import literal_eval"
      ],
      "execution_count": null,
      "outputs": [
        {
          "output_type": "stream",
          "name": "stderr",
          "text": [
            "/usr/local/lib/python3.7/dist-packages/spacy/util.py:718: UserWarning: [W094] Model 'en_core_sci_sm' (0.3.0) specifies an under-constrained spaCy version requirement: >=2.3.1. This can lead to compatibility problems with older versions, or as new spaCy versions are released, because the model may say it's compatible when it's not. Consider changing the \"spacy_version\" in your meta.json to a version range, with a lower and upper pin. For example: >=3.0.7,<3.1.0\n",
            "  warnings.warn(warn_msg)\n"
          ]
        },
        {
          "output_type": "stream",
          "name": "stdout",
          "text": [
            "[nltk_data] Downloading package punkt to /root/nltk_data...\n",
            "[nltk_data]   Package punkt is already up-to-date!\n"
          ]
        }
      ]
    },
    {
      "cell_type": "code",
      "metadata": {
        "id": "aAhjCSVN4rdX"
      },
      "source": [
        "def _get_named_entities(ext_sum):\n",
        "  nlp = spacy.load(\"en_ner_bc5cdr_md\")\n",
        "  doc = nlp(ext_sum)\n",
        "  entities = []\n",
        "  for ent in doc.ents:\n",
        "    entities.append(ent.text)\n",
        "  str_entities = \" | \".join(entities)   # a string representation of list of entities with the pipe symbol as a separator\n",
        "  \n",
        "  return str_entities"
      ],
      "execution_count": null,
      "outputs": []
    },
    {
      "cell_type": "markdown",
      "metadata": {
        "id": "NvOanz4G2GRe"
      },
      "source": [
        "## Read the json lines files containing the pubmed article texts and abstracts, generate named entities from the article_text and the abstract as well after parsing them. "
      ]
    },
    {
      "cell_type": "code",
      "metadata": {
        "id": "q9oOokor2MG1"
      },
      "source": [
        "def main():\n",
        "  fileName = \"train_data_50k.jsonl\"\n",
        "  DATA_PATH = \"pubmed_dataset/pubmed-dataset\"\n",
        "\n",
        "  with open(f\"{DATA_PATH}/{fileName}\") as f:\n",
        "    for idx, line in enumerate(f):\n",
        "      if idx % 1000 == 0:\n",
        "        print(\"Iteration: \", idx)\n",
        "\n",
        "      data = json.loads(line)\n",
        "      if idx > 2.5e4:\n",
        "        break\n",
        "      \n",
        "      article_text = \" \".join(data['article_text'])  ##\n",
        "      article_abstract = \" \".join(data['abstract_text']).replace('<S>', '').replace('</S>', '')   ##\n",
        "\n",
        "      article_text_named_entities = _get_named_entities(article_text)\n",
        "      article_abstract_named_entities = _get_named_entities(article_abstract)\n",
        "\n",
        "      dict_1 = {\"article_text\" : article_text,\n",
        "                \"article_abstract\" : article_abstract,\n",
        "                \"article_text_named_entities\" : article_text_named_entities,\n",
        "                \"article_abstract_named_entities\" : article_abstract_named_entities\n",
        "                }\n",
        "        \n",
        "      with jsonlines.open(\"pubmed_w_named_entities_25k.jsonl\", \"a\") as writer:\n",
        "        writer.write(dict_1)\n",
        "      writer.close()\n",
        "\n",
        "  f.close()"
      ],
      "execution_count": null,
      "outputs": []
    },
    {
      "cell_type": "code",
      "metadata": {
        "id": "OsvjPwUev3vT"
      },
      "source": [
        "if __name__ == \"__main__\":\n",
        "  main()"
      ],
      "execution_count": null,
      "outputs": []
    },
    {
      "cell_type": "markdown",
      "metadata": {
        "id": "gWcWhDCPw6JD"
      },
      "source": [
        "## Read back a sample object from the jsonlines file saved above"
      ]
    },
    {
      "cell_type": "code",
      "metadata": {
        "colab": {
          "base_uri": "https://localhost:8080/"
        },
        "id": "zSnofcFcxfS6",
        "outputId": "2b899d90-868b-4243-98cc-e71607c06da8"
      },
      "source": [
        "!pwd"
      ],
      "execution_count": null,
      "outputs": [
        {
          "output_type": "stream",
          "name": "stdout",
          "text": [
            "/content/drive/My Drive/Colab Notebooks/apex-codes/entity_sum\n"
          ]
        }
      ]
    },
    {
      "cell_type": "code",
      "metadata": {
        "id": "e6-hPR5yxDi1"
      },
      "source": [
        "fileName = \"pubmed_w_named_entities_25k.jsonl\"\n",
        "lst_data = list()\n",
        "\n",
        "with open(f\"{fileName}\") as f:\n",
        "  for idx, line in enumerate(f):\n",
        "    if idx == 20:\n",
        "      break\n",
        "    data = json.loads(line)\n",
        "    lst_data.append(data)"
      ],
      "execution_count": null,
      "outputs": []
    },
    {
      "cell_type": "code",
      "metadata": {
        "colab": {
          "base_uri": "https://localhost:8080/"
        },
        "id": "xzfRG0WWxgu3",
        "outputId": "3bafd127-0f38-4db6-bc35-5c15f45867cc"
      },
      "source": [
        "lst_data[1]"
      ],
      "execution_count": null,
      "outputs": [
        {
          "data": {
            "text/plain": [
              "{'article_abstract': ' backgroundanemia in patients with cancer who are undergoing active therapy is commonly encountered and may worsen quality of life in these patients . the effect of blood transfusion is often temporary and may be associated with serious adverse events .   erythropoiesis - stimulating agents are not effective in 30%50% of patients and may have a negative effect on overall survival.aimsto assess the efficacy and feasibility of intravenous iron therapy in patients with cancer who have non - iron - deficiency anemia and who are undergoing treatment with chemotherapy without the use of erythropoiesis - stimulating agents.methodsadult patients with solid cancers and non - iron - deficiency anemia were included .   ferric sucrose at a dose of 200 mg was given in short intravenous infusions weekly for a total of 12 weeks .   hemoglobin level was measured at baseline , every 3 weeks , and 2 weeks after the last iron infusion ( week 14 ) .   adverse events related to intravenous iron were prospectively reported.resultsof 25 patients included , 19 ( 76.0% ) completed at least three iron infusions and 14 ( 56.0% ) finished the planned 12 weeks of therapy .   the mean hemoglobin level of the 25 patients at baseline was 9.6 g / dl ( median , 9.9 g / dl ; range , 6.9 g / dl 10.9 g / dl ) . the mean change in hemoglobin level for the 15 patients who completed at least 9 treatments was 1.7 g / dl ( median , 1.1 g / dl ; range , 1.9 g / dl to 3.2 g / dl ) ; it reached 2.1 g / dl ( median , 1.3 g / dl ; range , 0.2 g / dl to 4.6 g / dl ; p = 0.0007 ) for the 14 patients who completed all 12 weekly treatments .   five ( 20.0% ) patients were transfused and considered as treatment failures .   no treatment - related adverse events were reported.conclusionintravenous iron treatment alone is safe and may reduce blood transfusion requirements and improve hemoglobin level in patients with cancer who are undergoing anticancer therapy .   further randomized studies are needed to confirm these findings . ',\n",
              " 'article_abstract_named_entities': 'cancer | iron | cancer | iron | anemia | cancers | iron | anemia | sucrose | iron | iron | iron | iron | cancer',\n",
              " 'article_text': 'it occurs in more than 50% of patients and may reach 90% in certain types of cancers , especially in patients undergoing chemotherapy and/or radiation therapy.1 anemia is defined as an inadequate circulating level of hemoglobin ( hb ) ( hb < 12 g / dl ) and may arise as a result of the underlying disease , bleeding , poor nutrition , chemotherapy , or radiation therapy . preliminary studies suggest that survival and loco - regional control after radiation therapy , especially in head and neck cancers , may be compromised by anemia.24 anemia often worsens symptoms such as fatigue , weakness , and dyspnea , and thus may have a negative effect on quality of life ( qol ) and performance status in patients with cancer . thus , to improve physical functioning , qol , and prognosis in patients with cancer , it would be reasonable to take a proactive approach in identifying populations who need treatment for cancer - associated anemia ( caa ) and provide timely management . blood transfusion is an effective way to replace depleted hb within a short period , but the effect is , unfortunately , temporary and can cause serious adverse risks and increased mortality . in randomized clinical trials in patients with caa , erythropoiesis - stimulating agents ( esas ) produced significant increases in hb level , decreased transfusion requirements , and improved qol.57 however , 30%50% of patients do not respond to such agents . in addition , the use of esas often causes concern about severe adverse reactions.6,8 in several studies , esas were found to shorten overall survival time , or time to tumor progression in patients whose hb level reached more than 12 g / dl . these studies included patients with different primary cancers , such as breast , lung , head and neck , cervix , and lymphomas.911 the lack of response to erythropoietin stimulation in patients with cancer is partly attributed to the functional iron deficiency state , in which the high rate of erythropoiesis exceeds the delivery of usable iron , despite adequate iron stores.12 absolute iron deficiency , in contrast , occurs when iron delivery is impaired because iron stores are depleted ( serum ferritin , < 100 ng / ml ; transferring saturation , < 20%).13 hepcidin , a peptide hormone produced by the liver , is up - regulated in chronic inflammatory states including cancer . hepcidin inhibits iron transport across cell membranes , thus decreasing the accessibility of stored iron and gastrointestinal absorption of dietary iron , leading to an increased frequency of iron - restricted erythropoiesis.1416 many randomized trials examined the role of intravenous ( iv ) iron in addition to esas in the treatment of anemia in patients with cancer . many of these studies showed improvement in esa response , time to maximal response , reduction in esa dose , and improvement in qol parameters ( when measured ) in favor of the combination over esas alone . the observed benefit was independent of baseline iron parameters.1721 one study found a 36% reduction in the number of patients transfused.21 this pilot study assessed the efficacy and feasibility of iv iron monotherapy in patients with cancer who have anemia and who are undergoing treatment with chemotherapy and/or radiation therapy without the use of esas . patients received the study treatment for 12 weeks followed by a 4-week follow - up period . eligible patients were at least 18 years old , about to start a cycle of chemotherapy and/or radiation therapy within 1 week of inclusion , and had a nonmyeloid malignancy , hb levels of 11.0 g / dl or less , a life expectancy of more than 24 weeks , and an eastern cooperative oncology group performance status of 02 . patients were also required to have a serum ferritin level of 100 ng / ml or higher or transferrin saturation ( tsat ) levels of 15% or higher and to have received no esas or iv iron therapy within 30 days and no oral iron therapy ( 27 mg / day or more ) within 7 days before enrollment . patients were excluded for leukoerythroblastic features on blood film , hemolysis , gastrointestinal bleeding , folate or vitamin b12 deficiency , elevated serum ferritin ( 900 ng / ml ) or transferrin saturation ( tsat ) ( 35% ) levels , pregnancy or lactation , liver dysfunction ( grade 2 or higher based on national cancer institute common toxicity criteria ) , renal dysfunction ( serum creatinine levels 2.0 mg / dl ) , active infection requiring systemic antibiotics , personal or family history of hemochromatosis , comorbidities precluding study participation , hypersensitivity to iv iron , red blood cell transfusion within the last 2 weeks , or any investigational agent within 30 days before enrollment . patients were not allowed to take any vitamin , mineral , or herbal supplements containing 27 mg or more of iron per day or 100 mg vitamin c per day during the study or follow - up period . blood transfusions were permitted at the primary physician s discretion if hb levels decreased to 8 g / dl or less , and such patients were considered treatment failures . written informed consent was provided by all patients before study participation , and the protocol and supporting documents were approved by the institutional review board of king hussein cancer center . the study was conducted in accordance with the declaration of helsinki and good clinical practice as contained in the us code of federal regulations that governs the protection of human subjects and the obligations of clinical investigators . patients received 200 mg ferric hydroxide sucrose diluted in 100 ml normal saline and infused over the course of 1 hour weekly for a total of 12 weeks . the first dose was given during the first clinic visit ( 4 days from the initiation of chemotherapy or radiation therapy ) . tsat was monitored , as protocol mandated withholding iron therapy when tsat levels were higher than 50% . at the first clinic visit ( week 1 ; baseline ) , a blood sample was obtained for laboratory assessments before the study treatment was started . patients attended weekly clinic visits for treatment and assessment ; and returned for follow - up visits at week 14 which included a complete physical examination . complete blood count and tsat were done every 3 weeks , and again 2 weeks after last treatment ( week 14 ) . complete laboratory assessment ( hb , serum ferritin , reticulocyte count , transferrin , tsat , serum iron , total iron binding capacity , red cell indices , white blood cell count with differential , platelet count , and serum chemistries ) were done at week 1 and at week 14 ( end of study ) . adverse events were assessed at each clinic visit until study completion or withdrawal , and during the 30 days after the last study treatment . hb test results were presented as mean , median , and range through all 12 weeks . comparison between means of hb level were made between the baseline hb and hb levels in the following weeks , using t - test . a significance criterion of p < 0.05 was used in the analysis . all analyses were performed using sas version 9.1 ( sas institute inc , cary , nc , usa ) . patients received the study treatment for 12 weeks followed by a 4-week follow - up period . eligible patients were at least 18 years old , about to start a cycle of chemotherapy and/or radiation therapy within 1 week of inclusion , and had a nonmyeloid malignancy , hb levels of 11.0 g / dl or less , a life expectancy of more than 24 weeks , and an eastern cooperative oncology group performance status of 02 . patients were also required to have a serum ferritin level of 100 ng / ml or higher or transferrin saturation ( tsat ) levels of 15% or higher and to have received no esas or iv iron therapy within 30 days and no oral iron therapy ( 27 mg / day or more ) within 7 days before enrollment . patients were excluded for leukoerythroblastic features on blood film , hemolysis , gastrointestinal bleeding , folate or vitamin b12 deficiency , elevated serum ferritin ( 900 ng / ml ) or transferrin saturation ( tsat ) ( 35% ) levels , pregnancy or lactation , liver dysfunction ( grade 2 or higher based on national cancer institute common toxicity criteria ) , renal dysfunction ( serum creatinine levels 2.0 mg / dl ) , active infection requiring systemic antibiotics , personal or family history of hemochromatosis , comorbidities precluding study participation , hypersensitivity to iv iron , red blood cell transfusion within the last 2 weeks , or any investigational agent within 30 days before enrollment . patients were not allowed to take any vitamin , mineral , or herbal supplements containing 27 mg or more of iron per day or 100 mg vitamin c per day during the study or follow - up period . blood transfusions were permitted at the primary physician s discretion if hb levels decreased to 8 g / dl or less , and such patients were considered treatment failures . written informed consent was provided by all patients before study participation , and the protocol and supporting documents were approved by the institutional review board of king hussein cancer center . the study was conducted in accordance with the declaration of helsinki and good clinical practice as contained in the us code of federal regulations that governs the protection of human subjects and the obligations of clinical investigators . patients received 200 mg ferric hydroxide sucrose diluted in 100 ml normal saline and infused over the course of 1 hour weekly for a total of 12 weeks . the first dose was given during the first clinic visit ( 4 days from the initiation of chemotherapy or radiation therapy ) . tsat was monitored , as protocol mandated withholding iron therapy when tsat levels were higher than 50% . at the first clinic visit ( week 1 ; baseline ) , a blood sample was obtained for laboratory assessments before the study treatment was started . patients attended weekly clinic visits for treatment and assessment ; and returned for follow - up visits at week 14 which included a complete physical examination . complete blood count and tsat were done every 3 weeks , and again 2 weeks after last treatment ( week 14 ) . complete laboratory assessment ( hb , serum ferritin , reticulocyte count , transferrin , tsat , serum iron , total iron binding capacity , red cell indices , white blood cell count with differential , platelet count , and serum chemistries ) were done at week 1 and at week 14 ( end of study ) . adverse events were assessed at each clinic visit until study completion or withdrawal , and during the 30 days after the last study treatment . hb test results were presented as mean , median , and range through all 12 weeks . comparison between means of hb level were made between the baseline hb and hb levels in the following weeks , using t - test . a significance criterion of p < 0.05 was used in the analysis . all analyses were performed using sas version 9.1 ( sas institute inc , cary , nc , usa ) . twenty - five patients ( 17 women and 8 men ) were eligible , consented , and included in the study ; their mean age ( standard deviation , [ sd ] ) was 56 years ( 13.0 years ) . chemotherapy varied according to the primary cancer and included anthracycline , platinum , taxanes , cyclophosphamide , high - dose ifosfamide , vincristine , vinblastine , bleomycin , and others . many of the included patients had their chemotherapy treatment as second- or third - line therapy . patients characteristics , including age , primary tumor , and active anticancer treatment are summarized in table 1 . one patient died during the study from his tumor ( after week 2 ) , and five patients withdrew from the study because of inconvenience ( three after week 3 , and two after week 4 ) . nineteen ( 76.0% ) patients completed a minimum of three treatments , 15 ( 60.0% ) completed nine treatments , and 14 ( 56.0% ) completed all twelve planned weekly treatments . as seen in table 2 , the mean hb level of the 25 patients at baseline was 9.6 g / dl ( median , 9.9 g / dl ; range , 6.9 g / dl10.9 g / dl ) . for the 15 patients who completed at least nine treatments , the mean change in their hb level was 1.7 g / dl ( median , 1.1 g / dl ; range , 1.9 g / dl to 3.2 g / dl ) . for the 14 patients who completed the whole treatment period ( 12 weeks ) , the mean hb level change was 2.1 g / dl ( median , 1.3 g / dl ; range , 0.2 g / dl to 4.6 g / dl ; p = 0.0007 ) . eight ( 42.1% ) of the 19 patients who completed at least three iron infusions had a more than 1 g / dl increase in their hb level . hemoglobin level changes for the 14 patients who completed twelve iron infusions are shown in figure 1 . no iv iron - related adverse events were reported among patients during the study or the follow - up period . tsat was monitored during the study period , and no patients had tsat levels increase to more than 50% . the highest ferritin level among patients who completed at least nine iv iron treatments was 1,170 ng / ml ; the mean level at the end of study period for the whole group was 379 ng / ml . five ( 20.0% ) patients received blood transfusions and were considered treatment failures ( three after week 3 , transfused at hb levels of 6.9 g / dl , 7.8 g / dl , and 5.4 g / dl ; one after week 4 , transfused at an hb level of 8.2 g / dl ; and one after week 9 , transfused at an hb level of 7.2 g / dl ) . low hb levels are associated with diminished qol and possibly decreased overall survival.2 successful treatment of anemia has undeniable benefits for patients , often yielding dramatic symptomatic improvement . although the role of esas is well - established in treating caa , big concerns were recently raised about the negative effect of esas on survival in some patients with cancer.911 concerns about the risk for thromboembolism in patients with cancer with higher hb levels who are receiving esa were also addressed in many trials.22,23 in addition , the possible immunosuppressive effects of blood product transfusions that may have relevance to neoplasia progression were addressed before.24 , 25 in our pilot study , we tested the feasibility of using iron supplementation alone to treat anemia in patients with cancer who are undergoing chemotherapy without the use of esas or blood transfusion , which could be a valid alternative , especially for patients with curable cancers . oral iron is easier to administer and relatively inexpensive , but low patient adherence , poor enteral absorption , and poor tolerance because of a wide range of troublesome gastrointestinal adverse effects limit its overall effectiveness.26 anemia of chronic disease may occur in patients with cancer and is associated with an increase in hepcidin levels , which decreases oral iron absorption and bone marrow iron use , negating any possible effect of regular doses of oral iron.15 iv iron therapy significantly improves response to epoetin alfa when compared with oral iron or no iron in anemic patients with cancer who are receiving chemotherapy.1721 oral iron supplements with esas showed no significant benefit over esas alone in treating caa.21 sodium ferric gluconate and iron sucrose appear to have more favorable safety profiles over iron dextran . a large prospective safety comparison trial failed to show serious anaphylactoid reactions,27 which is confirmed in our study , in which no patients developed reactions and no patients withdrew from the study because of adverse effects . given that the mean hb increase using esas with iv iron in one large controlled trial was 2.4 g / dl,21 the results obtained in our study are clinically significant . these findings should be further confirmed and better assessed in larger studies , in which questions such as the optimal timing of iv iron therapy with respect to chemotherapy and the optimal total dose of iv iron should be determined . the use of iv iron monotherapy was recently reviewed by a group in germany that studied the use of ferric carboxymaltose to replace esa and blood transfusions as a treatment for caa . iron - deficient patients treated with ferric carboxymaltose alone ( n = 233 ) had a median of 1.4 g / dl increase in hemoglobin levels compared with those receiving additional treatment with esas ( n = 46 ; median , 1.6 g / dl ) . our study , however , is peculiar in using iron therapy in a non - iron - deficiency state.28 iron overload after iv iron therapy , with potential concerns about the risk of developing secondary cancers and infection , might be raised . the highest serum ferritin level in the present study in patients who completed at least 9 weeks of iv iron therapy was 1,170 ng / ml . most of the literature addressing cancer and infections in iron - overloaded patients comes from patients with hemochromatosis or patients who are undergoing hemodialysis . published reviews report an increase in hepatocellular carcinoma only in patients with hemochromatosis after they develop cirrhosis.29 similarly data supporting the association between iv iron therapy and higher infection rate are weak and not well - supported.30 in fact , anemia itself is a risk factor for infections in patients receiving hemodialysis.31 a multivariate analysis of associations between iron and mortality in more than 58,000 patients receiving hemodialysis reported no increased death rate from serum ferritin levels as high as 1,200 ng / ml.30 the increasing cost of therapy in patients with cancer is of grave concern , which could be an additional benefit of iv iron over the use of esas in such patients . to further address many of the questions raised , our team is planning a bigger trial for iv iron in patients with cancer who have anemia to confirm the results discussed in this pilot trial . in addition , we will be looking into predictors of response to iv iron , such as serum hepcidin level . iv iron therapy alone is safe and may be effective in improving hb levels in patients with cancer who are undergoing active anticancer therapy . further randomized trials are needed to address many of the questions raised in our pilot study .',\n",
              " 'article_text_named_entities': 'cancers | anemia | bleeding | head and neck cancers | anemia | fatigue | weakness | dyspnea | cancer | cancer | cancer | anemia | qol.57 | tumor | cancers | breast , lung , head and neck , cervix | cancer | iron | iron | iron | iron | iron | iron | cancer | iron | iron | iron | iron | iron | anemia | cancer | iron | iron | cancer | anemia | nonmyeloid malignancy | iron | iron | leukoerythroblastic | hemolysis | gastrointestinal bleeding | folate | vitamin b12 deficiency | liver dysfunction | cancer | toxicity | renal dysfunction | creatinine | hemochromatosis | hypersensitivity | iron | vitamin | iron | vitamin c per day | ferric hydroxide sucrose | iron | iron | iron | nonmyeloid malignancy | iron | iron | leukoerythroblastic | hemolysis | gastrointestinal bleeding | folate | vitamin b12 deficiency | liver dysfunction | cancer | toxicity | renal dysfunction | creatinine | hemochromatosis | hypersensitivity | iron | vitamin | iron | vitamin c per day | ferric hydroxide sucrose | iron | iron | iron | primary cancer | anthracycline | platinum | taxanes | cyclophosphamide | ifosfamide | vincristine | vinblastine | bleomycin | tumor | tumor | iron | iron | iron | iron | anemia | thromboembolism | cancer | trials.22,23 | neoplasia | iron | anemia | cancer | curable cancers | iron | gastrointestinal adverse | anemia | chronic disease | cancer | decreases oral | iron | bone marrow iron | iron | epoetin | iron | iron | cancer | iron | sodium ferric gluconate | iron | iron | iron | iron | iron | iron | ferric carboxymaltose | iron | ferric carboxymaltose | iron | iron | iron | iron | cancers | infection | iron | cancer | infections | iron | hemochromatosis | hepatocellular carcinoma | hemochromatosis | iron | infection | anemia | infections | iron | death | cancer | iron | iron | cancer | anemia | iron | iron | cancer'}"
            ]
          },
          "execution_count": 15,
          "metadata": {},
          "output_type": "execute_result"
        }
      ]
    },
    {
      "cell_type": "code",
      "metadata": {
        "colab": {
          "base_uri": "https://localhost:8080/"
        },
        "id": "4lzJfY9ixDWZ",
        "outputId": "a3ba642b-9051-4a6a-e604-db9157489132"
      },
      "source": [
        "lst_data[2]"
      ],
      "execution_count": null,
      "outputs": [
        {
          "data": {
            "text/plain": [
              "{'article_abstract': ' tardive dystonia ( td ) is a serious side effect of antipsychotic medications , more with typical antipsychotics , that is potentially irreversible in affected patients .   studies show that newer atypical antipsychotics have a lower risk of td . as a result , many clinicians may have developed a false sense of security when prescribing these medications .   we report a case of 20-year - old male with hyperthymic temperament and borderline intellectual functioning , who developed severe td after low dose short duration exposure to atypical antipsychotic risperidone and then olanzapine .   the goal of this paper is to alert the reader to be judicious and cautious before using casual low dose second generation antipsychotics in patient with no core psychotic features , hyperthymic temperament , or borderline intellectual functioning suggestive of organic brain damage , who are more prone to develop adverse effects such as td and monitor the onset of td in patients taking atypical antipsychotics . ',\n",
              " 'article_abstract_named_entities': 'tardive dystonia | hyperthymic temperament | risperidone | olanzapine | psychotic | hyperthymic temperament | organic brain damage',\n",
              " 'article_text': \"tardive dystonia ( td ) , a rarer side effect after longer exposure to antipsychotics , is characterized by local or general , sustained , involuntary contraction of a muscle or muscle group , with twisting movements , generally slow , which may affect the limbs , trunk , neck , or face . td has been shown to develop in about 3% of patients who have had long - term exposure to antipsychotics . . the low risk of td for atypical antipsychotics is thought to result from their weak affinity for dopamine receptors . compared with typical , atypical antipsychotic agents have a greater affinity for serotonin 5-ht2a than dopamine d2 receptors , with a low propensity to induce td . among this olanzapine is thought to have preferential action at mesolimbic over nigrostriatal dopaminergic pathways and is , therefore , associated with a very low incidence of extrapyramidal symptom ( eps ) . furthermore , a retrospective analysis of controlled multicentric trials suggested that olanzapine also improves preexisting symptoms of tardive movements . we report a case of 20-year - old male , belonging to lower socioeconomic class , educated up to 2 standard , presented with severe unilateral dystonic left sided neck movements [ figure 1 ] . careful history exploration revealed he was taking risperidone 2 mg irregularly for 2 months and then olanzapine 5 mg for another 4 months . picture of neck dystonia of patient at 19 years , the patient presented with occasional anger outbursts , getting provoked on small matters and beating family members , running away from home , screaming episodes occasionally , fearfulness , sleep disturbance for 2 days ; which was precipitated after fever . according to the mother , one friend might have threatened / made fun of him actually and after that patient stopped going out of house , and displayed above mentioned symptoms . this was interpreted as psychosis with persecutory ideas , and he was treated with risperidone 2 mg / day for 2 months and then with olanzapine 5 mg / day for 4 months . in last two follow - ups patient did not present himself , and mother reported unusual neck movements , which were taken as a part of his overall psychopathology and not taken seriously , slight intermittent neck movements reported were missed as part of adolescent behavior problems mimicking some hero in movies . as neck dystonia increased , the patient had a severe disability as patient had to keep his hands behind his head for the support . the movement would decrease when the patient was lying down and was absent during sleep . he even stopped taking food due to severe neck movements making chewing and swallowing difficult . his birth and early developmental milestones were normal . during 210 years of age patient was inattentive and mildly hyperactive . other siblings were educated with master 's degree , and patient was also sent to school , but due to inattention and restlessness , he did not pass 2 standard after three attempts . he left the schooling . with average executive functioning and life skills , he worked as an unskilled laborer in the neighborhood shops as a helping hand . , he was found to be getting over familiar , cheerful , moody , and short tempered . sometimes , the patient had inappropriate social judgment ; for which his friends made fun of him , and teased him . on mental status assessment , routine investigations , thyroid function tests , electroencephalogram , fundus examination , cervical x - ray , magnetic resonance imaging brain were normal . after consulting neurophysician , wilson 's disease and other secondary causes of dystonia were ruled out . the patient was treated with clonazepam 1 mg total dissolved solid ( tds ) , tetrabenazine 25 mg tds , trihexiphenidyl 2 mg bipolar disorder ( bd ) . after 2 months , there was some improvement of around 30% . baclofen 10 mg was added ; increased up to 20 mg , trihexyphenidyl reduced to 2 mg . with little improvement after 4 months of treatment for dystonia , levodopa + carbidopa ( 100 + 25 ) was added by neurophysician and increased up to  tablet tds and baclofen omitted . after 12 months of treatment , patient has improved around 90% with tetrabenazine 75 mg , levodopa + carbidopa ( 100 + 25 ) -  tablet bd , and clonazepam 1 mg bd . earlier case reports reported td developing with high - dose atypical antipsychotics such as olanzapine 20 mg or aripiprazole 15 mg with longer duration of exposure of around 1215 months in established psychiatric illness like schizophrenia or any other psychotic illness . eps in general and tardive dyskinesia , in particular , have been extensively studied in schizophrenia . even though a number of studies suggest that bipolar patients experience higher rates of eps ( parkinsonism , dystonia , akathisia ) and td compared to patients with a diagnosis of schizophrenia , research within the bd population has been limited . the risk is found to be 3 to 5 times higher in elderly patients compared to young patients . in addition to age , the risk is directly proportional to : female gender , daily and total dose of the antipsychotic drug , presence of mood disorder , the use of anticholinergics with neuroleptics , previous physical therapies ( electroconvulsive therapy ) , the presence of other physical illness such as diabetes or an organic disorder , younger age of exposure , and the presence of extrapyramidal symptoms early in treatment . this patient 's severe dystonic neck movements developed within short period of 6 months of exposure to atypical antipsychotics risperidone 2 mg and then olanzapine 5 mg only , which can cause minimal extrapyramidal side effects . in this case , risk factors for developing serious disabling td were neuroleptic exposure , borderline intellectual functioning , externalizing behavior , probable misdiagnosis , and overlooking early indicators of side effects . this case highlights dangers of casually prescribing low dose second generation antipsychotics in patient with hyperthymic temperament and borderline intellectual functioning with vague short lasting presenting complaints ; probably misdiagnosed as psychosis ; leading to such severe adverse effects because patients with organic brain damage are more prone to develop adverse effects like td . thus , judicious use of antipsychotics , with detailed and frequent assessments is important , and emergent stereotyped behavior or unexplained movements must be examined carefully and taken seriously . the authors certify that they have obtained all appropriate patient consent forms . in the form the patient(s ) has / have given his / her / their consent for his / her / their images and other clinical information to be reported in the journal . the patients understand that their names and initials will not be published and due efforts will be made to conceal their identity , but anonymity can not be guaranteed . the authors certify that they have obtained all appropriate patient consent forms . in the form the patient(s ) has / have given his / her / their consent for his / her / their images and other clinical information to be reported in the journal . the patients understand that their names and initials will not be published and due efforts will be made to conceal their identity , but anonymity can not be guaranteed .\",\n",
              " 'article_text_named_entities': \"tardive dystonia | muscle or muscle group | twisting movements | dopamine | serotonin | dopamine | olanzapine | extrapyramidal symptom ( eps | olanzapine | tardive movements | risperidone | olanzapine | dystonia | anger outbursts | screaming | sleep disturbance | fever | psychosis | risperidone | olanzapine | intermittent neck movements | adolescent behavior | neck dystonia | neck movements | hyperactive | inappropriate social judgment | wilson 's disease | dystonia | clonazepam | tetrabenazine | tds | trihexiphenidyl | bipolar disorder | bd | baclofen | trihexyphenidyl | dystonia | levodopa | carbidopa | tds | baclofen | tetrabenazine | levodopa | carbidopa | bd | clonazepam | olanzapine | aripiprazole | psychiatric illness like schizophrenia | psychotic illness | tardive dyskinesia | schizophrenia | bipolar | parkinsonism | dystonia | akathisia | schizophrenia | mood disorder | diabetes | organic disorder | extrapyramidal symptoms | dystonic neck movements | risperidone | olanzapine | hyperthymic temperament | psychosis | organic brain damage | emergent stereotyped behavior | patient(s | patient(s\"}"
            ]
          },
          "execution_count": 16,
          "metadata": {},
          "output_type": "execute_result"
        }
      ]
    },
    {
      "cell_type": "code",
      "metadata": {
        "id": "_khPkKe-3g1k"
      },
      "source": [
        ""
      ],
      "execution_count": null,
      "outputs": []
    },
    {
      "cell_type": "code",
      "metadata": {
        "id": "0az5wCFkyVwW"
      },
      "source": [
        ""
      ],
      "execution_count": null,
      "outputs": []
    },
    {
      "cell_type": "markdown",
      "metadata": {
        "id": "YI1Ur2cYRMaY"
      },
      "source": [
        "## https://towardsdatascience.com/understanding-faiss-619bb6db2d1a"
      ]
    },
    {
      "cell_type": "code",
      "metadata": {
        "colab": {
          "base_uri": "https://localhost:8080/"
        },
        "id": "ATGadjcSPDep",
        "outputId": "abdabd21-360c-4421-dbb4-24570f800c11"
      },
      "source": [
        "!pip3 install faiss-gpu"
      ],
      "execution_count": null,
      "outputs": [
        {
          "output_type": "stream",
          "name": "stdout",
          "text": [
            "Collecting faiss-gpu\n",
            "  Downloading faiss_gpu-1.7.1.post3-cp37-cp37m-manylinux_2_17_x86_64.manylinux2014_x86_64.whl (90.1 MB)\n",
            "\u001b[K     |████████████████████████████████| 90.1 MB 21 kB/s \n",
            "\u001b[?25hInstalling collected packages: faiss-gpu\n",
            "Successfully installed faiss-gpu-1.7.1.post3\n"
          ]
        }
      ]
    },
    {
      "cell_type": "code",
      "metadata": {
        "id": "AenW7NVcPy3J"
      },
      "source": [
        "import numpy as np \n",
        "import faiss  # this will import the faiss library"
      ],
      "execution_count": null,
      "outputs": []
    },
    {
      "cell_type": "code",
      "metadata": {
        "id": "y4lGHZWTB9Jf"
      },
      "source": [
        "res = faiss.StandardGpuResources()  # use a single GPU"
      ],
      "execution_count": null,
      "outputs": []
    },
    {
      "cell_type": "code",
      "metadata": {
        "colab": {
          "base_uri": "https://localhost:8080/"
        },
        "id": "ByXslqTPB-fQ",
        "outputId": "a5ed80c7-13a3-4464-8c1d-d1ed3be01ce7"
      },
      "source": [
        "res"
      ],
      "execution_count": null,
      "outputs": [
        {
          "output_type": "execute_result",
          "data": {
            "text/plain": [
              "<faiss.swigfaiss.StandardGpuResources; proxy of <Swig Object of type 'faiss::gpu::StandardGpuResources *' at 0x7f0dce6f0e10> >"
            ]
          },
          "metadata": {},
          "execution_count": 11
        }
      ]
    },
    {
      "cell_type": "code",
      "metadata": {
        "id": "NYU5D59dQx0C"
      },
      "source": [
        "dimension = 128    # dimensions of each vector                         \n",
        "n = 200    # number of vectors                   \n",
        "np.random.seed(1)             \n",
        "db_vectors = np.random.random((n, dimension)).astype('float32')"
      ],
      "execution_count": null,
      "outputs": []
    },
    {
      "cell_type": "code",
      "metadata": {
        "colab": {
          "base_uri": "https://localhost:8080/"
        },
        "id": "-YZDpUS6Qxb4",
        "outputId": "ba7efb48-aef9-4200-fddc-ede60e00ed6e"
      },
      "source": [
        "db_vectors.shape"
      ],
      "execution_count": null,
      "outputs": [
        {
          "output_type": "execute_result",
          "data": {
            "text/plain": [
              "(200, 128)"
            ]
          },
          "metadata": {},
          "execution_count": 13
        }
      ]
    },
    {
      "cell_type": "code",
      "metadata": {
        "id": "UAi-bhZLQxX-"
      },
      "source": [
        "nlist = 5  # number of clusters\n",
        "quantiser = faiss.IndexFlatL2(dimension)  \n",
        "index = faiss.IndexIVFFlat(quantiser, dimension, nlist,   faiss.METRIC_L2)"
      ],
      "execution_count": null,
      "outputs": []
    },
    {
      "cell_type": "code",
      "metadata": {
        "colab": {
          "base_uri": "https://localhost:8080/"
        },
        "id": "FAYYpo0rQxTK",
        "outputId": "80dea978-4677-4dc7-b3c7-f0f93143c346"
      },
      "source": [
        "print(index.is_trained)   # False\n",
        "index.train(db_vectors)  # train on the database vectors\n",
        "print(index.ntotal)   # 0\n",
        "index.add(db_vectors)   # add the vectors and update the index\n",
        "print(index.is_trained)  # True\n",
        "print(index.ntotal)   # 200"
      ],
      "execution_count": null,
      "outputs": [
        {
          "output_type": "stream",
          "name": "stdout",
          "text": [
            "False\n",
            "0\n",
            "True\n",
            "200\n"
          ]
        }
      ]
    },
    {
      "cell_type": "code",
      "metadata": {
        "id": "OdNsvwOXRQz6"
      },
      "source": [
        "nprobe = 2  # find 2 most similar clusters\n",
        "n_query = 10  \n",
        "k = 3  # return 3 nearest neighbours\n",
        "np.random.seed(0)   \n",
        "query_vectors = np.random.random((n_query, dimension)).astype('float32')\n",
        "distances, indices = index.search(query_vectors, k)"
      ],
      "execution_count": null,
      "outputs": []
    },
    {
      "cell_type": "code",
      "metadata": {
        "colab": {
          "base_uri": "https://localhost:8080/"
        },
        "id": "AxeCEaRQRQw3",
        "outputId": "7a7ba2f7-8f6f-4e8a-dd52-e9c127c27a15"
      },
      "source": [
        "distances"
      ],
      "execution_count": null,
      "outputs": [
        {
          "output_type": "execute_result",
          "data": {
            "text/plain": [
              "array([[15.7704525, 16.77301  , 17.171312 ],\n",
              "       [16.476105 , 18.52229  , 18.811914 ],\n",
              "       [15.520994 , 16.50026  , 17.069548 ],\n",
              "       [16.842714 , 17.712343 , 17.828485 ],\n",
              "       [18.325394 , 18.495459 , 18.684458 ],\n",
              "       [17.531889 , 18.181791 , 18.331264 ],\n",
              "       [16.84016  , 17.036638 , 17.091757 ],\n",
              "       [15.984031 , 16.380919 , 17.270594 ],\n",
              "       [18.018503 , 18.076103 , 18.766174 ],\n",
              "       [17.11392  , 17.385286 , 17.657572 ]], dtype=float32)"
            ]
          },
          "metadata": {},
          "execution_count": 17
        }
      ]
    },
    {
      "cell_type": "code",
      "metadata": {
        "colab": {
          "base_uri": "https://localhost:8080/"
        },
        "id": "NEVdGHjTPDZA",
        "outputId": "79118e22-e393-45a3-d2e7-b026933432d6"
      },
      "source": [
        "indices"
      ],
      "execution_count": null,
      "outputs": [
        {
          "output_type": "execute_result",
          "data": {
            "text/plain": [
              "array([[185,  35,  96],\n",
              "       [118,  51, 122],\n",
              "       [148, 149, 173],\n",
              "       [175, 177,  50],\n",
              "       [ 44, 144, 174],\n",
              "       [156,  74, 151],\n",
              "       [ 57, 144,  18],\n",
              "       [ 82,  12,  46],\n",
              "       [ 52,  73,  59],\n",
              "       [ 82,  46,  90]])"
            ]
          },
          "metadata": {},
          "execution_count": 18
        }
      ]
    },
    {
      "cell_type": "code",
      "metadata": {
        "id": "s4PRxisMS7kI"
      },
      "source": [
        "# the dict_data passed here is a json object with article_text, article_abstrat, article_text_named_entities and\n",
        "# article_abstract_named_entities\n",
        "# K - number of facts per named entity to be summarized (here the facts are retrieved such that they should be semantically similar to the \n",
        "# sentences where the named entity appears in)\n",
        "'''\n",
        "import itertools\n",
        "\n",
        "res = faiss.StandardGpuResources()  # use a single GPU\n",
        "\n",
        "\n",
        "def _get_entity_based_facts(dict_data, top_k=3):\n",
        "  dict_knowledge_facts_final = defaultdict(list)   # to store facts extracted from the background knowledge bases (UMLS, ICD-11, SNOMED-CT)\n",
        "  lst_knowledge_facts_total = list()\n",
        "\n",
        "  lst_named_entities_text = list(set(dict_data['article_text_named_entities'].split(' | ')))\n",
        "  \n",
        "  input_text = dict_data['article_text']   # the input_text to be summarized into the abstract---this is what is to be tokenized\n",
        "  \n",
        "  input_text_sentences = sent_tokenize(input_text) # this gives us a list of sentences\n",
        "\n",
        "  lst_query_embeddings = []   # This is for storing avg sentene embeddings of all sentences corresponding to a named entity\n",
        "  lst_fact_embeddings = []    # to build the faiss index\n",
        "  for named_entity in lst_named_entities_text:\n",
        "    sentences_w_named_entity = [sent for sent in input_text_sentences if named_entity in sent]  # Get sentences with the named entity\n",
        "  \n",
        "    try:\n",
        "      facts_complete = PYM.search(named_entity)\n",
        "\n",
        "      #lst_knowledge_facts = list()\n",
        "      for fact_str in facts_complete:        \n",
        "        fact = str(fact_str).split(' # ')[1].strip()   # the actual description linking the named entity pair (disregarding the CUI identifier)\n",
        "        lst_knowledge_facts_total.append(fact)\n",
        "    except:\n",
        "      continue\n",
        "\n",
        "    sentence_w_named_entities_embeddings = [biobert.sentence_vector(sent).numpy() for sent in sentences_w_named_entity]\n",
        "    # avg embedding of all sentences where the named entity appears in\n",
        "    avg_sentence_w_entities_embedding = np.mean(np.array(sentence_w_named_entities_embeddings), axis=0)   # to be used as a query\n",
        "    \n",
        "    lst_query_embeddings.append(avg_sentence_w_entities_embedding)   # list of all sentences embeddings for a document (this could be a numpy matrix)\n",
        "    \n",
        "\n",
        "  for fact in lst_knowledge_facts_total:\n",
        "    fact_biobert_embedding = biobert.sentence_vector(fact)\n",
        "    lst_fact_embeddings.append(fact_biobert_embedding)\n",
        "\n",
        "  np_query_embeddings = np.asarray(lst_query_embeddings)\n",
        "  np_fact_embeddings = np.asarray(lst_fact_embeddings)\n",
        "\n",
        "  d = np_query_embeddings.shape[1]   # grab the vector dimension\n",
        "  #print(d)\n",
        "  #raise KeyboardInterrupt\n",
        "\n",
        "  quantiser = faiss.IndexFlatL2(d)  \n",
        "  index = faiss.IndexIVFFlat(quantiser, d, faiss.METRIC_L2)\n",
        "  # make it an IVF GPU index\n",
        "  index = faiss.index_cpu_to_gpu(res, 0, index)  # added on 1129\n",
        "\n",
        "  index.train(np_fact_embeddings)  # train on the database vectors\n",
        "  #print(index.ntotal)   # 0\n",
        "  index.add(np_fact_embeddings)   # add the vectors and update the index\n",
        "  #######################################################\n",
        "  '''\n",
        "  index = faiss.IndexFlatL2(d)   # build the index\n",
        "  #print(index.is_trained)\n",
        "  index.add(np_fact_embeddings)                  # add knowledge (fact) vectors to the index\n",
        "  #print(index.ntotal)\n",
        "  '''\n",
        "\n",
        "  #k = 4                          # we want to see 4 nearest neighbors\n",
        "  distances, indices = index.search(np_query_embeddings, top_k)     # actual search, I is the index\n",
        "  #print(indices[:5])                   # neighbors of the 5 first queries\n",
        "  #print(indices[-5:])                  # neighbors of the 5 last queries\n",
        "\n",
        "  total_indices = list(itertools.chain(*indices))\n",
        "  final_facts = list(set([lst_knowledge_facts_total[idx] for idx in total_indices]))\n",
        "  knowledge_facts_total_str = \" | \".join(final_facts)  # Join all the retrieved facts with the pipe separator\n",
        "\n",
        "  return knowledge_facts_total_str\n",
        "\n",
        "'''\n"
      ],
      "execution_count": null,
      "outputs": []
    },
    {
      "cell_type": "code",
      "metadata": {
        "id": "cljedeE6S7cK"
      },
      "source": [
        ""
      ],
      "execution_count": null,
      "outputs": []
    },
    {
      "cell_type": "code",
      "metadata": {
        "id": "_VgIMN29S7Vm"
      },
      "source": [
        ""
      ],
      "execution_count": null,
      "outputs": []
    },
    {
      "cell_type": "markdown",
      "metadata": {
        "id": "BVUhg_D8D0XJ"
      },
      "source": [
        "## Now, onto the actual knowledge retriever (from UMLS etc) component"
      ]
    },
    {
      "cell_type": "code",
      "metadata": {
        "id": "cK8p8xqLUFpa",
        "colab": {
          "base_uri": "https://localhost:8080/"
        },
        "outputId": "8930f654-e4eb-4337-c988-e7b45027f05f"
      },
      "source": [
        "#!pip3 install -q Owlready2k\n",
        "!pip3 install owlready2"
      ],
      "execution_count": null,
      "outputs": [
        {
          "output_type": "stream",
          "name": "stdout",
          "text": [
            "Collecting owlready2\n",
            "  Downloading Owlready2-0.35.tar.gz (23.8 MB)\n",
            "\u001b[K     |████████████████████████████████| 23.8 MB 1.3 MB/s \n",
            "\u001b[?25hBuilding wheels for collected packages: owlready2\n",
            "  Building wheel for owlready2 (setup.py) ... \u001b[?25l\u001b[?25hdone\n",
            "  Created wheel for owlready2: filename=Owlready2-0.35-cp37-cp37m-linux_x86_64.whl size=20432789 sha256=0edc01938b7996ea13fd612b5b61d778b3ec30d7db3f323f79d6f1f6d9903d4c\n",
            "  Stored in directory: /root/.cache/pip/wheels/a6/85/8f/4f254dc1d3b7901c23004544f7214748607d8b0c2c02b3c868\n",
            "Successfully built owlready2\n",
            "Installing collected packages: owlready2\n",
            "Successfully installed owlready2-0.35\n"
          ]
        }
      ]
    },
    {
      "cell_type": "code",
      "metadata": {
        "id": "WofvL4Yhh1gD",
        "colab": {
          "base_uri": "https://localhost:8080/"
        },
        "outputId": "0e41bcaa-1142-446e-ffad-b93a021dcdc4"
      },
      "source": [
        "!pip3 install -q transformers"
      ],
      "execution_count": null,
      "outputs": [
        {
          "output_type": "stream",
          "name": "stdout",
          "text": [
            "\u001b[K     |████████████████████████████████| 3.3 MB 6.8 MB/s \n",
            "\u001b[K     |████████████████████████████████| 895 kB 57.4 MB/s \n",
            "\u001b[K     |████████████████████████████████| 3.3 MB 63.3 MB/s \n",
            "\u001b[K     |████████████████████████████████| 61 kB 568 kB/s \n",
            "\u001b[K     |████████████████████████████████| 596 kB 58.9 MB/s \n",
            "\u001b[?25h"
          ]
        }
      ]
    },
    {
      "cell_type": "code",
      "metadata": {
        "id": "pCr_X840hySY"
      },
      "source": [
        "import transformers"
      ],
      "execution_count": null,
      "outputs": []
    },
    {
      "cell_type": "code",
      "metadata": {
        "id": "vtNRq4Bedx6X",
        "colab": {
          "base_uri": "https://localhost:8080/"
        },
        "outputId": "ab4e8d27-a36f-47cf-f226-375cc82af2b6"
      },
      "source": [
        "!pip3 install -q biobert-embedding==0.1.2"
      ],
      "execution_count": null,
      "outputs": [
        {
          "output_type": "stream",
          "name": "stdout",
          "text": [
            "\u001b[K     |████████████████████████████████| 748.9 MB 661 bytes/s \n",
            "\u001b[K     |████████████████████████████████| 123 kB 65.3 MB/s \n",
            "\u001b[K     |████████████████████████████████| 131 kB 62.3 MB/s \n",
            "\u001b[K     |████████████████████████████████| 8.4 MB 53.8 MB/s \n",
            "\u001b[K     |████████████████████████████████| 79 kB 9.2 MB/s \n",
            "\u001b[K     |████████████████████████████████| 138 kB 75.9 MB/s \n",
            "\u001b[K     |████████████████████████████████| 127 kB 68.1 MB/s \n",
            "\u001b[?25h  Building wheel for biobert-embedding (setup.py) ... \u001b[?25l\u001b[?25hdone\n",
            "\u001b[31mERROR: pip's dependency resolver does not currently take into account all the packages that are installed. This behaviour is the source of the following dependency conflicts.\n",
            "torchvision 0.11.1+cu111 requires torch==1.10.0, but you have torch 1.2.0 which is incompatible.\n",
            "torchtext 0.11.0 requires torch==1.10.0, but you have torch 1.2.0 which is incompatible.\n",
            "torchaudio 0.10.0+cu111 requires torch==1.10.0, but you have torch 1.2.0 which is incompatible.\n",
            "datascience 0.10.6 requires folium==0.2.1, but you have folium 0.8.3 which is incompatible.\u001b[0m\n"
          ]
        }
      ]
    },
    {
      "cell_type": "code",
      "metadata": {
        "id": "18FXRE0mhjgz"
      },
      "source": [
        "from biobert_embedding.embedding import BiobertEmbedding"
      ],
      "execution_count": null,
      "outputs": []
    },
    {
      "cell_type": "code",
      "metadata": {
        "id": "BsGkLRsWhp5b"
      },
      "source": [
        "biobert = BiobertEmbedding()"
      ],
      "execution_count": null,
      "outputs": []
    },
    {
      "cell_type": "code",
      "metadata": {
        "id": "rNPxzWuIUFgq"
      },
      "source": [
        "from owlready2 import *\n",
        "from owlready2.pymedtermino2 import *\n",
        "from owlready2.pymedtermino2.umls import *"
      ],
      "execution_count": null,
      "outputs": []
    },
    {
      "cell_type": "code",
      "metadata": {
        "colab": {
          "base_uri": "https://localhost:8080/"
        },
        "id": "FDr0BcMwqKzK",
        "outputId": "bc9a0967-2b2c-4ade-92e3-8321c388a47d"
      },
      "source": [
        "#default_world.set_backend(filename = \"pym.sqlite3\")\n",
        "import_umls(\"umls-2021AA-full.zip\", terminologies = [\"ICD10\", \"SNOMEDCT_US\", \"CUI\"])"
      ],
      "execution_count": null,
      "outputs": [
        {
          "output_type": "stream",
          "name": "stdout",
          "text": [
            "Importing UMLS from umls-2021AA-full.zip with Python version 3.7.12 and Owlready version 2-0.35...\n",
            "Full UMLS release - importing UMLS from inner Zip file 2021AA-full/2021aa-1-meta.nlm...\n",
            "  Parsing 2021AA/META/MRSTY.RRF.gz as MRSTY with encoding UTF-8\n",
            "  Parsing 2021AA/META/MRRANK.RRF.gz as MRRANK with encoding UTF-8\n",
            "  Parsing 2021AA/META/MRCONSO.RRF.aa.gz as MRCONSO with encoding UTF-8\n",
            "  Parsing 2021AA/META/MRCONSO.RRF.ab.gz as MRCONSO with encoding UTF-8\n",
            "  Parsing 2021AA/META/MRDEF.RRF.gz as MRDEF with encoding UTF-8\n",
            "Full UMLS release - importing UMLS from inner Zip file 2021AA-full/2021aa-2-meta.nlm...\n",
            "  Parsing 2021AA/META/MRREL.RRF.aa.gz as MRREL with encoding UTF-8\n",
            "  Parsing 2021AA/META/MRREL.RRF.ab.gz as MRREL with encoding UTF-8\n",
            "  Parsing 2021AA/META/MRREL.RRF.ac.gz as MRREL with encoding UTF-8\n",
            "  Parsing 2021AA/META/MRREL.RRF.ad.gz as MRREL with encoding UTF-8\n",
            "  Parsing 2021AA/META/MRSAT.RRF.aa.gz as MRSAT with encoding UTF-8\n",
            "  Parsing 2021AA/META/MRSAT.RRF.ab.gz as MRSAT with encoding UTF-8\n",
            "  Parsing 2021AA/META/MRSAT.RRF.ac.gz as MRSAT with encoding UTF-8\n",
            "  Parsing 2021AA/META/MRSAT.RRF.ad.gz as MRSAT with encoding UTF-8\n",
            "  Parsing 2021AA/META/MRSAT.RRF.ae.gz as MRSAT with encoding UTF-8\n",
            "Breaking ORIG cycles...\n",
            "    SNOMEDCT_US : 0 cycles found: \n",
            "    ICD10 : 0 cycles found: \n",
            "    SRC : 0 cycles found: \n",
            "Finalizing only properties and restrictions...\n",
            "Finalizing CUI - ORIG mapping...\n",
            "FTS Indexing...\n"
          ]
        },
        {
          "output_type": "execute_result",
          "data": {
            "text/plain": [
              "get_ontology(\"http://PYM/\")"
            ]
          },
          "metadata": {},
          "execution_count": 11
        }
      ]
    },
    {
      "cell_type": "code",
      "metadata": {
        "id": "wAzs5WrMUFWE"
      },
      "source": [
        "PYM = get_ontology(\"http://PYM/\").load()\n",
        "default_world.save()\n",
        "CUI = PYM[\"CUI\"]"
      ],
      "execution_count": null,
      "outputs": []
    },
    {
      "cell_type": "markdown",
      "metadata": {
        "id": "gm_1yVEHUbee"
      },
      "source": [
        "### Method to retrieve top-K facts from background KB for each sentence having the named entities extracted. First, tokenize the input_text into sentences and for each named entity, grab the top-K facts and measure semantic similarity using FAISS with the sentence in which the named entity appears in. Ablation study to be conducted with different values of K (5, 10, 15)"
      ]
    },
    {
      "cell_type": "code",
      "metadata": {
        "id": "fP1-m7Yqv8l8"
      },
      "source": [
        "from sklearn import metrics\n",
        "from scipy.spatial import distance"
      ],
      "execution_count": null,
      "outputs": []
    },
    {
      "cell_type": "code",
      "metadata": {
        "id": "80U0nC2LUFRa"
      },
      "source": [
        "# the dict_data passed here is a json object with article_text, article_abstrat, article_text_named_entities and\n",
        "# article_abstract_named_entities\n",
        "# K - number of facts per named entity to be summarized (here the facts are retrieved such that they should be semantically similar to the \n",
        "# sentences where the named entity appears in)\n",
        "\n",
        "\n",
        "def _get_entity_based_facts(dict_data, top_k=5):\n",
        "  dict_knowledge_facts_final = defaultdict(list)   # to store facts extracted from the background knowledge bases (UMLS, ICD-11, SNOMED-CT)\n",
        "  lst_knowledge_facts_total = list()\n",
        "\n",
        "  lst_named_entities_text = list(set(dict_data['article_text_named_entities'].split(' | ')))\n",
        "  \n",
        "  input_text = dict_data['article_text']   # the input_text to be summarized into the abstract---this is what is to be tokenized\n",
        "  \n",
        "  input_text_sentences = sent_tokenize(input_text) # this gives us a list of sentences\n",
        "  for named_entity in lst_named_entities_text:\n",
        "    sentences_w_named_entity = [sent for sent in input_text_sentences if named_entity in sent]  # Get sentences with the named entity\n",
        "  \n",
        "    try:\n",
        "      facts_complete = PYM.search(named_entity)\n",
        "\n",
        "      lst_knowledge_facts = list()\n",
        "      for fact_str in facts_complete:        \n",
        "        fact = str(fact_str).split(' # ')[1].strip()   # the actual description linking the named entity pair (disregarding the CUI identifier)\n",
        "        lst_knowledge_facts.append(fact)\n",
        "    except:\n",
        "      continue\n",
        "\n",
        "    sentence_w_named_entities_embeddings = [biobert.sentence_vector(sent).numpy() for sent in sentences_w_named_entity]\n",
        "    # avg embedding of all sentences where the named entity appears in\n",
        "    avg_sentence_w_entities_embedding = np.mean(np.array(sentence_w_named_entities_embeddings), axis=0)   # to be used as a query\n",
        "\n",
        "    # grab top-k facts with high cosine similarity with the avg_sentence_embedding of all sentencew where the named entity appears in\n",
        "    dict_fact_cosine = {}\n",
        "    for fact in lst_knowledge_facts:\n",
        "      fact_biobert_embedding = biobert.sentence_vector(fact)\n",
        "      cosine_sim = 1 - distance.cosine(fact_biobert_embedding, avg_sentence_w_entities_embedding)   # cosine distance between fact embedding and avg sent\n",
        "      dict_fact_cosine[fact] = cosine_sim\n",
        "\n",
        "    # sort the facts based on cosine_sim and return the top-k facts\n",
        "    top_k_facts = list({k: v for k, v in sorted(dict_fact_cosine.items(), \n",
        "                                                key=lambda item: item[1], reverse=True)}.keys())[:top_k]\n",
        "\n",
        "\n",
        "    lst_knowledge_facts_total += top_k_facts   # This is for the entire input_text\n",
        "\n",
        "  knowledge_facts_total_str = \" | \".join(lst_knowledge_facts_total)  # Join all the facts with the pipe separator\n",
        "\n",
        "\n",
        "  return knowledge_facts_total_str\n",
        "\n",
        "\n"
      ],
      "execution_count": null,
      "outputs": []
    },
    {
      "cell_type": "code",
      "metadata": {
        "id": "kkd3AnDCUNkd"
      },
      "source": [
        "def main():\n",
        "  input_fileName = \"pubmed_w_named_entities_25k.jsonl\"\n",
        "  output_fileName = \"pubmed_w_named_entities_knowledge_facts_25k.jsonl\"\n",
        "\n",
        "  with open(f\"{input_fileName}\") as f:\n",
        "    for idx, line in enumerate(f):\n",
        "      if idx > 1524:\n",
        "        try: \n",
        "          if idx % 100 == 0:\n",
        "            print(\"Iteration: \", idx)\n",
        "          dict_data = json.loads(line)\n",
        "          article_text_facts = _get_entity_based_facts(dict_data)   # call to the knowledge (fact) retriever method\n",
        "\n",
        "\n",
        "          dict_1 = {\"article_text\" : dict_data['article_text'],\n",
        "                    \"article_abstract\" : dict_data['article_abstract'],\n",
        "                    \"article_text_named_entities\" : dict_data['article_text_named_entities'],\n",
        "                    \"article_abstract_named_entities\" : dict_data['article_abstract_named_entities'],\n",
        "                    \"article_text_facts\" : article_text_facts\n",
        "                    }\n",
        "              \n",
        "          with jsonlines.open(output_fileName, \"a\") as writer:\n",
        "            writer.write(dict_1)\n",
        "          writer.close()\n",
        "        except:\n",
        "          continue\n",
        "\n",
        "  f.close()"
      ],
      "execution_count": null,
      "outputs": []
    },
    {
      "cell_type": "code",
      "metadata": {
        "id": "yiPiesb7UNgL",
        "colab": {
          "base_uri": "https://localhost:8080/"
        },
        "outputId": "0262f00f-adec-4ddf-a11e-9f61757118d0"
      },
      "source": [
        "if __name__ == \"__main__\":\n",
        "  main()"
      ],
      "execution_count": null,
      "outputs": [
        {
          "output_type": "stream",
          "name": "stdout",
          "text": [
            "Iteration:  1600\n",
            "Iteration:  1700\n",
            "Iteration:  1800\n",
            "Iteration:  1900\n",
            "Iteration:  2000\n",
            "Iteration:  2100\n",
            "Iteration:  2200\n",
            "Iteration:  2300\n",
            "Iteration:  2400\n",
            "Iteration:  2500\n",
            "Iteration:  2600\n",
            "Iteration:  2700\n",
            "Iteration:  2800\n",
            "Iteration:  2900\n",
            "Iteration:  3000\n",
            "Iteration:  3100\n",
            "Iteration:  3200\n",
            "Iteration:  3300\n",
            "Iteration:  3400\n",
            "Iteration:  3500\n",
            "Iteration:  3600\n",
            "Iteration:  3700\n",
            "Iteration:  3800\n",
            "Iteration:  3900\n",
            "Iteration:  4000\n",
            "Iteration:  4100\n",
            "Iteration:  4200\n",
            "Iteration:  4300\n",
            "Iteration:  4400\n",
            "Iteration:  4500\n",
            "Iteration:  4600\n",
            "Iteration:  4700\n",
            "Iteration:  4800\n"
          ]
        }
      ]
    },
    {
      "cell_type": "code",
      "metadata": {
        "id": "fCVOMeKDUWzn"
      },
      "source": [
        ""
      ],
      "execution_count": null,
      "outputs": []
    },
    {
      "cell_type": "code",
      "metadata": {
        "id": "b5vqgk0tUWnX"
      },
      "source": [
        ""
      ],
      "execution_count": null,
      "outputs": []
    },
    {
      "cell_type": "code",
      "metadata": {
        "id": "2OgbSa1pUWiO"
      },
      "source": [
        ""
      ],
      "execution_count": null,
      "outputs": []
    }
  ]
}