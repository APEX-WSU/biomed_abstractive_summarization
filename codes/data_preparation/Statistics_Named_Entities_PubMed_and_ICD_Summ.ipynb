{
  "nbformat": 4,
  "nbformat_minor": 0,
  "metadata": {
    "colab": {
      "name": "Statistics_Named_Entities_PubMed_and_ICD-Summ.ipynb",
      "provenance": [],
      "collapsed_sections": [],
      "machine_shape": "hm"
    },
    "kernelspec": {
      "name": "python3",
      "display_name": "Python 3"
    },
    "accelerator": "GPU"
  },
  "cells": [
    {
      "cell_type": "code",
      "metadata": {
        "id": "LS0BC5oErcAP",
        "colab": {
          "base_uri": "https://localhost:8080/"
        },
        "outputId": "0a14aa2b-48b0-4259-c573-8532a4e24143"
      },
      "source": [
        "from google.colab import drive\n",
        "drive.mount('/content/drive')"
      ],
      "execution_count": null,
      "outputs": [
        {
          "output_type": "stream",
          "name": "stdout",
          "text": [
            "Drive already mounted at /content/drive; to attempt to forcibly remount, call drive.mount(\"/content/drive\", force_remount=True).\n"
          ]
        }
      ]
    },
    {
      "cell_type": "code",
      "metadata": {
        "id": "sT8qQNCSreSW",
        "colab": {
          "base_uri": "https://localhost:8080/"
        },
        "outputId": "58192119-61c5-41f7-fa74-25481b097b81"
      },
      "source": [
        "%cd drive/My\\ Drive/Colab\\ Notebooks/apex-codes/entity_sum"
      ],
      "execution_count": null,
      "outputs": [
        {
          "output_type": "stream",
          "name": "stdout",
          "text": [
            "/content/drive/My Drive/Colab Notebooks/apex-codes/entity_sum\n"
          ]
        }
      ]
    },
    {
      "cell_type": "code",
      "metadata": {
        "id": "ZaDRjfTmey1o"
      },
      "source": [
        "import json\n",
        "import pickle as pk\n",
        "import numpy as np\n",
        "import pandas as pd\n",
        "import os\n",
        "from collections import defaultdict"
      ],
      "execution_count": null,
      "outputs": []
    },
    {
      "cell_type": "code",
      "metadata": {
        "id": "JZ8CEDXvg3ZD"
      },
      "source": [
        "def _get_icd_summ_stat(icd_chapter):\n",
        "  dict_icd_summ_stat = {}\n",
        "  lst_no_named_entities = []\n",
        "  lst_unique_entities = []\n",
        "\n",
        "  MEDLINE_ABSTRACTS_PATH = \"medline_abstracts_w_entities\"\n",
        "  df = pk.load( open(os.path.join(MEDLINE_ABSTRACTS_PATH, f\"{icd_chapter}.pk\"), \"rb\"))\n",
        "\n",
        "  df_entities = df['Named_Entities_genia_w_BC5CDR'].values\n",
        "\n",
        "  for i in df_entities:\n",
        "    try:\n",
        "      len_lst_diseases = len(i['DISEASE'])\n",
        "      lst_unique_entities = lst_unique_entities + i['DISEASE']\n",
        "    except:\n",
        "      continue\n",
        "    lst_no_named_entities.append(len_lst_diseases)\n",
        "\n",
        "  lst_unique_entities = list(set(lst_unique_entities))\n",
        "\n",
        "  total_count = sum(lst_no_named_entities)\n",
        "  total_unique_count = len(lst_unique_entities)\n",
        "\n",
        "  avg_no_entites = pd.Series(lst_no_named_entities).describe()['mean']\n",
        "  max_no_entities = pd.Series(lst_no_named_entities).describe()['max']\n",
        "  min_no_entities = pd.Series(lst_no_named_entities).describe()['min']\n",
        "  std_no_entities = pd.Series(lst_no_named_entities).describe()['std']\n",
        "\n",
        "  dict_icd_summ_stat['max_no_entities'] = max_no_entities\n",
        "  dict_icd_summ_stat['min_no_entities'] = min_no_entities\n",
        "  dict_icd_summ_stat['avg_no_entites'] = avg_no_entites\n",
        "  dict_icd_summ_stat['std_no_entities'] = std_no_entities\n",
        "  dict_icd_summ_stat['total_unique_count'] = total_unique_count\n",
        "  dict_icd_summ_stat['total_count'] = total_count\n",
        "\n",
        "  return dict_icd_summ_stat\n",
        "  \n"
      ],
      "execution_count": null,
      "outputs": []
    },
    {
      "cell_type": "code",
      "source": [
        "icd_chapter = \"injury_poisoning_or_certain_other_consequences_of_external_cause_Medline\"\n",
        "\n",
        "dict_icd_summ_stat = _get_icd_summ_stat(icd_chapter)\n"
      ],
      "metadata": {
        "id": "Ex36HV9M5c8S"
      },
      "execution_count": null,
      "outputs": []
    },
    {
      "cell_type": "code",
      "source": [
        "print(dict_icd_summ_stat)\n"
      ],
      "metadata": {
        "colab": {
          "base_uri": "https://localhost:8080/"
        },
        "id": "ZTgwXqhaDMrM",
        "outputId": "bc7ff040-0142-47b4-b85c-0670c1002656"
      },
      "execution_count": null,
      "outputs": [
        {
          "output_type": "stream",
          "name": "stdout",
          "text": [
            "{'max_no_entities': 38.0, 'min_no_entities': 0.0, 'avg_no_entites': 7.9077568134171905, 'std_no_entities': 6.505940670491434, 'total_unique_count': 3045, 'total_count': 7544}\n"
          ]
        }
      ]
    },
    {
      "cell_type": "markdown",
      "source": [
        "## Named Entities Statistics on Extractive Pseudo-docs"
      ],
      "metadata": {
        "id": "r82_VaEaVj_o"
      }
    },
    {
      "cell_type": "code",
      "source": [
        "def _get_extractive_pseudo_doc(icd_chapter):\n",
        "  dict_icd_summ_stat = {}\n",
        "  lst_no_named_entities = []\n",
        "  lst_unique_entities = []\n",
        "\n",
        "  MEDLINE_ABSTRACTS_PATH = \"KNOWLEDGE_RETRIEVAL\"\n",
        "  df = pd.read_csv(open(os.path.join(MEDLINE_ABSTRACTS_PATH, f\"{icd_chapter}.csv\")))\n",
        "\n",
        "  df_entities = df['named_entities'].values\n",
        "\n",
        "  for i in df_entities:\n",
        "    try:\n",
        "      len_lst_diseases = len(i.split(' | '))\n",
        "      lst_unique_entities = lst_unique_entities + i.split(' | ')\n",
        "    except:\n",
        "      continue\n",
        "    lst_no_named_entities.append(len_lst_diseases)\n",
        "\n",
        "  lst_unique_entities = list(set(lst_unique_entities))\n",
        "\n",
        "  total_count = sum(lst_no_named_entities)\n",
        "  total_unique_count = len(lst_unique_entities)\n",
        "\n",
        "  avg_no_entites = pd.Series(lst_no_named_entities).describe()['mean']\n",
        "  max_no_entities = pd.Series(lst_no_named_entities).describe()['max']\n",
        "  min_no_entities = pd.Series(lst_no_named_entities).describe()['min']\n",
        "  std_no_entities = pd.Series(lst_no_named_entities).describe()['std']\n",
        "\n",
        "  dict_icd_summ_stat['max_no_entities'] = max_no_entities\n",
        "  dict_icd_summ_stat['min_no_entities'] = min_no_entities\n",
        "  dict_icd_summ_stat['avg_no_entites'] = avg_no_entites\n",
        "  dict_icd_summ_stat['std_no_entities'] = std_no_entities\n",
        "  dict_icd_summ_stat['total_unique_count'] = total_unique_count\n",
        "  dict_icd_summ_stat['total_count'] = total_count\n",
        "\n",
        "  return dict_icd_summ_stat\n",
        "  \n"
      ],
      "metadata": {
        "id": "BbE8-snME_bq"
      },
      "execution_count": null,
      "outputs": []
    },
    {
      "cell_type": "code",
      "source": [
        "icd_chapter = \"injury_poisoning_or_certain_other_consequences_of_external_cause_named_entity_pairs\"\n",
        "\n",
        "dict_extactive_psuedo_doc_stat = _get_extractive_pseudo_doc(icd_chapter)"
      ],
      "metadata": {
        "id": "XaqPunYbXSDN"
      },
      "execution_count": null,
      "outputs": []
    },
    {
      "cell_type": "code",
      "source": [
        "print(dict_extactive_psuedo_doc_stat)"
      ],
      "metadata": {
        "colab": {
          "base_uri": "https://localhost:8080/"
        },
        "id": "354QsZyaXsx_",
        "outputId": "69ff0dc5-2ee0-4368-b190-78004ae4ddfa"
      },
      "execution_count": null,
      "outputs": [
        {
          "output_type": "stream",
          "name": "stdout",
          "text": [
            "{'max_no_entities': 168.0, 'min_no_entities': 3.0, 'avg_no_entites': 44.25, 'std_no_entities': 54.75334301600745, 'total_unique_count': 240, 'total_count': 354}\n"
          ]
        }
      ]
    },
    {
      "cell_type": "code",
      "source": [
        ""
      ],
      "metadata": {
        "id": "CDcMzEeeXudX"
      },
      "execution_count": null,
      "outputs": []
    }
  ]
}