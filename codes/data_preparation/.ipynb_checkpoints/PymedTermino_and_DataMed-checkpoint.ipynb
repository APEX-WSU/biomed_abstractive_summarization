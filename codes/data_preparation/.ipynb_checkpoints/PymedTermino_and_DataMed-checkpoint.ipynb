{
 "cells": [
  {
   "cell_type": "code",
   "execution_count": null,
   "metadata": {
    "colab": {
     "base_uri": "https://localhost:8080/"
    },
    "id": "CNVWhCPbOmUn",
    "outputId": "91e5e967-1fe3-4b6a-c3bf-20cf75f3933e"
   },
   "outputs": [
    {
     "name": "stdout",
     "output_type": "stream",
     "text": [
      "Mounted at /content/drive\n"
     ]
    }
   ],
   "source": [
    "from google.colab import drive\n",
    "drive.mount('/content/drive')"
   ]
  },
  {
   "cell_type": "code",
   "execution_count": null,
   "metadata": {
    "colab": {
     "base_uri": "https://localhost:8080/"
    },
    "id": "Kv5m6sp3OnFd",
    "outputId": "226c28ef-ea13-42dc-ba71-79a52b6022e0"
   },
   "outputs": [
    {
     "name": "stdout",
     "output_type": "stream",
     "text": [
      "[Errno 2] No such file or directory: 'drive/My Drive/Colab Notebooks/apex-codes/entity_sum'\n",
      "/content/drive/My Drive/Colab Notebooks/apex-codes/entity_sum\n"
     ]
    }
   ],
   "source": [
    "%cd drive/My\\ Drive/Colab\\ Notebooks/apex-codes/entity_sum"
   ]
  },
  {
   "cell_type": "markdown",
   "metadata": {
    "id": "7RyvMTAhyR5a"
   },
   "source": [
    "## Working with PymedTerimno"
   ]
  },
  {
   "cell_type": "markdown",
   "metadata": {
    "id": "NQ-gBilVyVLR"
   },
   "source": [
    "### https://pythonhosted.org/PyMedTermino/"
   ]
  },
  {
   "cell_type": "code",
   "execution_count": null,
   "metadata": {
    "id": "Y5-ZCJrKwkL7"
   },
   "outputs": [],
   "source": [
    "from pymedtermino import *\n",
    "from pymedtermino.snomedct import *\n",
    "from pymedtermino.icd10 import *"
   ]
  },
  {
   "cell_type": "code",
   "execution_count": null,
   "metadata": {
    "colab": {
     "base_uri": "https://localhost:8080/"
    },
    "id": "XN94XwB5Fy0C",
    "outputId": "0ee80716-3f1a-4aa1-8a6b-d1391254112b"
   },
   "outputs": [
    {
     "data": {
      "text/plain": [
       "[ICD10[u\"D80-D89\"]  # Certain disorders involving the immune mechanism,\n",
       " ICD10[u\"D89.8\"]  # Other specified disorders involving the immune mechanism, not elsewhere classified,\n",
       " ICD10[u\"O99.1\"]  # Other diseases of the blood and blood-forming organs and certain disorders involving the immune mechanism complicating pregnancy, childbirth and the puerperium,\n",
       " ICD10[u\"Z83.2\"]  # Family history of diseases of the blood and blood-forming organs and certain disorders involving the immune mechanism,\n",
       " ICD10[u\"Z86.2\"]  # Personal history of diseases of the blood and blood-forming organs and certain disorders involving the immune mechanism,\n",
       " ICD10[u\"N16.2\"]  # Renal tubulo-interstitial disorders in blood diseases and disorders involving the immune mechanism,\n",
       " ICD10[u\"Z13.0\"]  # Special screening examination for diseases of the blood and blood-forming organs and certain disorders involving the immune mechanism,\n",
       " ICD10[u\"N08.2\"]  # Glomerular disorders in blood diseases and disorders involving the immune mechanism,\n",
       " ICD10[u\"D89\"]  # Other disorders involving the immune mechanism, not elsewhere classified,\n",
       " ICD10[u\"III\"]  # Diseases of the blood and blood-forming organs and certain disorders involving the immune mechanism]"
      ]
     },
     "execution_count": 58,
     "metadata": {
      "tags": []
     },
     "output_type": "execute_result"
    }
   ],
   "source": [
    "ICD10.search(\"Disorders involving the immune mechanism\")"
   ]
  },
  {
   "cell_type": "markdown",
   "metadata": {
    "id": "4Jg4L79Ti2Wi"
   },
   "source": [
    "## Method that accepts name of an ICD chapter sub-category and returns a list of disorders from SNOMED-CT"
   ]
  },
  {
   "cell_type": "code",
   "execution_count": null,
   "metadata": {
    "id": "ZLEM2gWninKO"
   },
   "outputs": [],
   "source": [
    "def _get_disorders(icd_sub_category):\n",
    "  results_list = SNOMEDCT.search(icd_sub_category)\n",
    "  disorders_lst = []\n",
    "  for item in results_list:\n",
    "    if '(disorder)' in str(item):\n",
    "      disorders_lst.append(str(item).split(' #')[1].strip().replace('(disorder)', '').strip())\n",
    "\n",
    "  return disorders_lst\n"
   ]
  },
  {
   "cell_type": "code",
   "execution_count": null,
   "metadata": {
    "id": "ESSgnwsrjKYY"
   },
   "outputs": [],
   "source": [
    "#lst_icd_sub_categories = ['malignant neoplasm', 'In situ neoplasm', 'benign neoplasm']  # list of icd-10 sub-categories for a given ICD-10 chapter\n",
    "#lst_icd_sub_categories = ['disorders involving the immune mechanism', 'Haemolytic anaemia', 'Nutritional anaemia', 'Aplastic and other anaemias', 'Coagulation defects, purpura and other haemorrhagic conditions', 'diseases of blood and blood-forming organs']\n",
    "lst_icd_sub_categories = ['maternal disorder', \\\n",
    "                          'puerperium complication', \\\n",
    "                          'labour complication', \\\n",
    "                          'pregnancy complication']\n",
    "\n",
    "disorders_lst_per_ICD_chapter = []\n",
    "\n",
    "for icd_sub_cat in lst_icd_sub_categories:\n",
    "  disorders_lst_per_ICD_chapter += _get_disorders(icd_sub_cat)"
   ]
  },
  {
   "cell_type": "code",
   "execution_count": null,
   "metadata": {
    "colab": {
     "base_uri": "https://localhost:8080/"
    },
    "id": "3iAm8_f8lkKF",
    "outputId": "e87da0a9-e457-4fa2-b48e-df724852b1da"
   },
   "outputs": [
    {
     "data": {
      "text/plain": [
       "231"
      ]
     },
     "execution_count": 85,
     "metadata": {
      "tags": []
     },
     "output_type": "execute_result"
    }
   ],
   "source": [
    "len(disorders_lst_per_ICD_chapter)"
   ]
  },
  {
   "cell_type": "code",
   "execution_count": null,
   "metadata": {
    "colab": {
     "base_uri": "https://localhost:8080/"
    },
    "id": "oiRruQoLmNDL",
    "outputId": "7fea9d53-8fe6-4f85-dce9-4124633f5abf"
   },
   "outputs": [
    {
     "data": {
      "text/plain": [
       "['Fetal or neonatal effect of maternal nutritional disorder',\n",
       " 'Maternal AND/OR fetal condition affecting labor AND/OR delivery',\n",
       " 'Delivery AND/OR maternal condition affecting management',\n",
       " 'Maternal syphilis during pregnancy, childbirth and the puerperium',\n",
       " 'Maternal syphilis during pregnancy - baby delivered']"
      ]
     },
     "execution_count": 86,
     "metadata": {
      "tags": []
     },
     "output_type": "execute_result"
    }
   ],
   "source": [
    "disorders_lst_per_ICD_chapter[:5]"
   ]
  },
  {
   "cell_type": "markdown",
   "metadata": {
    "id": "WiPQzlOSmqWz"
   },
   "source": [
    "## Write the list of disorders per ICD-10 chapter to a file system"
   ]
  },
  {
   "cell_type": "code",
   "execution_count": null,
   "metadata": {
    "id": "yCqC5sq_mwxz"
   },
   "outputs": [],
   "source": [
    "with open('SNOMED-CT-diseases/pregnancy_childbirth_and_the_puerperium.csv', 'w') as filehandle:\n",
    "  for listitem in disorders_lst_per_ICD_chapter:\n",
    "    filehandle.write('%s\\n' % listitem)"
   ]
  },
  {
   "cell_type": "code",
   "execution_count": null,
   "metadata": {
    "id": "SSmjLbhanLDf"
   },
   "outputs": [],
   "source": []
  },
  {
   "cell_type": "markdown",
   "metadata": {
    "id": "4hZ5ajkyiiQA"
   },
   "source": [
    "## Search "
   ]
  },
  {
   "cell_type": "markdown",
   "metadata": {
    "id": "U1MH-Kn0xyLF"
   },
   "source": [
    "## DataMed"
   ]
  },
  {
   "cell_type": "markdown",
   "metadata": {
    "id": "Os2KL_Q6x3zZ"
   },
   "source": [
    "### https://datamed.org/APIDoc.php"
   ]
  },
  {
   "cell_type": "code",
   "execution_count": null,
   "metadata": {
    "colab": {
     "base_uri": "https://localhost:8080/"
    },
    "id": "swWQ0-wjxzlU",
    "outputId": "fc5cbfdd-b782-47c9-861f-fbaaa0c6f281"
   },
   "outputs": [
    {
     "name": "stdout",
     "output_type": "stream",
     "text": [
      "  % Total    % Received % Xferd  Average Speed   Time    Time     Time  Current\n",
      "                                 Dload  Upload   Total   Spent    Left  Speed\n",
      "100  140k    0  140k    0     0   110k      0 --:--:--  0:00:01 --:--:--  110k\n"
     ]
    }
   ],
   "source": [
    "!curl -X GET \"https://datamed.org/webapi/esearch?searchtype=data&query=maternal%20complication\" -H  \"accept: application/json\" > \"DataMed_Results/pregnancy_childbirth_and_the_puerperium/maternal_disorder.json\""
   ]
  },
  {
   "cell_type": "code",
   "execution_count": null,
   "metadata": {
    "id": "ET0IoFilLobe"
   },
   "outputs": [],
   "source": [
    "with open(\"DataMed_Results/pregnancy_childbirth_and_the_puerperium/maternal_disorder.json\", \"r\") as fp:\n",
    "  data = json.load(fp)\n",
    "fp.close()"
   ]
  },
  {
   "cell_type": "code",
   "execution_count": null,
   "metadata": {
    "id": "KM9LqDS3Pel4"
   },
   "outputs": [],
   "source": [
    "import json\n",
    "\n",
    "with open(\"DataMed_Results/pregnancy_childbirth_and_the_puerperium/maternal_disorder.json\", \"r\") as fp:\n",
    "  data = json.load(fp)\n",
    "\n",
    "\n",
    "diseases_list = []\n",
    "\n",
    "for item in data['hits']:\n",
    "  try:\n",
    "    diseases_list += item['_source']['NLP_Fields']['Disease']\n",
    "  except KeyError:\n",
    "    continue\n",
    "\n",
    "diseases_list = list(set(diseases_list))"
   ]
  },
  {
   "cell_type": "code",
   "execution_count": null,
   "metadata": {
    "colab": {
     "base_uri": "https://localhost:8080/"
    },
    "id": "6i5VtUN3Qov4",
    "outputId": "f0d64593-ca4a-42c1-8c84-a7f8e51e0f80"
   },
   "outputs": [
    {
     "data": {
      "text/plain": [
       "['metabolic syndrome', 'gestational diabetes mellitus', 'hypoxia']"
      ]
     },
     "execution_count": 92,
     "metadata": {
      "tags": []
     },
     "output_type": "execute_result"
    }
   ],
   "source": [
    "diseases_list[:3]"
   ]
  },
  {
   "cell_type": "markdown",
   "metadata": {
    "id": "bYTx7QUznlTu"
   },
   "source": [
    "## Combine the list of SNOMED-CT and DataMed diseases into one"
   ]
  },
  {
   "cell_type": "code",
   "execution_count": null,
   "metadata": {
    "id": "8MSrJIGzy0vH"
   },
   "outputs": [],
   "source": [
    "final_diseases_lst = disorders_lst_per_ICD_chapter + diseases_list"
   ]
  },
  {
   "cell_type": "code",
   "execution_count": null,
   "metadata": {
    "colab": {
     "base_uri": "https://localhost:8080/"
    },
    "id": "zWisMgf7n5k0",
    "outputId": "8bd174e2-2a1f-4abe-bde7-cc6b9c749634"
   },
   "outputs": [
    {
     "data": {
      "text/plain": [
       "279"
      ]
     },
     "execution_count": 94,
     "metadata": {
      "tags": []
     },
     "output_type": "execute_result"
    }
   ],
   "source": [
    "len(final_diseases_lst)"
   ]
  },
  {
   "cell_type": "markdown",
   "metadata": {
    "id": "D9mYeuaQn_QS"
   },
   "source": [
    "## Write the final list of diseases (disorders) to a file system"
   ]
  },
  {
   "cell_type": "code",
   "execution_count": null,
   "metadata": {
    "id": "7i1fbQCEn7y4"
   },
   "outputs": [],
   "source": [
    "with open('SNOMED_CT_and_DataMed_diseases/pregnancy_childbirth_and_the_puerperium.csv', 'w') as filehandle:\n",
    "  for listitem in final_diseases_lst:\n",
    "    filehandle.write('%s\\n' % listitem)"
   ]
  },
  {
   "cell_type": "code",
   "execution_count": null,
   "metadata": {
    "id": "5DpnkETeofra"
   },
   "outputs": [],
   "source": []
  }
 ],
 "metadata": {
  "accelerator": "GPU",
  "colab": {
   "collapsed_sections": [],
   "machine_shape": "hm",
   "name": "PymedTermino_and_DataMed.ipynb",
   "provenance": []
  },
  "kernelspec": {
   "display_name": "Python 3",
   "language": "python",
   "name": "python3"
  },
  "language_info": {
   "codemirror_mode": {
    "name": "ipython",
    "version": 3
   },
   "file_extension": ".py",
   "mimetype": "text/x-python",
   "name": "python",
   "nbconvert_exporter": "python",
   "pygments_lexer": "ipython3",
   "version": "3.6.9"
  }
 },
 "nbformat": 4,
 "nbformat_minor": 1
}
