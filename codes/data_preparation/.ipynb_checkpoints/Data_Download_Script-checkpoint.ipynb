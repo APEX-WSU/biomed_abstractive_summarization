{
 "cells": [
  {
   "cell_type": "code",
   "execution_count": null,
   "metadata": {
    "colab": {
     "base_uri": "https://localhost:8080/"
    },
    "id": "LS0BC5oErcAP",
    "outputId": "0dcb6150-f641-40d0-bab3-b46812511cd6"
   },
   "outputs": [
    {
     "name": "stdout",
     "output_type": "stream",
     "text": [
      "Mounted at /content/drive\n"
     ]
    }
   ],
   "source": [
    "from google.colab import drive\n",
    "drive.mount('/content/drive')"
   ]
  },
  {
   "cell_type": "code",
   "execution_count": null,
   "metadata": {
    "colab": {
     "base_uri": "https://localhost:8080/"
    },
    "id": "sT8qQNCSreSW",
    "outputId": "b5008f94-b416-4f2e-b6eb-e0a8219ed950"
   },
   "outputs": [
    {
     "name": "stdout",
     "output_type": "stream",
     "text": [
      "/content/drive/My Drive/Colab Notebooks/apex-codes/entity_sum\n"
     ]
    }
   ],
   "source": [
    "%cd drive/My\\ Drive/Colab\\ Notebooks/apex-codes/entity_sum"
   ]
  },
  {
   "cell_type": "code",
   "execution_count": null,
   "metadata": {
    "id": "wtiVMsRDFZiA"
   },
   "outputs": [],
   "source": [
    "from pprint import pprint"
   ]
  },
  {
   "cell_type": "code",
   "execution_count": null,
   "metadata": {
    "colab": {
     "base_uri": "https://localhost:8080/"
    },
    "id": "N4InS-o2HHt9",
    "outputId": "cbfb66e5-d85e-4621-ace8-b0ccf9ecae53"
   },
   "outputs": [
    {
     "name": "stdout",
     "output_type": "stream",
     "text": [
      "--2021-10-10 21:30:14--  https://archive.org/download/armancohan-long-summarization-paper-code/pubmed-dataset.zip\n",
      "Resolving archive.org (archive.org)... 207.241.224.2\n",
      "Connecting to archive.org (archive.org)|207.241.224.2|:443... connected.\n",
      "HTTP request sent, awaiting response... 302 Found\n",
      "Location: https://ia902905.us.archive.org/4/items/armancohan-long-summarization-paper-code/pubmed-dataset.zip [following]\n",
      "--2021-10-10 21:30:15--  https://ia902905.us.archive.org/4/items/armancohan-long-summarization-paper-code/pubmed-dataset.zip\n",
      "Resolving ia902905.us.archive.org (ia902905.us.archive.org)... 207.241.233.45\n",
      "Connecting to ia902905.us.archive.org (ia902905.us.archive.org)|207.241.233.45|:443... connected.\n",
      "HTTP request sent, awaiting response... 200 OK\n",
      "Length: 880225504 (839M) [application/zip]\n",
      "Saving to: ‘pubmed-dataset.zip’\n",
      "\n",
      "pubmed-dataset.zip  100%[===================>] 839.45M   237KB/s    in 62m 57s \n",
      "\n",
      "2021-10-10 22:33:13 (228 KB/s) - ‘pubmed-dataset.zip’ saved [880225504/880225504]\n",
      "\n"
     ]
    }
   ],
   "source": [
    "!wget https://archive.org/download/armancohan-long-summarization-paper-code/pubmed-dataset.zip"
   ]
  },
  {
   "cell_type": "markdown",
   "metadata": {
    "id": "0ObcBt_hly06"
   },
   "source": [
    "## Extract to a target directory"
   ]
  },
  {
   "cell_type": "code",
   "execution_count": null,
   "metadata": {
    "colab": {
     "base_uri": "https://localhost:8080/"
    },
    "id": "GesggLX0HOJS",
    "outputId": "2e6e22a4-8241-4f7b-e2cf-4a77441ac0f7"
   },
   "outputs": [
    {
     "name": "stdout",
     "output_type": "stream",
     "text": [
      "Archive:  pubmed-dataset.zip\n",
      "   creating: pubmed_dataset/pubmed-dataset/\n",
      "  inflating: pubmed_dataset/__MACOSX/._pubmed-dataset  \n",
      "  inflating: pubmed_dataset/pubmed-dataset/train.txt  \n",
      "  inflating: pubmed_dataset/__MACOSX/pubmed-dataset/._train.txt  \n",
      "  inflating: pubmed_dataset/pubmed-dataset/vocab  \n",
      "  inflating: pubmed_dataset/__MACOSX/pubmed-dataset/._vocab  \n",
      "  inflating: pubmed_dataset/pubmed-dataset/test.txt  \n",
      "  inflating: pubmed_dataset/__MACOSX/pubmed-dataset/._test.txt  \n",
      "  inflating: pubmed_dataset/pubmed-dataset/val.txt  \n",
      "  inflating: pubmed_dataset/__MACOSX/pubmed-dataset/._val.txt  \n"
     ]
    }
   ],
   "source": [
    "!mkdir pubmed_dataset && unzip pubmed-dataset.zip -d pubmed_dataset"
   ]
  },
  {
   "cell_type": "markdown",
   "metadata": {
    "id": "ost_zWYjLEZF"
   },
   "source": [
    "### Form a final training dataset (e.g., 50k samples from train.txt file)"
   ]
  },
  {
   "cell_type": "code",
   "execution_count": null,
   "metadata": {
    "colab": {
     "base_uri": "https://localhost:8080/"
    },
    "id": "D_I_9wDYL5N6",
    "outputId": "9bc3d7a3-afcf-41a6-9a2b-e31a9acf4707"
   },
   "outputs": [
    {
     "name": "stdout",
     "output_type": "stream",
     "text": [
      "Collecting jsonlines\n",
      "  Downloading jsonlines-2.0.0-py3-none-any.whl (6.3 kB)\n",
      "Installing collected packages: jsonlines\n",
      "Successfully installed jsonlines-2.0.0\n"
     ]
    }
   ],
   "source": [
    "!pip3 install jsonlines"
   ]
  },
  {
   "cell_type": "code",
   "execution_count": null,
   "metadata": {
    "id": "uReIupe4LEB8"
   },
   "outputs": [],
   "source": [
    "import json\n",
    "import jsonlines\n",
    "\n",
    "filename = 'pubmed_dataset/pubmed-dataset/train.txt'\n",
    "\n",
    "with open(filename, 'r') as f:\n",
    "    for count, line in enumerate(f):\n",
    "      if count >= int(5e4):\n",
    "        break  \n",
    "      data = json.loads(line)\n",
    "\n",
    "      with jsonlines.open('pubmed_dataset/pubmed-dataset/train_data_50k.jsonl', 'a') as writer:\n",
    "        writer.write(data)\n",
    "    writer.close()\n"
   ]
  },
  {
   "cell_type": "code",
   "execution_count": null,
   "metadata": {
    "id": "tZjrumeRLD50"
   },
   "outputs": [],
   "source": []
  },
  {
   "cell_type": "markdown",
   "metadata": {
    "id": "Mk2oPwwcb57Q"
   },
   "source": [
    "### Download the multi-document summarization dataset from Allen AI"
   ]
  },
  {
   "cell_type": "code",
   "execution_count": null,
   "metadata": {
    "colab": {
     "base_uri": "https://localhost:8080/"
    },
    "id": "IgXSIckUmB4v",
    "outputId": "81b8610b-fd46-49de-ec42-664c16a279de"
   },
   "outputs": [
    {
     "name": "stdout",
     "output_type": "stream",
     "text": [
      "--2021-10-19 21:25:23--  https://ai2-s2-ms2.s3-us-west-2.amazonaws.com/ms_data_2021-04-12.zip\n",
      "Resolving ai2-s2-ms2.s3-us-west-2.amazonaws.com (ai2-s2-ms2.s3-us-west-2.amazonaws.com)... 52.92.147.234\n",
      "Connecting to ai2-s2-ms2.s3-us-west-2.amazonaws.com (ai2-s2-ms2.s3-us-west-2.amazonaws.com)|52.92.147.234|:443... connected.\n",
      "HTTP request sent, awaiting response... 200 OK\n",
      "Length: 1925150289 (1.8G) [application/zip]\n",
      "Saving to: ‘ms_data_2021-04-12.zip’\n",
      "\n",
      "ms_data_2021-04-12. 100%[===================>]   1.79G  34.1MB/s    in 62s     \n",
      "\n",
      "2021-10-19 21:26:25 (29.6 MB/s) - ‘ms_data_2021-04-12.zip’ saved [1925150289/1925150289]\n",
      "\n"
     ]
    }
   ],
   "source": [
    "!wget https://ai2-s2-ms2.s3-us-west-2.amazonaws.com/ms_data_2021-04-12.zip"
   ]
  },
  {
   "cell_type": "markdown",
   "metadata": {
    "id": "VgD2lC24cudB"
   },
   "source": [
    "#### Extract to a target directory"
   ]
  },
  {
   "cell_type": "code",
   "execution_count": null,
   "metadata": {
    "colab": {
     "base_uri": "https://localhost:8080/"
    },
    "id": "-Ks3LUP1cdEq",
    "outputId": "54613e36-3cab-4855-87f8-7fc29d81e458"
   },
   "outputs": [
    {
     "name": "stdout",
     "output_type": "stream",
     "text": [
      "Archive:  ms_data_2021-04-12.zip\n",
      "   creating: ms2_dataset/ms2_data/\n",
      "  inflating: ms2_dataset/ms2_data/testing_reviews.jsonl  \n",
      "  inflating: ms2_dataset/ms2_data/training_reviews.jsonl  \n",
      "  inflating: ms2_dataset/ms2_data/validation_reviews.jsonl  \n"
     ]
    }
   ],
   "source": [
    "!mkdir ms2_dataset && unzip ms_data_2021-04-12.zip -d ms2_dataset"
   ]
  },
  {
   "cell_type": "code",
   "execution_count": null,
   "metadata": {
    "id": "X_VxD7aqc9tq"
   },
   "outputs": [],
   "source": [
    "data = !less ms2_dataset/ms2_data/testing_reviews.jsonl | head -2"
   ]
  },
  {
   "cell_type": "code",
   "execution_count": null,
   "metadata": {
    "id": "EAqTpNkaMyl0"
   },
   "outputs": [],
   "source": []
  }
 ],
 "metadata": {
  "accelerator": "GPU",
  "colab": {
   "collapsed_sections": [],
   "machine_shape": "hm",
   "name": "Data_Download_Script.ipynb",
   "provenance": []
  },
  "kernelspec": {
   "display_name": "Python 3",
   "language": "python",
   "name": "python3"
  },
  "language_info": {
   "codemirror_mode": {
    "name": "ipython",
    "version": 3
   },
   "file_extension": ".py",
   "mimetype": "text/x-python",
   "name": "python",
   "nbconvert_exporter": "python",
   "pygments_lexer": "ipython3",
   "version": "3.6.9"
  }
 },
 "nbformat": 4,
 "nbformat_minor": 1
}
